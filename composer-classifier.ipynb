{
  "cells": [
    {
      "cell_type": "markdown",
      "metadata": {
        "id": "AXFl2FWx6LFd"
      },
      "source": [
        "# Predicting Composer of a Musical Piece\n",
        "## AAI-511 Team 7 Final Project\n",
        "\n",
        "Team 7:  Tyler Foreman\n",
        "\n",
        "University of San Diego, Applied Artificial Intelligence\n",
        "\n",
        "Date:  August 12, 2024\n",
        "\n",
        "GitHub Repository: https://github.com/t4ai/aai-511-final-project"
      ]
    },
    {
      "cell_type": "code",
      "source": [
        "!pip install pretty_midi"
      ],
      "metadata": {
        "id": "FHizMHGjiiRV"
      },
      "execution_count": null,
      "outputs": []
    },
    {
      "cell_type": "code",
      "execution_count": 8,
      "metadata": {
        "id": "Fejk4xer6LFh"
      },
      "outputs": [],
      "source": [
        "import numpy as np\n",
        "import pandas as pd\n",
        "import matplotlib.pyplot as plt\n",
        "import seaborn as sns\n",
        "import tensorflow as tf\n",
        "from tensorflow import keras\n",
        "from sklearn.preprocessing import StandardScaler\n",
        "from sklearn.model_selection import train_test_split\n",
        "\n",
        "import os\n",
        "import shutil\n",
        "import pretty_midi"
      ]
    },
    {
      "cell_type": "markdown",
      "source": [
        "## Data Organization and Exploratory Analysis\n",
        "\n",
        "1.  Extract music files for only the composers of interest - remove all others\n",
        "2.  Conduct EDA on the target data:\n",
        "  - Undersand the nature of the files and formats\n",
        "  - Evaluate the distribution of samples by composer/class\n",
        "  - Evaluate the length of the music tracks (in time)\n",
        "  - Identify any preparation or augmentation tasks that may be necessary"
      ],
      "metadata": {
        "id": "-Y09okub8tc3"
      }
    },
    {
      "cell_type": "code",
      "source": [
        "# mount google drive\n",
        "from google.colab import drive\n",
        "drive.mount('/content/drive')"
      ],
      "metadata": {
        "id": "0IrWse0G8m22",
        "outputId": "b14ad3f6-03d3-4ad9-c858-98e9562d367e",
        "colab": {
          "base_uri": "https://localhost:8080/"
        }
      },
      "execution_count": 9,
      "outputs": [
        {
          "output_type": "stream",
          "name": "stdout",
          "text": [
            "Drive already mounted at /content/drive; to attempt to forcibly remount, call drive.mount(\"/content/drive\", force_remount=True).\n"
          ]
        }
      ]
    },
    {
      "cell_type": "code",
      "source": [
        "# setup target data locations\n",
        "root_data_path = '/content/drive/MyDrive/USD/datasets/composers_music'\n",
        "target_data_path = '/content/drive/MyDrive/USD/datasets/composers_music/target'"
      ],
      "metadata": {
        "id": "bsL7aQ8i9USK"
      },
      "execution_count": 10,
      "outputs": []
    },
    {
      "cell_type": "code",
      "source": [
        "# setup data prep parameters\n",
        "SAMPLE_FREQUENCY = 20\n",
        "MAX_SEQUENCE_LENGTH = 1000\n",
        "\n",
        "# helper function for moving and flattening directories by composer\n",
        "def move_and_flatten(composer_name):\n",
        "  # setup destination\n",
        "  target_path = target_data_path + '/' + composer_name\n",
        "  os.makedirs(target_path, exist_ok=True)\n",
        "\n",
        "  # get source dir and subdirs\n",
        "  composer_path = root_data_path + '/midiclassics/' + composer_name\n",
        "  composer_dirs = [x[0] for x in os.walk(composer_path)]\n",
        "\n",
        "  # traverse directories\n",
        "  num_files = 0\n",
        "  for dir in composer_dirs:\n",
        "    for filename in os.listdir(dir):\n",
        "      if os.path.isfile(os.path.join(dir, filename)):\n",
        "        shutil.copyfile(dir + '/' + filename, target_path + '/' + filename)\n",
        "        num_files += 1\n",
        "  print(f'Moved {num_files} files for {composer_name}')\n",
        "\n",
        "# helper function for loading piano rolls for a composer\n",
        "def load_piano_rolls(composer_name, frequency):\n",
        "  piano_rolls = []\n",
        "  target_path = target_data_path + '/' + composer_name\n",
        "  for filename in os.listdir(target_path):\n",
        "    if filename.lower().endswith('.mid'):\n",
        "      try:\n",
        "        midi = pretty_midi.PrettyMIDI(target_path + '/' + filename)\n",
        "        midi.remove_invalid_notes()\n",
        "        piano_rolls.append(midi.get_piano_roll(fs=frequency))\n",
        "      except Exception as e:\n",
        "        print(f'Error reading {filename}: {e}')\n",
        "  return piano_rolls"
      ],
      "metadata": {
        "id": "o75LriLa_q-1"
      },
      "execution_count": 11,
      "outputs": []
    },
    {
      "cell_type": "code",
      "source": [
        "# extract only the files from our taget 4 composers: Bach, Beethoven, Mozart, Chopin\n",
        "os.makedirs(target_data_path, exist_ok=True)\n",
        "\n",
        "move_and_flatten('Bach')\n",
        "move_and_flatten('Beethoven')\n",
        "move_and_flatten('Mozart')\n",
        "move_and_flatten('Chopin')"
      ],
      "metadata": {
        "id": "_SMhPNBa93yF",
        "outputId": "e6b407ff-2021-45b9-c137-f2994f5856e7",
        "colab": {
          "base_uri": "https://localhost:8080/"
        }
      },
      "execution_count": 107,
      "outputs": [
        {
          "output_type": "stream",
          "name": "stdout",
          "text": [
            "Moved 1025 files for Bach\n",
            "Moved 219 files for Beethoven\n",
            "Moved 257 files for Mozart\n",
            "Moved 136 files for Chopin\n"
          ]
        }
      ]
    },
    {
      "cell_type": "code",
      "source": [
        "# visualize class balances\n",
        "class_samples = {\"Bach\": 1025, \"Beethoven\": 219, \"Mozart\": 257, \"Chopin\": 136}\n",
        "plt.bar(class_samples.keys(), class_samples.values())\n",
        "plt.xlabel('Composer')\n",
        "plt.ylabel('Number of Samples')\n",
        "plt.title('Class Distribution')\n",
        "plt.show()"
      ],
      "metadata": {
        "id": "Lui6WXpHB0JS",
        "outputId": "208de345-e48c-427c-d66a-1b1dd19016ba",
        "colab": {
          "base_uri": "https://localhost:8080/",
          "height": 472
        }
      },
      "execution_count": 25,
      "outputs": [
        {
          "output_type": "display_data",
          "data": {
            "text/plain": [
              "<Figure size 640x480 with 1 Axes>"
            ],
            "image/png": "[encoded data removed]"
          },
          "metadata": {}
        }
      ]
    },
    {
      "cell_type": "code",
      "source": [
        "# get the distribution of sequence lengths of the pieces (in time)\n",
        "bach_data = load_piano_rolls('Bach', SAMPLE_FREQUENCY)\n",
        "beethoven_data = load_piano_rolls('Beethoven', SAMPLE_FREQUENCY)\n",
        "mozart_data = load_piano_rolls('Mozart', SAMPLE_FREQUENCY)\n",
        "chopin_data = load_piano_rolls('Chopin', SAMPLE_FREQUENCY)"
      ],
      "metadata": {
        "id": "jiGHqXaRiL2p",
        "outputId": "c96f5e6c-b5f4-4e47-da99-67719c7104c7",
        "colab": {
          "base_uri": "https://localhost:8080/"
        }
      },
      "execution_count": 12,
      "outputs": [
        {
          "output_type": "stream",
          "name": "stderr",
          "text": [
            "/usr/local/lib/python3.10/dist-packages/pretty_midi/pretty_midi.py:100: RuntimeWarning: Tempo, Key or Time signature change events found on non-zero tracks.  This is not a valid type 0 or type 1 MIDI file.  Tempo, Key or Time Signature may be wrong.\n",
            "  warnings.warn(\n"
          ]
        },
        {
          "output_type": "stream",
          "name": "stdout",
          "text": [
            "Error reading Anhang 14-3.mid: Could not decode key with 3 flats and mode 255\n",
            "Error reading K281 Piano Sonata n03 3mov.mid: Could not decode key with 2 flats and mode 2\n"
          ]
        }
      ]
    },
    {
      "cell_type": "code",
      "source": [
        "# build length distribution\n",
        "length_distributions = []\n",
        "def append_lengths(data):\n",
        "  for i in range(len(data)):\n",
        "    length_distributions.append(data[i].shape[1])"
      ],
      "metadata": {
        "id": "wH3XKSIo_KY8"
      },
      "execution_count": 14,
      "outputs": []
    },
    {
      "cell_type": "code",
      "source": [
        "append_lengths(bach_data)\n",
        "append_lengths(beethoven_data)\n",
        "append_lengths(mozart_data)\n",
        "append_lengths(chopin_data)"
      ],
      "metadata": {
        "id": "X867QebDGtp3"
      },
      "execution_count": 15,
      "outputs": []
    },
    {
      "cell_type": "code",
      "source": [
        "sns.histplot(length_distributions)\n",
        "plt.xlabel('Sequence Length')\n",
        "plt.ylabel('Frequency')\n",
        "plt.title('Distribution of Sequence Lengths')\n",
        "plt.show()"
      ],
      "metadata": {
        "id": "9328x-AG_iix",
        "outputId": "e29f8c5e-97f9-47e6-e1ae-0f4ceba2a723",
        "colab": {
          "base_uri": "https://localhost:8080/",
          "height": 472
        }
      },
      "execution_count": 16,
      "outputs": [
        {
          "output_type": "display_data",
          "data": {
            "text/plain": [
              "<Figure size 640x480 with 1 Axes>"
            ],
            "image/png": "[encoded data removed]"
          },
          "metadata": {}
        }
      ]
    },
    {
      "cell_type": "code",
      "source": [],
      "metadata": {
        "id": "mAq8jSaj8DZc"
      },
      "execution_count": null,
      "outputs": []
    }
  ],
  "metadata": {
    "language_info": {
      "name": "python"
    },
    "colab": {
      "provenance": []
    },
    "kernelspec": {
      "name": "python3",
      "display_name": "Python 3"
    }
  },
  "nbformat": 4,
  "nbformat_minor": 0
}