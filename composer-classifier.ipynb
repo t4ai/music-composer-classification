{
  "cells": [
    {
      "cell_type": "markdown",
      "metadata": {
        "id": "AXFl2FWx6LFd"
      },
      "source": [
        "# Predicting Composer of a Musical Piece\n",
        "## AAI-511 Team 7 Final Project\n",
        "\n",
        "Team 7:  Tyler Foreman\n",
        "\n",
        "University of San Diego, Applied Artificial Intelligence\n",
        "\n",
        "Date:  August 12, 2024\n",
        "\n",
        "GitHub Repository: https://github.com/t4ai/aai-511-final-project"
      ]
    },
    {
      "cell_type": "code",
      "source": [
        "!pip install pretty_midi\n",
        "!pip install tensorflow_transform"
      ],
      "metadata": {
        "id": "FHizMHGjiiRV",
        "colab": {
          "base_uri": "https://localhost:8080/"
        },
        "outputId": "c0f972cb-ddb7-43f1-8830-df2fcd255104"
      },
      "execution_count": 1,
      "outputs": [
        {
          "output_type": "stream",
          "name": "stdout",
          "text": [
            "Requirement already satisfied: pretty_midi in /usr/local/lib/python3.10/dist-packages (0.2.10)\n",
            "Requirement already satisfied: numpy>=1.7.0 in /usr/local/lib/python3.10/dist-packages (from pretty_midi) (1.26.4)\n",
            "Requirement already satisfied: mido>=1.1.16 in /usr/local/lib/python3.10/dist-packages (from pretty_midi) (1.3.2)\n",
            "Requirement already satisfied: six in /usr/local/lib/python3.10/dist-packages (from pretty_midi) (1.16.0)\n",
            "Requirement already satisfied: packaging~=23.1 in /usr/local/lib/python3.10/dist-packages (from mido>=1.1.16->pretty_midi) (23.2)\n",
            "Requirement already satisfied: tensorflow_transform in /usr/local/lib/python3.10/dist-packages (1.15.0)\n",
            "Requirement already satisfied: absl-py<2.0.0,>=0.9 in /usr/local/lib/python3.10/dist-packages (from tensorflow_transform) (1.4.0)\n",
            "Requirement already satisfied: numpy>=1.22.0 in /usr/local/lib/python3.10/dist-packages (from tensorflow_transform) (1.26.4)\n",
            "Requirement already satisfied: pyarrow<11,>=10 in /usr/local/lib/python3.10/dist-packages (from tensorflow_transform) (10.0.1)\n",
            "Requirement already satisfied: pydot<2,>=1.2 in /usr/local/lib/python3.10/dist-packages (from tensorflow_transform) (1.4.2)\n",
            "Requirement already satisfied: tensorflow<2.16,>=2.15 in /usr/local/lib/python3.10/dist-packages (from tensorflow_transform) (2.15.1)\n",
            "Requirement already satisfied: tensorflow-metadata<1.16.0,>=1.15.0 in /usr/local/lib/python3.10/dist-packages (from tensorflow_transform) (1.15.0)\n",
            "Requirement already satisfied: tfx-bsl<1.16.0,>=1.15.1 in /usr/local/lib/python3.10/dist-packages (from tensorflow_transform) (1.15.1)\n",
            "Requirement already satisfied: apache-beam<3,>=2.47 in /usr/local/lib/python3.10/dist-packages (from apache-beam[gcp]<3,>=2.47; python_version < \"3.11\"->tensorflow_transform) (2.57.0)\n",
            "Requirement already satisfied: protobuf<5,>=3.20.3 in /usr/local/lib/python3.10/dist-packages (from tensorflow_transform) (3.20.3)\n",
            "Requirement already satisfied: crcmod<2.0,>=1.7 in /usr/local/lib/python3.10/dist-packages (from apache-beam<3,>=2.47->apache-beam[gcp]<3,>=2.47; python_version < \"3.11\"->tensorflow_transform) (1.7)\n",
            "Requirement already satisfied: orjson<4,>=3.9.7 in /usr/local/lib/python3.10/dist-packages (from apache-beam<3,>=2.47->apache-beam[gcp]<3,>=2.47; python_version < \"3.11\"->tensorflow_transform) (3.10.6)\n",
            "Requirement already satisfied: dill<0.3.2,>=0.3.1.1 in /usr/local/lib/python3.10/dist-packages (from apache-beam<3,>=2.47->apache-beam[gcp]<3,>=2.47; python_version < \"3.11\"->tensorflow_transform) (0.3.1.1)\n",
            "Requirement already satisfied: cloudpickle~=2.2.1 in /usr/local/lib/python3.10/dist-packages (from apache-beam<3,>=2.47->apache-beam[gcp]<3,>=2.47; python_version < \"3.11\"->tensorflow_transform) (2.2.1)\n",
            "Requirement already satisfied: fastavro<2,>=0.23.6 in /usr/local/lib/python3.10/dist-packages (from apache-beam<3,>=2.47->apache-beam[gcp]<3,>=2.47; python_version < \"3.11\"->tensorflow_transform) (1.9.5)\n",
            "Requirement already satisfied: fasteners<1.0,>=0.3 in /usr/local/lib/python3.10/dist-packages (from apache-beam<3,>=2.47->apache-beam[gcp]<3,>=2.47; python_version < \"3.11\"->tensorflow_transform) (0.19)\n",
            "Requirement already satisfied: grpcio!=1.48.0,!=1.59.*,!=1.60.*,!=1.61.*,!=1.62.0,!=1.62.1,<2,>=1.33.1 in /usr/local/lib/python3.10/dist-packages (from apache-beam<3,>=2.47->apache-beam[gcp]<3,>=2.47; python_version < \"3.11\"->tensorflow_transform) (1.64.1)\n",
            "Requirement already satisfied: hdfs<3.0.0,>=2.1.0 in /usr/local/lib/python3.10/dist-packages (from apache-beam<3,>=2.47->apache-beam[gcp]<3,>=2.47; python_version < \"3.11\"->tensorflow_transform) (2.7.3)\n",
            "Requirement already satisfied: httplib2<0.23.0,>=0.8 in /usr/local/lib/python3.10/dist-packages (from apache-beam<3,>=2.47->apache-beam[gcp]<3,>=2.47; python_version < \"3.11\"->tensorflow_transform) (0.22.0)\n",
            "Requirement already satisfied: jsonschema<5.0.0,>=4.0.0 in /usr/local/lib/python3.10/dist-packages (from apache-beam<3,>=2.47->apache-beam[gcp]<3,>=2.47; python_version < \"3.11\"->tensorflow_transform) (4.23.0)\n",
            "Requirement already satisfied: jsonpickle<4.0.0,>=3.0.0 in /usr/local/lib/python3.10/dist-packages (from apache-beam<3,>=2.47->apache-beam[gcp]<3,>=2.47; python_version < \"3.11\"->tensorflow_transform) (3.2.2)\n",
            "Requirement already satisfied: objsize<0.8.0,>=0.6.1 in /usr/local/lib/python3.10/dist-packages (from apache-beam<3,>=2.47->apache-beam[gcp]<3,>=2.47; python_version < \"3.11\"->tensorflow_transform) (0.7.0)\n",
            "Requirement already satisfied: packaging>=22.0 in /usr/local/lib/python3.10/dist-packages (from apache-beam<3,>=2.47->apache-beam[gcp]<3,>=2.47; python_version < \"3.11\"->tensorflow_transform) (23.2)\n",
            "Requirement already satisfied: pymongo<5.0.0,>=3.8.0 in /usr/local/lib/python3.10/dist-packages (from apache-beam<3,>=2.47->apache-beam[gcp]<3,>=2.47; python_version < \"3.11\"->tensorflow_transform) (4.8.0)\n",
            "Requirement already satisfied: proto-plus<2,>=1.7.1 in /usr/local/lib/python3.10/dist-packages (from apache-beam<3,>=2.47->apache-beam[gcp]<3,>=2.47; python_version < \"3.11\"->tensorflow_transform) (1.24.0)\n",
            "Requirement already satisfied: python-dateutil<3,>=2.8.0 in /usr/local/lib/python3.10/dist-packages (from apache-beam<3,>=2.47->apache-beam[gcp]<3,>=2.47; python_version < \"3.11\"->tensorflow_transform) (2.8.2)\n",
            "Requirement already satisfied: pytz>=2018.3 in /usr/local/lib/python3.10/dist-packages (from apache-beam<3,>=2.47->apache-beam[gcp]<3,>=2.47; python_version < \"3.11\"->tensorflow_transform) (2024.1)\n",
            "Requirement already satisfied: redis<6,>=5.0.0 in /usr/local/lib/python3.10/dist-packages (from apache-beam<3,>=2.47->apache-beam[gcp]<3,>=2.47; python_version < \"3.11\"->tensorflow_transform) (5.0.8)\n",
            "Requirement already satisfied: regex>=2020.6.8 in /usr/local/lib/python3.10/dist-packages (from apache-beam<3,>=2.47->apache-beam[gcp]<3,>=2.47; python_version < \"3.11\"->tensorflow_transform) (2024.5.15)\n",
            "Requirement already satisfied: requests!=2.32.*,<3.0.0,>=2.24.0 in /usr/local/lib/python3.10/dist-packages (from apache-beam<3,>=2.47->apache-beam[gcp]<3,>=2.47; python_version < \"3.11\"->tensorflow_transform) (2.31.0)\n",
            "Requirement already satisfied: typing-extensions>=3.7.0 in /usr/local/lib/python3.10/dist-packages (from apache-beam<3,>=2.47->apache-beam[gcp]<3,>=2.47; python_version < \"3.11\"->tensorflow_transform) (4.12.2)\n",
            "Requirement already satisfied: zstandard<1,>=0.18.0 in /usr/local/lib/python3.10/dist-packages (from apache-beam<3,>=2.47->apache-beam[gcp]<3,>=2.47; python_version < \"3.11\"->tensorflow_transform) (0.23.0)\n",
            "Requirement already satisfied: pyarrow-hotfix<1 in /usr/local/lib/python3.10/dist-packages (from apache-beam<3,>=2.47->apache-beam[gcp]<3,>=2.47; python_version < \"3.11\"->tensorflow_transform) (0.6)\n",
            "Requirement already satisfied: js2py<1,>=0.74 in /usr/local/lib/python3.10/dist-packages (from apache-beam<3,>=2.47->apache-beam[gcp]<3,>=2.47; python_version < \"3.11\"->tensorflow_transform) (0.74)\n",
            "Requirement already satisfied: cachetools<6,>=3.1.0 in /usr/local/lib/python3.10/dist-packages (from apache-beam[gcp]<3,>=2.47; python_version < \"3.11\"->tensorflow_transform) (5.4.0)\n",
            "Requirement already satisfied: google-api-core<3,>=2.0.0 in /usr/local/lib/python3.10/dist-packages (from apache-beam[gcp]<3,>=2.47; python_version < \"3.11\"->tensorflow_transform) (2.19.1)\n",
            "Requirement already satisfied: google-apitools<0.5.32,>=0.5.31 in /usr/local/lib/python3.10/dist-packages (from apache-beam[gcp]<3,>=2.47; python_version < \"3.11\"->tensorflow_transform) (0.5.31)\n",
            "Requirement already satisfied: google-auth<3,>=1.18.0 in /usr/local/lib/python3.10/dist-packages (from apache-beam[gcp]<3,>=2.47; python_version < \"3.11\"->tensorflow_transform) (2.27.0)\n",
            "Requirement already satisfied: google-auth-httplib2<0.3.0,>=0.1.0 in /usr/local/lib/python3.10/dist-packages (from apache-beam[gcp]<3,>=2.47; python_version < \"3.11\"->tensorflow_transform) (0.2.0)\n",
            "Requirement already satisfied: google-cloud-datastore<3,>=2.0.0 in /usr/local/lib/python3.10/dist-packages (from apache-beam[gcp]<3,>=2.47; python_version < \"3.11\"->tensorflow_transform) (2.19.0)\n",
            "Requirement already satisfied: google-cloud-pubsub<3,>=2.1.0 in /usr/local/lib/python3.10/dist-packages (from apache-beam[gcp]<3,>=2.47; python_version < \"3.11\"->tensorflow_transform) (2.23.0)\n",
            "Requirement already satisfied: google-cloud-pubsublite<2,>=1.2.0 in /usr/local/lib/python3.10/dist-packages (from apache-beam[gcp]<3,>=2.47; python_version < \"3.11\"->tensorflow_transform) (1.11.1)\n",
            "Requirement already satisfied: google-cloud-storage<3,>=2.16.0 in /usr/local/lib/python3.10/dist-packages (from apache-beam[gcp]<3,>=2.47; python_version < \"3.11\"->tensorflow_transform) (2.18.0)\n",
            "Requirement already satisfied: google-cloud-bigquery<4,>=2.0.0 in /usr/local/lib/python3.10/dist-packages (from apache-beam[gcp]<3,>=2.47; python_version < \"3.11\"->tensorflow_transform) (3.25.0)\n",
            "Requirement already satisfied: google-cloud-bigquery-storage<3,>=2.6.3 in /usr/local/lib/python3.10/dist-packages (from apache-beam[gcp]<3,>=2.47; python_version < \"3.11\"->tensorflow_transform) (2.25.0)\n",
            "Requirement already satisfied: google-cloud-core<3,>=2.0.0 in /usr/local/lib/python3.10/dist-packages (from apache-beam[gcp]<3,>=2.47; python_version < \"3.11\"->tensorflow_transform) (2.4.1)\n",
            "Requirement already satisfied: google-cloud-bigtable<3,>=2.19.0 in /usr/local/lib/python3.10/dist-packages (from apache-beam[gcp]<3,>=2.47; python_version < \"3.11\"->tensorflow_transform) (2.25.0)\n",
            "Requirement already satisfied: google-cloud-spanner<4,>=3.0.0 in /usr/local/lib/python3.10/dist-packages (from apache-beam[gcp]<3,>=2.47; python_version < \"3.11\"->tensorflow_transform) (3.48.0)\n",
            "Requirement already satisfied: google-cloud-dlp<4,>=3.0.0 in /usr/local/lib/python3.10/dist-packages (from apache-beam[gcp]<3,>=2.47; python_version < \"3.11\"->tensorflow_transform) (3.20.0)\n",
            "Requirement already satisfied: google-cloud-language<3,>=2.0 in /usr/local/lib/python3.10/dist-packages (from apache-beam[gcp]<3,>=2.47; python_version < \"3.11\"->tensorflow_transform) (2.13.4)\n",
            "Requirement already satisfied: google-cloud-videointelligence<3,>=2.0 in /usr/local/lib/python3.10/dist-packages (from apache-beam[gcp]<3,>=2.47; python_version < \"3.11\"->tensorflow_transform) (2.13.5)\n",
            "Requirement already satisfied: google-cloud-vision<4,>=2 in /usr/local/lib/python3.10/dist-packages (from apache-beam[gcp]<3,>=2.47; python_version < \"3.11\"->tensorflow_transform) (3.7.4)\n",
            "Requirement already satisfied: google-cloud-recommendations-ai<0.11.0,>=0.1.0 in /usr/local/lib/python3.10/dist-packages (from apache-beam[gcp]<3,>=2.47; python_version < \"3.11\"->tensorflow_transform) (0.10.12)\n",
            "Requirement already satisfied: google-cloud-aiplatform<2.0,>=1.26.0 in /usr/local/lib/python3.10/dist-packages (from apache-beam[gcp]<3,>=2.47; python_version < \"3.11\"->tensorflow_transform) (1.59.0)\n",
            "Requirement already satisfied: pyparsing>=2.1.4 in /usr/local/lib/python3.10/dist-packages (from pydot<2,>=1.2->tensorflow_transform) (3.1.2)\n",
            "Requirement already satisfied: astunparse>=1.6.0 in /usr/local/lib/python3.10/dist-packages (from tensorflow<2.16,>=2.15->tensorflow_transform) (1.6.3)\n",
            "Requirement already satisfied: flatbuffers>=23.5.26 in /usr/local/lib/python3.10/dist-packages (from tensorflow<2.16,>=2.15->tensorflow_transform) (24.3.25)\n",
            "Requirement already satisfied: gast!=0.5.0,!=0.5.1,!=0.5.2,>=0.2.1 in /usr/local/lib/python3.10/dist-packages (from tensorflow<2.16,>=2.15->tensorflow_transform) (0.6.0)\n",
            "Requirement already satisfied: google-pasta>=0.1.1 in /usr/local/lib/python3.10/dist-packages (from tensorflow<2.16,>=2.15->tensorflow_transform) (0.2.0)\n",
            "Requirement already satisfied: h5py>=2.9.0 in /usr/local/lib/python3.10/dist-packages (from tensorflow<2.16,>=2.15->tensorflow_transform) (3.11.0)\n",
            "Requirement already satisfied: libclang>=13.0.0 in /usr/local/lib/python3.10/dist-packages (from tensorflow<2.16,>=2.15->tensorflow_transform) (18.1.1)\n",
            "Requirement already satisfied: ml-dtypes~=0.3.1 in /usr/local/lib/python3.10/dist-packages (from tensorflow<2.16,>=2.15->tensorflow_transform) (0.3.2)\n",
            "Requirement already satisfied: opt-einsum>=2.3.2 in /usr/local/lib/python3.10/dist-packages (from tensorflow<2.16,>=2.15->tensorflow_transform) (3.3.0)\n",
            "Requirement already satisfied: setuptools in /usr/local/lib/python3.10/dist-packages (from tensorflow<2.16,>=2.15->tensorflow_transform) (71.0.4)\n",
            "Requirement already satisfied: six>=1.12.0 in /usr/local/lib/python3.10/dist-packages (from tensorflow<2.16,>=2.15->tensorflow_transform) (1.16.0)\n",
            "Requirement already satisfied: termcolor>=1.1.0 in /usr/local/lib/python3.10/dist-packages (from tensorflow<2.16,>=2.15->tensorflow_transform) (2.4.0)\n",
            "Requirement already satisfied: wrapt<1.15,>=1.11.0 in /usr/local/lib/python3.10/dist-packages (from tensorflow<2.16,>=2.15->tensorflow_transform) (1.14.1)\n",
            "Requirement already satisfied: tensorflow-io-gcs-filesystem>=0.23.1 in /usr/local/lib/python3.10/dist-packages (from tensorflow<2.16,>=2.15->tensorflow_transform) (0.37.1)\n",
            "Requirement already satisfied: tensorboard<2.16,>=2.15 in /usr/local/lib/python3.10/dist-packages (from tensorflow<2.16,>=2.15->tensorflow_transform) (2.15.2)\n",
            "Requirement already satisfied: tensorflow-estimator<2.16,>=2.15.0 in /usr/local/lib/python3.10/dist-packages (from tensorflow<2.16,>=2.15->tensorflow_transform) (2.15.0)\n",
            "Requirement already satisfied: keras<2.16,>=2.15.0 in /usr/local/lib/python3.10/dist-packages (from tensorflow<2.16,>=2.15->tensorflow_transform) (2.15.0)\n",
            "Requirement already satisfied: google-api-python-client<2,>=1.7.11 in /usr/local/lib/python3.10/dist-packages (from tfx-bsl<1.16.0,>=1.15.1->tensorflow_transform) (1.12.11)\n",
            "Requirement already satisfied: pandas<2,>=1.0 in /usr/local/lib/python3.10/dist-packages (from tfx-bsl<1.16.0,>=1.15.1->tensorflow_transform) (1.5.3)\n",
            "Requirement already satisfied: tensorflow-serving-api<3,>=2.13.0 in /usr/local/lib/python3.10/dist-packages (from tfx-bsl<1.16.0,>=1.15.1->tensorflow_transform) (2.15.1)\n",
            "Requirement already satisfied: wheel<1.0,>=0.23.0 in /usr/local/lib/python3.10/dist-packages (from astunparse>=1.6.0->tensorflow<2.16,>=2.15->tensorflow_transform) (0.43.0)\n",
            "Requirement already satisfied: googleapis-common-protos<2.0.dev0,>=1.56.2 in /usr/local/lib/python3.10/dist-packages (from google-api-core<3,>=2.0.0->apache-beam[gcp]<3,>=2.47; python_version < \"3.11\"->tensorflow_transform) (1.63.2)\n",
            "Requirement already satisfied: uritemplate<4dev,>=3.0.0 in /usr/local/lib/python3.10/dist-packages (from google-api-python-client<2,>=1.7.11->tfx-bsl<1.16.0,>=1.15.1->tensorflow_transform) (3.0.1)\n",
            "Requirement already satisfied: oauth2client>=1.4.12 in /usr/local/lib/python3.10/dist-packages (from google-apitools<0.5.32,>=0.5.31->apache-beam[gcp]<3,>=2.47; python_version < \"3.11\"->tensorflow_transform) (4.1.3)\n",
            "Requirement already satisfied: pyasn1-modules>=0.2.1 in /usr/local/lib/python3.10/dist-packages (from google-auth<3,>=1.18.0->apache-beam[gcp]<3,>=2.47; python_version < \"3.11\"->tensorflow_transform) (0.4.0)\n",
            "Requirement already satisfied: rsa<5,>=3.1.4 in /usr/local/lib/python3.10/dist-packages (from google-auth<3,>=1.18.0->apache-beam[gcp]<3,>=2.47; python_version < \"3.11\"->tensorflow_transform) (4.9)\n",
            "Requirement already satisfied: google-cloud-resource-manager<3.0.0dev,>=1.3.3 in /usr/local/lib/python3.10/dist-packages (from google-cloud-aiplatform<2.0,>=1.26.0->apache-beam[gcp]<3,>=2.47; python_version < \"3.11\"->tensorflow_transform) (1.12.4)\n",
            "Requirement already satisfied: shapely<3.0.0dev in /usr/local/lib/python3.10/dist-packages (from google-cloud-aiplatform<2.0,>=1.26.0->apache-beam[gcp]<3,>=2.47; python_version < \"3.11\"->tensorflow_transform) (2.0.5)\n",
            "Requirement already satisfied: pydantic<3 in /usr/local/lib/python3.10/dist-packages (from google-cloud-aiplatform<2.0,>=1.26.0->apache-beam[gcp]<3,>=2.47; python_version < \"3.11\"->tensorflow_transform) (2.8.2)\n",
            "Requirement already satisfied: docstring-parser<1 in /usr/local/lib/python3.10/dist-packages (from google-cloud-aiplatform<2.0,>=1.26.0->apache-beam[gcp]<3,>=2.47; python_version < \"3.11\"->tensorflow_transform) (0.16)\n",
            "Requirement already satisfied: google-resumable-media<3.0dev,>=0.6.0 in /usr/local/lib/python3.10/dist-packages (from google-cloud-bigquery<4,>=2.0.0->apache-beam[gcp]<3,>=2.47; python_version < \"3.11\"->tensorflow_transform) (2.7.1)\n",
            "Requirement already satisfied: grpc-google-iam-v1<1.0.0dev,>=0.12.4 in /usr/local/lib/python3.10/dist-packages (from google-cloud-bigtable<3,>=2.19.0->apache-beam[gcp]<3,>=2.47; python_version < \"3.11\"->tensorflow_transform) (0.13.1)\n",
            "Requirement already satisfied: grpcio-status>=1.33.2 in /usr/local/lib/python3.10/dist-packages (from google-cloud-pubsub<3,>=2.1.0->apache-beam[gcp]<3,>=2.47; python_version < \"3.11\"->tensorflow_transform) (1.48.2)\n",
            "Requirement already satisfied: overrides<8.0.0,>=6.0.1 in /usr/local/lib/python3.10/dist-packages (from google-cloud-pubsublite<2,>=1.2.0->apache-beam[gcp]<3,>=2.47; python_version < \"3.11\"->tensorflow_transform) (7.7.0)\n",
            "Requirement already satisfied: sqlparse>=0.4.4 in /usr/local/lib/python3.10/dist-packages (from google-cloud-spanner<4,>=3.0.0->apache-beam[gcp]<3,>=2.47; python_version < \"3.11\"->tensorflow_transform) (0.5.1)\n",
            "Requirement already satisfied: grpc-interceptor>=0.15.4 in /usr/local/lib/python3.10/dist-packages (from google-cloud-spanner<4,>=3.0.0->apache-beam[gcp]<3,>=2.47; python_version < \"3.11\"->tensorflow_transform) (0.15.4)\n",
            "Requirement already satisfied: google-crc32c<2.0dev,>=1.0 in /usr/local/lib/python3.10/dist-packages (from google-cloud-storage<3,>=2.16.0->apache-beam[gcp]<3,>=2.47; python_version < \"3.11\"->tensorflow_transform) (1.5.0)\n",
            "Requirement already satisfied: docopt in /usr/local/lib/python3.10/dist-packages (from hdfs<3.0.0,>=2.1.0->apache-beam<3,>=2.47->apache-beam[gcp]<3,>=2.47; python_version < \"3.11\"->tensorflow_transform) (0.6.2)\n",
            "Requirement already satisfied: tzlocal>=1.2 in /usr/local/lib/python3.10/dist-packages (from js2py<1,>=0.74->apache-beam<3,>=2.47->apache-beam[gcp]<3,>=2.47; python_version < \"3.11\"->tensorflow_transform) (5.2)\n",
            "Requirement already satisfied: pyjsparser>=2.5.1 in /usr/local/lib/python3.10/dist-packages (from js2py<1,>=0.74->apache-beam<3,>=2.47->apache-beam[gcp]<3,>=2.47; python_version < \"3.11\"->tensorflow_transform) (2.7.1)\n",
            "Requirement already satisfied: attrs>=22.2.0 in /usr/local/lib/python3.10/dist-packages (from jsonschema<5.0.0,>=4.0.0->apache-beam<3,>=2.47->apache-beam[gcp]<3,>=2.47; python_version < \"3.11\"->tensorflow_transform) (23.2.0)\n",
            "Requirement already satisfied: jsonschema-specifications>=2023.03.6 in /usr/local/lib/python3.10/dist-packages (from jsonschema<5.0.0,>=4.0.0->apache-beam<3,>=2.47->apache-beam[gcp]<3,>=2.47; python_version < \"3.11\"->tensorflow_transform) (2023.12.1)\n",
            "Requirement already satisfied: referencing>=0.28.4 in /usr/local/lib/python3.10/dist-packages (from jsonschema<5.0.0,>=4.0.0->apache-beam<3,>=2.47->apache-beam[gcp]<3,>=2.47; python_version < \"3.11\"->tensorflow_transform) (0.35.1)\n",
            "Requirement already satisfied: rpds-py>=0.7.1 in /usr/local/lib/python3.10/dist-packages (from jsonschema<5.0.0,>=4.0.0->apache-beam<3,>=2.47->apache-beam[gcp]<3,>=2.47; python_version < \"3.11\"->tensorflow_transform) (0.19.1)\n",
            "Requirement already satisfied: dnspython<3.0.0,>=1.16.0 in /usr/local/lib/python3.10/dist-packages (from pymongo<5.0.0,>=3.8.0->apache-beam<3,>=2.47->apache-beam[gcp]<3,>=2.47; python_version < \"3.11\"->tensorflow_transform) (2.6.1)\n",
            "Requirement already satisfied: async-timeout>=4.0.3 in /usr/local/lib/python3.10/dist-packages (from redis<6,>=5.0.0->apache-beam<3,>=2.47->apache-beam[gcp]<3,>=2.47; python_version < \"3.11\"->tensorflow_transform) (4.0.3)\n",
            "Requirement already satisfied: charset-normalizer<4,>=2 in /usr/local/lib/python3.10/dist-packages (from requests!=2.32.*,<3.0.0,>=2.24.0->apache-beam<3,>=2.47->apache-beam[gcp]<3,>=2.47; python_version < \"3.11\"->tensorflow_transform) (3.3.2)\n",
            "Requirement already satisfied: idna<4,>=2.5 in /usr/local/lib/python3.10/dist-packages (from requests!=2.32.*,<3.0.0,>=2.24.0->apache-beam<3,>=2.47->apache-beam[gcp]<3,>=2.47; python_version < \"3.11\"->tensorflow_transform) (3.7)\n",
            "Requirement already satisfied: urllib3<3,>=1.21.1 in /usr/local/lib/python3.10/dist-packages (from requests!=2.32.*,<3.0.0,>=2.24.0->apache-beam<3,>=2.47->apache-beam[gcp]<3,>=2.47; python_version < \"3.11\"->tensorflow_transform) (2.0.7)\n",
            "Requirement already satisfied: certifi>=2017.4.17 in /usr/local/lib/python3.10/dist-packages (from requests!=2.32.*,<3.0.0,>=2.24.0->apache-beam<3,>=2.47->apache-beam[gcp]<3,>=2.47; python_version < \"3.11\"->tensorflow_transform) (2024.7.4)\n",
            "Requirement already satisfied: google-auth-oauthlib<2,>=0.5 in /usr/local/lib/python3.10/dist-packages (from tensorboard<2.16,>=2.15->tensorflow<2.16,>=2.15->tensorflow_transform) (1.2.1)\n",
            "Requirement already satisfied: markdown>=2.6.8 in /usr/local/lib/python3.10/dist-packages (from tensorboard<2.16,>=2.15->tensorflow<2.16,>=2.15->tensorflow_transform) (3.6)\n",
            "Requirement already satisfied: tensorboard-data-server<0.8.0,>=0.7.0 in /usr/local/lib/python3.10/dist-packages (from tensorboard<2.16,>=2.15->tensorflow<2.16,>=2.15->tensorflow_transform) (0.7.2)\n",
            "Requirement already satisfied: werkzeug>=1.0.1 in /usr/local/lib/python3.10/dist-packages (from tensorboard<2.16,>=2.15->tensorflow<2.16,>=2.15->tensorflow_transform) (3.0.3)\n",
            "Requirement already satisfied: requests-oauthlib>=0.7.0 in /usr/local/lib/python3.10/dist-packages (from google-auth-oauthlib<2,>=0.5->tensorboard<2.16,>=2.15->tensorflow<2.16,>=2.15->tensorflow_transform) (1.3.1)\n",
            "Requirement already satisfied: pyasn1>=0.1.7 in /usr/local/lib/python3.10/dist-packages (from oauth2client>=1.4.12->google-apitools<0.5.32,>=0.5.31->apache-beam[gcp]<3,>=2.47; python_version < \"3.11\"->tensorflow_transform) (0.6.0)\n",
            "Requirement already satisfied: annotated-types>=0.4.0 in /usr/local/lib/python3.10/dist-packages (from pydantic<3->google-cloud-aiplatform<2.0,>=1.26.0->apache-beam[gcp]<3,>=2.47; python_version < \"3.11\"->tensorflow_transform) (0.7.0)\n",
            "Requirement already satisfied: pydantic-core==2.20.1 in /usr/local/lib/python3.10/dist-packages (from pydantic<3->google-cloud-aiplatform<2.0,>=1.26.0->apache-beam[gcp]<3,>=2.47; python_version < \"3.11\"->tensorflow_transform) (2.20.1)\n",
            "Requirement already satisfied: MarkupSafe>=2.1.1 in /usr/local/lib/python3.10/dist-packages (from werkzeug>=1.0.1->tensorboard<2.16,>=2.15->tensorflow<2.16,>=2.15->tensorflow_transform) (2.1.5)\n",
            "Requirement already satisfied: oauthlib>=3.0.0 in /usr/local/lib/python3.10/dist-packages (from requests-oauthlib>=0.7.0->google-auth-oauthlib<2,>=0.5->tensorboard<2.16,>=2.15->tensorflow<2.16,>=2.15->tensorflow_transform) (3.2.2)\n"
          ]
        }
      ]
    },
    {
      "cell_type": "code",
      "execution_count": 2,
      "metadata": {
        "id": "Fejk4xer6LFh"
      },
      "outputs": [],
      "source": [
        "import numpy as np\n",
        "import pandas as pd\n",
        "import matplotlib.pyplot as plt\n",
        "import seaborn as sns\n",
        "import tensorflow as tf\n",
        "import tensorflow_transform as tft\n",
        "from tensorflow import keras\n",
        "\n",
        "from sklearn.svm import SVC\n",
        "from sklearn.preprocessing import StandardScaler\n",
        "from imblearn.under_sampling import RandomUnderSampler\n",
        "from sklearn.preprocessing import OneHotEncoder, MultiLabelBinarizer\n",
        "from sklearn.model_selection import train_test_split\n",
        "from sklearn.metrics import accuracy_score, confusion_matrix, precision_score, recall_score, ConfusionMatrixDisplay, make_scorer\n",
        "\n",
        "from random import sample\n",
        "import os\n",
        "import gc\n",
        "import shutil\n",
        "import pretty_midi"
      ]
    },
    {
      "cell_type": "markdown",
      "source": [
        "## Data Organization and Exploratory Analysis\n",
        "\n",
        "1.  Extract music files for only the composers of interest - remove all others\n",
        "2.  Conduct EDA on the target data:\n",
        "  - Undersand the nature of the files and formats\n",
        "  - Evaluate the distribution of samples by composer/class\n",
        "  - Evaluate the length of the music tracks (in time)\n",
        "  - Identify any preparation or augmentation tasks that may be necessary"
      ],
      "metadata": {
        "id": "-Y09okub8tc3"
      }
    },
    {
      "cell_type": "code",
      "source": [
        "# mount google drive\n",
        "from google.colab import drive\n",
        "drive.mount('/content/drive')"
      ],
      "metadata": {
        "id": "0IrWse0G8m22",
        "outputId": "cb490a89-36b4-48d0-e40f-aebb82245d93",
        "colab": {
          "base_uri": "https://localhost:8080/"
        }
      },
      "execution_count": 3,
      "outputs": [
        {
          "output_type": "stream",
          "name": "stdout",
          "text": [
            "Drive already mounted at /content/drive; to attempt to forcibly remount, call drive.mount(\"/content/drive\", force_remount=True).\n"
          ]
        }
      ]
    },
    {
      "cell_type": "code",
      "source": [
        "# setup target data locations\n",
        "root_data_path = '/content/drive/MyDrive/USD/datasets/composers_music'\n",
        "target_data_path = '/content/drive/MyDrive/USD/datasets/composers_music/target'"
      ],
      "metadata": {
        "id": "bsL7aQ8i9USK"
      },
      "execution_count": 4,
      "outputs": []
    },
    {
      "cell_type": "code",
      "source": [
        "# setup data prep parameters\n",
        "SETUP_MODE = False\n",
        "SAMPLE_FREQUENCY = 20\n",
        "NUM_PIANO_KEYS = 128\n",
        "\n",
        "# helper function for moving and flattening directories by composer\n",
        "def move_and_flatten(composer_name):\n",
        "  # setup destination\n",
        "  target_path = target_data_path + '/' + composer_name\n",
        "  os.makedirs(target_path, exist_ok=True)\n",
        "\n",
        "  # get source dir and subdirs\n",
        "  composer_path = root_data_path + '/midiclassics/' + composer_name\n",
        "  composer_dirs = [x[0] for x in os.walk(composer_path)]\n",
        "\n",
        "  # traverse directories\n",
        "  num_files = 0\n",
        "  for dir in composer_dirs:\n",
        "    for filename in os.listdir(dir):\n",
        "      if os.path.isfile(os.path.join(dir, filename)):\n",
        "        shutil.copyfile(dir + '/' + filename, target_path + '/' + filename)\n",
        "        num_files += 1\n",
        "  print(f'Moved {num_files} files for {composer_name}')\n",
        "\n",
        "# helper function for loading piano rolls for a composer\n",
        "def load_piano_rolls(composer_name, frequency):\n",
        "  piano_rolls = []\n",
        "  target_path = target_data_path + '/' + composer_name\n",
        "  for filename in os.listdir(target_path):\n",
        "    if filename.lower().endswith('.mid'):\n",
        "      try:\n",
        "        midi = pretty_midi.PrettyMIDI(target_path + '/' + filename)\n",
        "        midi.remove_invalid_notes()\n",
        "        piano_rolls.append(midi.get_piano_roll(fs=frequency))\n",
        "      except Exception as e:\n",
        "        print(f'Error reading {filename}: {e}')\n",
        "  return piano_rolls"
      ],
      "metadata": {
        "id": "o75LriLa_q-1"
      },
      "execution_count": 5,
      "outputs": []
    },
    {
      "cell_type": "code",
      "source": [
        "if SETUP_MODE==True:\n",
        "  # extract only the files from our taget 4 composers: Bach, Beethoven, Mozart, Chopin\n",
        "  os.makedirs(target_data_path, exist_ok=True)\n",
        "\n",
        "  move_and_flatten('Bach')\n",
        "  move_and_flatten('Beethoven')\n",
        "  move_and_flatten('Mozart')\n",
        "  move_and_flatten('Chopin')"
      ],
      "metadata": {
        "id": "_SMhPNBa93yF"
      },
      "execution_count": 6,
      "outputs": []
    },
    {
      "cell_type": "code",
      "source": [
        "# visualize class balances\n",
        "class_samples = {\"Bach\": 1025, \"Beethoven\": 219, \"Mozart\": 257, \"Chopin\": 136}\n",
        "plt.bar(class_samples.keys(), class_samples.values())\n",
        "plt.xlabel('Composer')\n",
        "plt.ylabel('Number of Samples')\n",
        "plt.title('Class Distribution')\n",
        "plt.show()"
      ],
      "metadata": {
        "id": "Lui6WXpHB0JS",
        "outputId": "980ae712-8929-46a0-f94e-fd190e15c62d",
        "colab": {
          "base_uri": "https://localhost:8080/",
          "height": 472
        }
      },
      "execution_count": 7,
      "outputs": [
        {
          "output_type": "display_data",
          "data": {
            "text/plain": [
              "<Figure size 640x480 with 1 Axes>"
            ],
            "image/png": "[encoded data removed]"
          },
          "metadata": {}
        }
      ]
    },
    {
      "cell_type": "code",
      "source": [
        "# get the distribution of sequence lengths of the pieces (in time)\n",
        "bach_data = load_piano_rolls('Bach', SAMPLE_FREQUENCY)\n",
        "beethoven_data = load_piano_rolls('Beethoven', SAMPLE_FREQUENCY)\n",
        "mozart_data = load_piano_rolls('Mozart', SAMPLE_FREQUENCY)\n",
        "chopin_data = load_piano_rolls('Chopin', SAMPLE_FREQUENCY)"
      ],
      "metadata": {
        "id": "jiGHqXaRiL2p",
        "outputId": "0142135a-71c4-4ba3-cf0b-f8947cc0fbe3",
        "colab": {
          "base_uri": "https://localhost:8080/"
        }
      },
      "execution_count": 8,
      "outputs": [
        {
          "output_type": "stream",
          "name": "stderr",
          "text": [
            "/usr/local/lib/python3.10/dist-packages/pretty_midi/pretty_midi.py:100: RuntimeWarning: Tempo, Key or Time signature change events found on non-zero tracks.  This is not a valid type 0 or type 1 MIDI file.  Tempo, Key or Time Signature may be wrong.\n",
            "  warnings.warn(\n"
          ]
        },
        {
          "output_type": "stream",
          "name": "stdout",
          "text": [
            "Error reading Anhang 14-3.mid: Could not decode key with 3 flats and mode 255\n",
            "Error reading K281 Piano Sonata n03 3mov.mid: Could not decode key with 2 flats and mode 2\n"
          ]
        }
      ]
    },
    {
      "cell_type": "code",
      "source": [
        "# build length distribution\n",
        "length_distributions = []\n",
        "def append_lengths(data):\n",
        "  for i in range(len(data)):\n",
        "    length_distributions.append(data[i].shape[1])"
      ],
      "metadata": {
        "id": "wH3XKSIo_KY8"
      },
      "execution_count": 9,
      "outputs": []
    },
    {
      "cell_type": "code",
      "source": [
        "# concatenate all classes\n",
        "append_lengths(bach_data)\n",
        "append_lengths(beethoven_data)\n",
        "append_lengths(mozart_data)\n",
        "append_lengths(chopin_data)"
      ],
      "metadata": {
        "id": "X867QebDGtp3"
      },
      "execution_count": 10,
      "outputs": []
    },
    {
      "cell_type": "code",
      "source": [
        "# plot the distribution\n",
        "sns.histplot(length_distributions)\n",
        "plt.xlabel('Sequence Length')\n",
        "plt.ylabel('Frequency')\n",
        "plt.title('Distribution of Sequence Lengths')\n",
        "plt.show()"
      ],
      "metadata": {
        "id": "9328x-AG_iix",
        "outputId": "d9d356ad-eea7-46f8-aff0-27c55da8c9e2",
        "colab": {
          "base_uri": "https://localhost:8080/",
          "height": 472
        }
      },
      "execution_count": 11,
      "outputs": [
        {
          "output_type": "display_data",
          "data": {
            "text/plain": [
              "<Figure size 640x480 with 1 Axes>"
            ],
            "image/png": "[encoded data removed]"
          },
          "metadata": {}
        }
      ]
    },
    {
      "cell_type": "code",
      "source": [
        "# get descriptive statistics for sequence lengths\n",
        "stats_df = pd.DataFrame(length_distributions)\n",
        "stats_df.describe()"
      ],
      "metadata": {
        "id": "mAq8jSaj8DZc",
        "outputId": "a9a3b1f6-6959-4af9-e20b-92b069e08a5e",
        "colab": {
          "base_uri": "https://localhost:8080/",
          "height": 300
        }
      },
      "execution_count": 12,
      "outputs": [
        {
          "output_type": "execute_result",
          "data": {
            "text/plain": [
              "                   0\n",
              "count    1628.000000\n",
              "mean     4838.340909\n",
              "std      5900.262705\n",
              "min       350.000000\n",
              "25%      1019.750000\n",
              "50%      2647.000000\n",
              "75%      6518.250000\n",
              "max    103362.000000"
            ],
            "text/html": [
              "\n",
              "  <div id=\"df-6a89328f-c070-4176-9625-c11ee5c9e8b9\" class=\"colab-df-container\">\n",
              "    <div>\n",
              "<style scoped>\n",
              "    .dataframe tbody tr th:only-of-type {\n",
              "        vertical-align: middle;\n",
              "    }\n",
              "\n",
              "    .dataframe tbody tr th {\n",
              "        vertical-align: top;\n",
              "    }\n",
              "\n",
              "    .dataframe thead th {\n",
              "        text-align: right;\n",
              "    }\n",
              "</style>\n",
              "<table border=\"1\" class=\"dataframe\">\n",
              "  <thead>\n",
              "    <tr style=\"text-align: right;\">\n",
              "      <th></th>\n",
              "      <th>0</th>\n",
              "    </tr>\n",
              "  </thead>\n",
              "  <tbody>\n",
              "    <tr>\n",
              "      <th>count</th>\n",
              "      <td>1628.000000</td>\n",
              "    </tr>\n",
              "    <tr>\n",
              "      <th>mean</th>\n",
              "      <td>4838.340909</td>\n",
              "    </tr>\n",
              "    <tr>\n",
              "      <th>std</th>\n",
              "      <td>5900.262705</td>\n",
              "    </tr>\n",
              "    <tr>\n",
              "      <th>min</th>\n",
              "      <td>350.000000</td>\n",
              "    </tr>\n",
              "    <tr>\n",
              "      <th>25%</th>\n",
              "      <td>1019.750000</td>\n",
              "    </tr>\n",
              "    <tr>\n",
              "      <th>50%</th>\n",
              "      <td>2647.000000</td>\n",
              "    </tr>\n",
              "    <tr>\n",
              "      <th>75%</th>\n",
              "      <td>6518.250000</td>\n",
              "    </tr>\n",
              "    <tr>\n",
              "      <th>max</th>\n",
              "      <td>103362.000000</td>\n",
              "    </tr>\n",
              "  </tbody>\n",
              "</table>\n",
              "</div>\n",
              "    <div class=\"colab-df-buttons\">\n",
              "\n",
              "  <div class=\"colab-df-container\">\n",
              "    <button class=\"colab-df-convert\" onclick=\"convertToInteractive('df-6a89328f-c070-4176-9625-c11ee5c9e8b9')\"\n",
              "            title=\"Convert this dataframe to an interactive table.\"\n",
              "            style=\"display:none;\">\n",
              "\n",
              "  <svg xmlns=\"http://www.w3.org/2000/svg\" height=\"24px\" viewBox=\"0 -960 960 960\">\n",
              "    <path d=\"M120-120v-720h720v720H120Zm60-500h600v-160H180v160Zm220 220h160v-160H400v160Zm0 220h160v-160H400v160ZM180-400h160v-160H180v160Zm440 0h160v-160H620v160ZM180-180h160v-160H180v160Zm440 0h160v-160H620v160Z\"/>\n",
              "  </svg>\n",
              "    </button>\n",
              "\n",
              "  <style>\n",
              "    .colab-df-container {\n",
              "      display:flex;\n",
              "      gap: 12px;\n",
              "    }\n",
              "\n",
              "    .colab-df-convert {\n",
              "      background-color: #E8F0FE;\n",
              "      border: none;\n",
              "      border-radius: 50%;\n",
              "      cursor: pointer;\n",
              "      display: none;\n",
              "      fill: #1967D2;\n",
              "      height: 32px;\n",
              "      padding: 0 0 0 0;\n",
              "      width: 32px;\n",
              "    }\n",
              "\n",
              "    .colab-df-convert:hover {\n",
              "      background-color: #E2EBFA;\n",
              "      box-shadow: 0px 1px 2px rgba(60, 64, 67, 0.3), 0px 1px 3px 1px rgba(60, 64, 67, 0.15);\n",
              "      fill: #174EA6;\n",
              "    }\n",
              "\n",
              "    .colab-df-buttons div {\n",
              "      margin-bottom: 4px;\n",
              "    }\n",
              "\n",
              "    [theme=dark] .colab-df-convert {\n",
              "      background-color: #3B4455;\n",
              "      fill: #D2E3FC;\n",
              "    }\n",
              "\n",
              "    [theme=dark] .colab-df-convert:hover {\n",
              "      background-color: #434B5C;\n",
              "      box-shadow: 0px 1px 3px 1px rgba(0, 0, 0, 0.15);\n",
              "      filter: drop-shadow(0px 1px 2px rgba(0, 0, 0, 0.3));\n",
              "      fill: #FFFFFF;\n",
              "    }\n",
              "  </style>\n",
              "\n",
              "    <script>\n",
              "      const buttonEl =\n",
              "        document.querySelector('#df-6a89328f-c070-4176-9625-c11ee5c9e8b9 button.colab-df-convert');\n",
              "      buttonEl.style.display =\n",
              "        google.colab.kernel.accessAllowed ? 'block' : 'none';\n",
              "\n",
              "      async function convertToInteractive(key) {\n",
              "        const element = document.querySelector('#df-6a89328f-c070-4176-9625-c11ee5c9e8b9');\n",
              "        const dataTable =\n",
              "          await google.colab.kernel.invokeFunction('convertToInteractive',\n",
              "                                                    [key], {});\n",
              "        if (!dataTable) return;\n",
              "\n",
              "        const docLinkHtml = 'Like what you see? Visit the ' +\n",
              "          '<a target=\"_blank\" href=https://colab.research.google.com/notebooks/data_table.ipynb>data table notebook</a>'\n",
              "          + ' to learn more about interactive tables.';\n",
              "        element.innerHTML = '';\n",
              "        dataTable['output_type'] = 'display_data';\n",
              "        await google.colab.output.renderOutput(dataTable, element);\n",
              "        const docLink = document.createElement('div');\n",
              "        docLink.innerHTML = docLinkHtml;\n",
              "        element.appendChild(docLink);\n",
              "      }\n",
              "    </script>\n",
              "  </div>\n",
              "\n",
              "\n",
              "<div id=\"df-2b1fde09-6c9d-407b-abba-0522ad178582\">\n",
              "  <button class=\"colab-df-quickchart\" onclick=\"quickchart('df-2b1fde09-6c9d-407b-abba-0522ad178582')\"\n",
              "            title=\"Suggest charts\"\n",
              "            style=\"display:none;\">\n",
              "\n",
              "<svg xmlns=\"http://www.w3.org/2000/svg\" height=\"24px\"viewBox=\"0 0 24 24\"\n",
              "     width=\"24px\">\n",
              "    <g>\n",
              "        <path d=\"M19 3H5c-1.1 0-2 .9-2 2v14c0 1.1.9 2 2 2h14c1.1 0 2-.9 2-2V5c0-1.1-.9-2-2-2zM9 17H7v-7h2v7zm4 0h-2V7h2v10zm4 0h-2v-4h2v4z\"/>\n",
              "    </g>\n",
              "</svg>\n",
              "  </button>\n",
              "\n",
              "<style>\n",
              "  .colab-df-quickchart {\n",
              "      --bg-color: #E8F0FE;\n",
              "      --fill-color: #1967D2;\n",
              "      --hover-bg-color: #E2EBFA;\n",
              "      --hover-fill-color: #174EA6;\n",
              "      --disabled-fill-color: #AAA;\n",
              "      --disabled-bg-color: #DDD;\n",
              "  }\n",
              "\n",
              "  [theme=dark] .colab-df-quickchart {\n",
              "      --bg-color: #3B4455;\n",
              "      --fill-color: #D2E3FC;\n",
              "      --hover-bg-color: #434B5C;\n",
              "      --hover-fill-color: #FFFFFF;\n",
              "      --disabled-bg-color: #3B4455;\n",
              "      --disabled-fill-color: #666;\n",
              "  }\n",
              "\n",
              "  .colab-df-quickchart {\n",
              "    background-color: var(--bg-color);\n",
              "    border: none;\n",
              "    border-radius: 50%;\n",
              "    cursor: pointer;\n",
              "    display: none;\n",
              "    fill: var(--fill-color);\n",
              "    height: 32px;\n",
              "    padding: 0;\n",
              "    width: 32px;\n",
              "  }\n",
              "\n",
              "  .colab-df-quickchart:hover {\n",
              "    background-color: var(--hover-bg-color);\n",
              "    box-shadow: 0 1px 2px rgba(60, 64, 67, 0.3), 0 1px 3px 1px rgba(60, 64, 67, 0.15);\n",
              "    fill: var(--button-hover-fill-color);\n",
              "  }\n",
              "\n",
              "  .colab-df-quickchart-complete:disabled,\n",
              "  .colab-df-quickchart-complete:disabled:hover {\n",
              "    background-color: var(--disabled-bg-color);\n",
              "    fill: var(--disabled-fill-color);\n",
              "    box-shadow: none;\n",
              "  }\n",
              "\n",
              "  .colab-df-spinner {\n",
              "    border: 2px solid var(--fill-color);\n",
              "    border-color: transparent;\n",
              "    border-bottom-color: var(--fill-color);\n",
              "    animation:\n",
              "      spin 1s steps(1) infinite;\n",
              "  }\n",
              "\n",
              "  @keyframes spin {\n",
              "    0% {\n",
              "      border-color: transparent;\n",
              "      border-bottom-color: var(--fill-color);\n",
              "      border-left-color: var(--fill-color);\n",
              "    }\n",
              "    20% {\n",
              "      border-color: transparent;\n",
              "      border-left-color: var(--fill-color);\n",
              "      border-top-color: var(--fill-color);\n",
              "    }\n",
              "    30% {\n",
              "      border-color: transparent;\n",
              "      border-left-color: var(--fill-color);\n",
              "      border-top-color: var(--fill-color);\n",
              "      border-right-color: var(--fill-color);\n",
              "    }\n",
              "    40% {\n",
              "      border-color: transparent;\n",
              "      border-right-color: var(--fill-color);\n",
              "      border-top-color: var(--fill-color);\n",
              "    }\n",
              "    60% {\n",
              "      border-color: transparent;\n",
              "      border-right-color: var(--fill-color);\n",
              "    }\n",
              "    80% {\n",
              "      border-color: transparent;\n",
              "      border-right-color: var(--fill-color);\n",
              "      border-bottom-color: var(--fill-color);\n",
              "    }\n",
              "    90% {\n",
              "      border-color: transparent;\n",
              "      border-bottom-color: var(--fill-color);\n",
              "    }\n",
              "  }\n",
              "</style>\n",
              "\n",
              "  <script>\n",
              "    async function quickchart(key) {\n",
              "      const quickchartButtonEl =\n",
              "        document.querySelector('#' + key + ' button');\n",
              "      quickchartButtonEl.disabled = true;  // To prevent multiple clicks.\n",
              "      quickchartButtonEl.classList.add('colab-df-spinner');\n",
              "      try {\n",
              "        const charts = await google.colab.kernel.invokeFunction(\n",
              "            'suggestCharts', [key], {});\n",
              "      } catch (error) {\n",
              "        console.error('Error during call to suggestCharts:', error);\n",
              "      }\n",
              "      quickchartButtonEl.classList.remove('colab-df-spinner');\n",
              "      quickchartButtonEl.classList.add('colab-df-quickchart-complete');\n",
              "    }\n",
              "    (() => {\n",
              "      let quickchartButtonEl =\n",
              "        document.querySelector('#df-2b1fde09-6c9d-407b-abba-0522ad178582 button');\n",
              "      quickchartButtonEl.style.display =\n",
              "        google.colab.kernel.accessAllowed ? 'block' : 'none';\n",
              "    })();\n",
              "  </script>\n",
              "</div>\n",
              "\n",
              "    </div>\n",
              "  </div>\n"
            ],
            "application/vnd.google.colaboratory.intrinsic+json": {
              "type": "dataframe",
              "summary": "{\n  \"name\": \"stats_df\",\n  \"rows\": 8,\n  \"fields\": [\n    {\n      \"column\": 0,\n      \"properties\": {\n        \"dtype\": \"number\",\n        \"std\": 35461.086223710685,\n        \"min\": 350.0,\n        \"max\": 103362.0,\n        \"num_unique_values\": 8,\n        \"samples\": [\n          4838.340909090909,\n          2647.0,\n          1628.0\n        ],\n        \"semantic_type\": \"\",\n        \"description\": \"\"\n      }\n    }\n  ]\n}"
            }
          },
          "metadata": {},
          "execution_count": 12
        }
      ]
    },
    {
      "cell_type": "markdown",
      "source": [
        "#### Analysis\n",
        "\n",
        "There is a significant class imbalance, where Bach pieces far outweigh the number of pieces by the other composers.  Some balancing will be required - likely starting with using a subset of the Bach pieces.\n",
        "\n",
        "There is also a wide range of sequence values.  Some preparation tasks will likely be required to normalize these to a standard sequence length for the model.  We can use the descriptive statistics to determine this - possibly breaking the larger tracks into multiple samples, each with a smaller sequence length."
      ],
      "metadata": {
        "id": "j4uQfVvBngt2"
      }
    },
    {
      "cell_type": "markdown",
      "source": [
        "## Data Preparation\n",
        "\n",
        "1.  Fix the class imbalance issue by downsampling the over-represented class (Bach)\n",
        "2.  Normalize the data using scaler\n",
        "3.  Process the tracks into smaller, normalized sequence lengths\n",
        "4.  Format the dataset into samples and labels suitable for model input\n",
        "5.  Split the result into train/test/val"
      ],
      "metadata": {
        "id": "dgzAMg3jop8e"
      }
    },
    {
      "cell_type": "code",
      "source": [
        "# set a normalized sequence length to 10 s worth of samples\n",
        "NORM_SEQUENCE_LENGTH = SAMPLE_FREQUENCY * 10\n",
        "OVERSAMPLE_STRIDE = 10\n",
        "\n",
        "# helper function to pad sequences not quite long enough\n",
        "def zero_pad(seq, x, missing):\n",
        "\tright = np.zeros((x, missing))\n",
        "\treturn np.hstack((seq,right))\n",
        "\n",
        "# helper function to process track into sequences of normalized length\n",
        "def process_track_to_sequences(track):\n",
        "  x,y = track.shape\n",
        "  #print(f\"track shape:\", track.shape)\n",
        "  sequences = []\n",
        "  if(y < NORM_SEQUENCE_LENGTH):\n",
        "    sequence = zero_pad(track, x, NORM_SEQUENCE_LENGTH-y)\n",
        "    sequences.append(sequence)\n",
        "  else:\n",
        "    num_sequences = int(np.ceil(y / NORM_SEQUENCE_LENGTH))\n",
        "    for i in range(num_sequences):\n",
        "      start = i * NORM_SEQUENCE_LENGTH\n",
        "      if start + NORM_SEQUENCE_LENGTH > y:\n",
        "        sequence = track[:,start:y]\n",
        "        zp = zero_pad(sequence, x, (start + NORM_SEQUENCE_LENGTH - y))\n",
        "        sequences.append(zp)\n",
        "      else:\n",
        "        end = start + NORM_SEQUENCE_LENGTH\n",
        "        sequence = track[:,start:end]\n",
        "        sequences.append(sequence)\n",
        "\n",
        "  return sequences\n",
        "\n",
        "# helper function to process track into sequences of normalized length\n",
        "def process_track_to_sequences_oversample(track):\n",
        "  x,y = track.shape\n",
        "  sequences = []\n",
        "  if(y < NORM_SEQUENCE_LENGTH):\n",
        "    sequence = zero_pad(track, x, NORM_SEQUENCE_LENGTH-y)\n",
        "    sequences.append(sequence)\n",
        "  else:\n",
        "    start = 0\n",
        "    end = 0\n",
        "    while(end < y):\n",
        "      end = start + NORM_SEQUENCE_LENGTH\n",
        "      if end > y:\n",
        "        sequence = track[:,start:y]\n",
        "        zp = zero_pad(sequence, x, (start + NORM_SEQUENCE_LENGTH - y))\n",
        "        sequences.append(zp)\n",
        "      else:\n",
        "        sequence = track[:,start:end]\n",
        "        sequences.append(sequence)\n",
        "      start += OVERSAMPLE_STRIDE\n",
        "\n",
        "  return sequences\n",
        "\n",
        "# helper function to process all tracks for a composer into sequences\n",
        "def process_composer_sequences(composer_data, do_oversample):\n",
        "  composer_sequences = []\n",
        "  for i in range(len(composer_data)):\n",
        "    if do_oversample:\n",
        "      sequences = process_track_to_sequences_oversample(composer_data[i])\n",
        "    else:\n",
        "      sequences = process_track_to_sequences(composer_data[i])\n",
        "    for seq in sequences:\n",
        "      composer_sequences.append(seq)\n",
        "  return composer_sequences\n",
        "\n",
        "# helper function to transpose sequences\n",
        "def transpose_sequences(sequences):\n",
        "  for i in range(len(sequences)):\n",
        "    sequences[i] = np.transpose(sequences[i])\n",
        "  return sequences"
      ],
      "metadata": {
        "id": "OOTaktN2s4Qc"
      },
      "execution_count": 13,
      "outputs": []
    },
    {
      "cell_type": "code",
      "source": [
        "# process data into sequences for each composer\n",
        "bach_sequences = process_composer_sequences(bach_data, True)\n",
        "beethoven_sequences = process_composer_sequences(beethoven_data, True)\n",
        "mozart_sequences = process_composer_sequences(mozart_data, True)\n",
        "chopin_sequences = process_composer_sequences(chopin_data, True)"
      ],
      "metadata": {
        "id": "46aVyNvwyLOo"
      },
      "execution_count": 14,
      "outputs": []
    },
    {
      "cell_type": "code",
      "source": [
        "# transpose the sequences\n",
        "bach_sequences = transpose_sequences(bach_sequences)\n",
        "beethoven_sequences = transpose_sequences(beethoven_sequences)\n",
        "mozart_sequences = transpose_sequences(mozart_sequences)\n",
        "chopin_sequences = transpose_sequences(chopin_sequences)"
      ],
      "metadata": {
        "id": "LyUL4o9HzgTf"
      },
      "execution_count": 15,
      "outputs": []
    },
    {
      "cell_type": "code",
      "source": [
        "# display sequence lenghths:\n",
        "print(f'Bach: {len(bach_sequences)}')\n",
        "print(f'Beethoven: {len(beethoven_sequences)}')\n",
        "print(f'Mozart: {len(mozart_sequences)}')\n",
        "print(f'Chopin: {len(chopin_sequences)}')"
      ],
      "metadata": {
        "id": "0W9KrkqptcON",
        "colab": {
          "base_uri": "https://localhost:8080/"
        },
        "outputId": "6a980867-c525-49b4-f50c-35fb0a3ffc6a"
      },
      "execution_count": 16,
      "outputs": [
        {
          "output_type": "stream",
          "name": "stdout",
          "text": [
            "Bach: 298248\n",
            "Beethoven: 201956\n",
            "Mozart: 199715\n",
            "Chopin: 57416\n"
          ]
        }
      ]
    },
    {
      "cell_type": "code",
      "source": [
        "#randomly downsample Bach, Beethoven and Mozart sequences to better balance with lower Chopin samples\n",
        "bach_sequences_sampled = sample(bach_sequences, 10000)\n",
        "beethoven_sequences_sampled = sample(beethoven_sequences, 10000)\n",
        "mozart_sequences_sampled = sample(mozart_sequences, 10000)\n",
        "chopin_sequences_sampled = sample(chopin_sequences, 10000)"
      ],
      "metadata": {
        "id": "JGN_d0Wgy9Pj"
      },
      "execution_count": 17,
      "outputs": []
    },
    {
      "cell_type": "code",
      "source": [
        "# display sequence lenghths:\n",
        "print(f'Bach: {len(bach_sequences_sampled)}')\n",
        "print(f'Beethoven: {len(beethoven_sequences_sampled)}')\n",
        "print(f'Mozart: {len(mozart_sequences_sampled)}')\n",
        "print(f'Chopin: {len(chopin_sequences_sampled)}')"
      ],
      "metadata": {
        "id": "GkIiR8FcFkRV",
        "outputId": "4581e6e9-6dc3-48b3-f2b1-c7ca4c0c49bf",
        "colab": {
          "base_uri": "https://localhost:8080/"
        }
      },
      "execution_count": 18,
      "outputs": [
        {
          "output_type": "stream",
          "name": "stdout",
          "text": [
            "Bach: 10000\n",
            "Beethoven: 10000\n",
            "Mozart: 10000\n",
            "Chopin: 10000\n"
          ]
        }
      ]
    },
    {
      "cell_type": "code",
      "source": [
        "# visualize class balances\n",
        "class_samples = {\"Bach\": len(bach_sequences_sampled), \"Beethoven\": len(beethoven_sequences_sampled), \"Mozart\": len(mozart_sequences_sampled), \"Chopin\": len(chopin_sequences_sampled)}\n",
        "plt.bar(class_samples.keys(), class_samples.values())\n",
        "plt.xlabel('Composer')\n",
        "plt.ylabel('Number of Samples')\n",
        "plt.title('Class Distribution')\n",
        "plt.show()"
      ],
      "metadata": {
        "id": "a-w9HTaYzvha",
        "colab": {
          "base_uri": "https://localhost:8080/",
          "height": 472
        },
        "outputId": "5ef4d1fd-48c8-418c-b6cc-508dc10b2337"
      },
      "execution_count": 19,
      "outputs": [
        {
          "output_type": "display_data",
          "data": {
            "text/plain": [
              "<Figure size 640x480 with 1 Axes>"
            ],
            "image/png": "[encoded data removed]"
          },
          "metadata": {}
        }
      ]
    },
    {
      "cell_type": "code",
      "source": [
        "# create labels\n",
        "bach_labels = ['bach'] * len(bach_sequences_sampled)\n",
        "beethoven_labels = ['beethoven'] * len(beethoven_sequences_sampled)\n",
        "mozart_labels = ['mozart'] * len(mozart_sequences_sampled)\n",
        "chopin_labels = ['chopin'] * len(chopin_sequences_sampled)"
      ],
      "metadata": {
        "id": "2BPrywwV__dE"
      },
      "execution_count": 20,
      "outputs": []
    },
    {
      "cell_type": "code",
      "source": [
        "# free up RAM\n",
        "del bach_sequences\n",
        "del beethoven_sequences\n",
        "del mozart_sequences\n",
        "del chopin_sequences\n",
        "del bach_data\n",
        "del beethoven_data\n",
        "del mozart_data\n",
        "del chopin_data\n",
        "gc.collect()"
      ],
      "metadata": {
        "colab": {
          "base_uri": "https://localhost:8080/"
        },
        "id": "d2XaMITBw_IO",
        "outputId": "ddba1357-3980-4b79-dc38-e48dc089d2bc"
      },
      "execution_count": 21,
      "outputs": [
        {
          "output_type": "execute_result",
          "data": {
            "text/plain": [
              "3098"
            ]
          },
          "metadata": {},
          "execution_count": 21
        }
      ]
    },
    {
      "cell_type": "code",
      "source": [
        "# next stack the sequences into single list\n",
        "X = np.concatenate((bach_sequences_sampled, beethoven_sequences_sampled, mozart_sequences_sampled, chopin_sequences_sampled))\n",
        "y_raw = np.concatenate((bach_labels, beethoven_labels, mozart_labels, chopin_labels))\n"
      ],
      "metadata": {
        "id": "nQQbLJiLCWg1"
      },
      "execution_count": 22,
      "outputs": []
    },
    {
      "cell_type": "code",
      "source": [
        "# free up RAM\n",
        "del bach_sequences_sampled\n",
        "del beethoven_sequences_sampled\n",
        "del mozart_sequences_sampled\n",
        "del chopin_sequences_sampled\n",
        "gc.collect()"
      ],
      "metadata": {
        "id": "MO3jdmjnVdLR",
        "outputId": "024b3f62-954f-486b-80b7-e6b563b2e762",
        "colab": {
          "base_uri": "https://localhost:8080/"
        }
      },
      "execution_count": 23,
      "outputs": [
        {
          "output_type": "execute_result",
          "data": {
            "text/plain": [
              "9666"
            ]
          },
          "metadata": {},
          "execution_count": 23
        }
      ]
    },
    {
      "cell_type": "code",
      "source": [
        "# shuffle the dataset\n",
        "indices = np.arange(X.shape[0])\n",
        "np.random.shuffle(indices)\n",
        "\n",
        "X = X[indices]\n",
        "y_raw = y_raw[indices]"
      ],
      "metadata": {
        "id": "JDw5NMRADY6r"
      },
      "execution_count": 24,
      "outputs": []
    },
    {
      "cell_type": "code",
      "source": [
        "# label encode the labels\n",
        "ohe = OneHotEncoder()\n",
        "y = ohe.fit_transform(y_raw.reshape(-1, 1))\n",
        "y = y.toarray()\n",
        "y"
      ],
      "metadata": {
        "id": "0laeX-EDDiqN",
        "outputId": "48f6e65e-599b-455f-a8cd-eaa0007195e0",
        "colab": {
          "base_uri": "https://localhost:8080/"
        }
      },
      "execution_count": 25,
      "outputs": [
        {
          "output_type": "execute_result",
          "data": {
            "text/plain": [
              "array([[1., 0., 0., 0.],\n",
              "       [0., 0., 0., 1.],\n",
              "       [0., 0., 0., 1.],\n",
              "       ...,\n",
              "       [0., 0., 0., 1.],\n",
              "       [0., 0., 1., 0.],\n",
              "       [0., 1., 0., 0.]])"
            ]
          },
          "metadata": {},
          "execution_count": 25
        }
      ]
    },
    {
      "cell_type": "code",
      "source": [
        "ohe.categories_"
      ],
      "metadata": {
        "id": "3SmesoFIbe4O",
        "outputId": "30a63563-9997-4417-edd8-d373ed17ec81",
        "colab": {
          "base_uri": "https://localhost:8080/"
        }
      },
      "execution_count": 26,
      "outputs": [
        {
          "output_type": "execute_result",
          "data": {
            "text/plain": [
              "[array(['bach', 'beethoven', 'chopin', 'mozart'], dtype='<U9')]"
            ]
          },
          "metadata": {},
          "execution_count": 26
        }
      ]
    },
    {
      "cell_type": "code",
      "source": [
        "# split into train/test/val\n",
        "TRAIN_SPLIT = 0.8\n",
        "TEST_VAL_SPLIT = 0.1\n",
        "TOTAL_LEN = len(X)\n",
        "\n",
        "# train data\n",
        "X_train = X[:int(TOTAL_LEN * TRAIN_SPLIT)].copy()\n",
        "y_train = y[:int(TOTAL_LEN * TRAIN_SPLIT)].copy()\n",
        "\n",
        "# val data\n",
        "X_val = X[int(TOTAL_LEN * TRAIN_SPLIT):int(TOTAL_LEN * (TRAIN_SPLIT + TEST_VAL_SPLIT))].copy()\n",
        "y_val = y[int(TOTAL_LEN * TRAIN_SPLIT):int(TOTAL_LEN * (TRAIN_SPLIT + TEST_VAL_SPLIT))].copy()\n",
        "\n",
        "# test data\n",
        "X_test = X[int(TOTAL_LEN * (TRAIN_SPLIT + TEST_VAL_SPLIT)):].copy()\n",
        "y_test = y[int(TOTAL_LEN * (TRAIN_SPLIT + TEST_VAL_SPLIT)):].copy()\n"
      ],
      "metadata": {
        "id": "41LWeb2gEWAw"
      },
      "execution_count": 27,
      "outputs": []
    },
    {
      "cell_type": "code",
      "source": [
        "#helper function to get min/max range from train data tensors\n",
        "def normalize_dataset(dataset, min, max):\n",
        "  for i in range(len(dataset)):\n",
        "    sample = dataset[i]\n",
        "    sample = [((x - min) / (max - min)) for x in sample]\n",
        "    dataset[i] = sample\n",
        "  return dataset"
      ],
      "metadata": {
        "id": "VAVARO4MF8tv"
      },
      "execution_count": 28,
      "outputs": []
    },
    {
      "cell_type": "code",
      "source": [
        "# set min-max scale ranges\n",
        "scale_max = np.max(X_train)\n",
        "scale_min = np.min(X_train)\n",
        "print(scale_min, scale_max)"
      ],
      "metadata": {
        "id": "dJHpLsPrRKFd",
        "outputId": "684b1135-f23d-4c7d-a785-1a74f9f5a599",
        "colab": {
          "base_uri": "https://localhost:8080/"
        }
      },
      "execution_count": 29,
      "outputs": [
        {
          "output_type": "stream",
          "name": "stdout",
          "text": [
            "0.0 1143.0\n"
          ]
        }
      ]
    },
    {
      "cell_type": "code",
      "source": [
        "# normalize the datasets [normalize based on training data]\n",
        "#X_train_norm = normalize_dataset(X_train.copy(), scale_min, scale_max)\n",
        "#X_val_norm = normalize_dataset(X_val.copy(), scale_min, scale_max)\n",
        "#X_test_norm = normalize_dataset(X_test.copy(), scale_min, scale_max)"
      ],
      "metadata": {
        "id": "dBQAy22WIDi5"
      },
      "execution_count": 30,
      "outputs": []
    },
    {
      "cell_type": "code",
      "source": [
        "#X_train_norm.shape"
      ],
      "metadata": {
        "colab": {
          "base_uri": "https://localhost:8080/"
        },
        "id": "KcXlWVujg3Me",
        "outputId": "ff0c1d33-4466-4135-f82d-31e31566798c"
      },
      "execution_count": 31,
      "outputs": [
        {
          "output_type": "execute_result",
          "data": {
            "text/plain": [
              "(32000, 200, 128)"
            ]
          },
          "metadata": {},
          "execution_count": 31
        }
      ]
    },
    {
      "cell_type": "markdown",
      "source": [
        "## LSTM Model\n",
        "\n",
        "For our first model, we will define and train and LSTM RNN model to process our sequences and perform a classification task to predict the appropriate composer.  Some experimenation and fine tuning will be conducted to find an optimal model definition.\n",
        "\n",
        "1.  Define baseline LSTM model with classification output layer.  This will be used to validate our processed data, validate classification task and set baseline performance.\n",
        "2.  Train model on our training set\n",
        "3.  Evaluate performance of the model using Accuracy, Precision/Recall, F1\n",
        "4.  Tune hyperparameters and model architecture\n",
        "\n"
      ],
      "metadata": {
        "id": "XT1Gp3RtQcOi"
      }
    },
    {
      "cell_type": "code",
      "source": [
        "NUM_EPOCHS = 100\n",
        "BATCH_SIZE = 32\n",
        "LEARNING_RATE = 0.001\n",
        "NUM_COMPOSERS = 4"
      ],
      "metadata": {
        "id": "R4SKFZKeXfWA"
      },
      "execution_count": 29,
      "outputs": []
    },
    {
      "cell_type": "code",
      "source": [
        "# define a baseline LSTM\n",
        "lstm_base = tf.keras.models.Sequential([\n",
        "\n",
        "    # input our sequence tensors\n",
        "    tf.keras.layers.Input(shape=(NORM_SEQUENCE_LENGTH, NUM_PIANO_KEYS)),\n",
        "    tf.keras.layers.Normalization(axis=None),\n",
        "    tf.keras.layers.LSTM(256, return_sequences=False, dropout=0.2),\n",
        "\n",
        "    # classification head\n",
        "    tf.keras.layers.Dense(64, activation='relu'),\n",
        "    tf.keras.layers.Dense(units = NUM_COMPOSERS, activation='softmax')\n",
        "])\n",
        "\n",
        "# Compile the model\n",
        "lstm_base.compile(optimizer='adam', loss='categorical_crossentropy', metrics=[keras.metrics.CategoricalAccuracy(), keras.metrics.Precision(), keras.metrics.Recall(), keras.metrics.F1Score()])"
      ],
      "metadata": {
        "id": "lFl_bgsdSD9-"
      },
      "execution_count": 33,
      "outputs": []
    },
    {
      "cell_type": "code",
      "source": [
        "# Train the model\n",
        "history_lstm = lstm_base.fit(X_train, y_train, validation_data=(X_val,y_val), epochs=NUM_EPOCHS, batch_size=BATCH_SIZE)"
      ],
      "metadata": {
        "id": "pRPPvVskXye4",
        "colab": {
          "base_uri": "https://localhost:8080/"
        },
        "outputId": "b9bd0b42-ffc6-4252-f89e-3cf2cc5e4be7"
      },
      "execution_count": 34,
      "outputs": [
        {
          "output_type": "stream",
          "name": "stdout",
          "text": [
            "Epoch 1/100\n",
            "1000/1000 [==============================] - 18s 13ms/step - loss: 1.1398 - categorical_accuracy: 0.4942 - precision: 0.6264 - recall: 0.2708 - f1_score: 0.4892 - val_loss: 0.9461 - val_categorical_accuracy: 0.5920 - val_precision: 0.6872 - val_recall: 0.4593 - val_f1_score: 0.5855\n",
            "Epoch 2/100\n",
            "1000/1000 [==============================] - 12s 12ms/step - loss: 0.8743 - categorical_accuracy: 0.6299 - precision: 0.6980 - recall: 0.5195 - f1_score: 0.6244 - val_loss: 0.8611 - val_categorical_accuracy: 0.6398 - val_precision: 0.6945 - val_recall: 0.5477 - val_f1_score: 0.6251\n",
            "Epoch 3/100\n",
            "1000/1000 [==============================] - 12s 12ms/step - loss: 0.7755 - categorical_accuracy: 0.6785 - precision: 0.7295 - recall: 0.5979 - f1_score: 0.6738 - val_loss: 0.8175 - val_categorical_accuracy: 0.6545 - val_precision: 0.6998 - val_recall: 0.5867 - val_f1_score: 0.6449\n",
            "Epoch 4/100\n",
            "1000/1000 [==============================] - 12s 12ms/step - loss: 0.7189 - categorical_accuracy: 0.7000 - precision: 0.7461 - recall: 0.6371 - f1_score: 0.6962 - val_loss: 0.7751 - val_categorical_accuracy: 0.6708 - val_precision: 0.7192 - val_recall: 0.6018 - val_f1_score: 0.6680\n",
            "Epoch 5/100\n",
            "1000/1000 [==============================] - 12s 12ms/step - loss: 0.6730 - categorical_accuracy: 0.7223 - precision: 0.7637 - recall: 0.6698 - f1_score: 0.7193 - val_loss: 0.7662 - val_categorical_accuracy: 0.6790 - val_precision: 0.7148 - val_recall: 0.6223 - val_f1_score: 0.6722\n",
            "Epoch 6/100\n",
            "1000/1000 [==============================] - 12s 12ms/step - loss: 0.6466 - categorical_accuracy: 0.7360 - precision: 0.7713 - recall: 0.6856 - f1_score: 0.7333 - val_loss: 0.7570 - val_categorical_accuracy: 0.6842 - val_precision: 0.7187 - val_recall: 0.6317 - val_f1_score: 0.6825\n",
            "Epoch 7/100\n",
            "1000/1000 [==============================] - 12s 12ms/step - loss: 0.6195 - categorical_accuracy: 0.7474 - precision: 0.7805 - recall: 0.7053 - f1_score: 0.7448 - val_loss: 0.7330 - val_categorical_accuracy: 0.6957 - val_precision: 0.7250 - val_recall: 0.6497 - val_f1_score: 0.6941\n",
            "Epoch 8/100\n",
            "1000/1000 [==============================] - 12s 12ms/step - loss: 0.5894 - categorical_accuracy: 0.7590 - precision: 0.7903 - recall: 0.7224 - f1_score: 0.7568 - val_loss: 0.7335 - val_categorical_accuracy: 0.7017 - val_precision: 0.7297 - val_recall: 0.6628 - val_f1_score: 0.6963\n",
            "Epoch 9/100\n",
            "1000/1000 [==============================] - 12s 12ms/step - loss: 0.5597 - categorical_accuracy: 0.7738 - precision: 0.8019 - recall: 0.7391 - f1_score: 0.7719 - val_loss: 0.7129 - val_categorical_accuracy: 0.7085 - val_precision: 0.7351 - val_recall: 0.6700 - val_f1_score: 0.7049\n",
            "Epoch 10/100\n",
            "1000/1000 [==============================] - 12s 12ms/step - loss: 0.5611 - categorical_accuracy: 0.7719 - precision: 0.8007 - recall: 0.7377 - f1_score: 0.7701 - val_loss: 0.6945 - val_categorical_accuracy: 0.7157 - val_precision: 0.7472 - val_recall: 0.6790 - val_f1_score: 0.7089\n",
            "Epoch 11/100\n",
            "1000/1000 [==============================] - 12s 12ms/step - loss: 0.5397 - categorical_accuracy: 0.7854 - precision: 0.8117 - recall: 0.7511 - f1_score: 0.7839 - val_loss: 0.6716 - val_categorical_accuracy: 0.7325 - val_precision: 0.7634 - val_recall: 0.6967 - val_f1_score: 0.7288\n",
            "Epoch 12/100\n",
            "1000/1000 [==============================] - 12s 12ms/step - loss: 0.5271 - categorical_accuracy: 0.7903 - precision: 0.8149 - recall: 0.7595 - f1_score: 0.7889 - val_loss: 0.6731 - val_categorical_accuracy: 0.7207 - val_precision: 0.7507 - val_recall: 0.6842 - val_f1_score: 0.7175\n",
            "Epoch 13/100\n",
            "1000/1000 [==============================] - 12s 12ms/step - loss: 0.5154 - categorical_accuracy: 0.7937 - precision: 0.8182 - recall: 0.7629 - f1_score: 0.7924 - val_loss: 0.6891 - val_categorical_accuracy: 0.7305 - val_precision: 0.7585 - val_recall: 0.6965 - val_f1_score: 0.7252\n",
            "Epoch 14/100\n",
            "1000/1000 [==============================] - 12s 12ms/step - loss: 0.5040 - categorical_accuracy: 0.7976 - precision: 0.8220 - recall: 0.7685 - f1_score: 0.7964 - val_loss: 0.6981 - val_categorical_accuracy: 0.7237 - val_precision: 0.7558 - val_recall: 0.6917 - val_f1_score: 0.7199\n",
            "Epoch 15/100\n",
            "1000/1000 [==============================] - 12s 12ms/step - loss: 0.4981 - categorical_accuracy: 0.8008 - precision: 0.8245 - recall: 0.7728 - f1_score: 0.7996 - val_loss: 0.7006 - val_categorical_accuracy: 0.7195 - val_precision: 0.7460 - val_recall: 0.6940 - val_f1_score: 0.7183\n",
            "Epoch 16/100\n",
            "1000/1000 [==============================] - 12s 12ms/step - loss: 0.4849 - categorical_accuracy: 0.8075 - precision: 0.8279 - recall: 0.7814 - f1_score: 0.8064 - val_loss: 0.6894 - val_categorical_accuracy: 0.7305 - val_precision: 0.7561 - val_recall: 0.7005 - val_f1_score: 0.7260\n",
            "Epoch 17/100\n",
            "1000/1000 [==============================] - 12s 12ms/step - loss: 0.4769 - categorical_accuracy: 0.8084 - precision: 0.8326 - recall: 0.7839 - f1_score: 0.8074 - val_loss: 0.7065 - val_categorical_accuracy: 0.7333 - val_precision: 0.7533 - val_recall: 0.7067 - val_f1_score: 0.7297\n",
            "Epoch 18/100\n",
            "1000/1000 [==============================] - 12s 12ms/step - loss: 0.4718 - categorical_accuracy: 0.8131 - precision: 0.8343 - recall: 0.7886 - f1_score: 0.8120 - val_loss: 0.6738 - val_categorical_accuracy: 0.7390 - val_precision: 0.7597 - val_recall: 0.7153 - val_f1_score: 0.7386\n",
            "Epoch 19/100\n",
            "1000/1000 [==============================] - 12s 12ms/step - loss: 0.4672 - categorical_accuracy: 0.8144 - precision: 0.8372 - recall: 0.7922 - f1_score: 0.8133 - val_loss: 0.6627 - val_categorical_accuracy: 0.7450 - val_precision: 0.7649 - val_recall: 0.7230 - val_f1_score: 0.7419\n",
            "Epoch 20/100\n",
            "1000/1000 [==============================] - 12s 12ms/step - loss: 0.4546 - categorical_accuracy: 0.8211 - precision: 0.8418 - recall: 0.7981 - f1_score: 0.8205 - val_loss: 0.6711 - val_categorical_accuracy: 0.7380 - val_precision: 0.7582 - val_recall: 0.7147 - val_f1_score: 0.7335\n",
            "Epoch 21/100\n",
            "1000/1000 [==============================] - 12s 12ms/step - loss: 0.4564 - categorical_accuracy: 0.8197 - precision: 0.8417 - recall: 0.7960 - f1_score: 0.8190 - val_loss: 0.6747 - val_categorical_accuracy: 0.7400 - val_precision: 0.7615 - val_recall: 0.7153 - val_f1_score: 0.7361\n",
            "Epoch 22/100\n",
            "1000/1000 [==============================] - 12s 12ms/step - loss: 0.4433 - categorical_accuracy: 0.8234 - precision: 0.8451 - recall: 0.8015 - f1_score: 0.8225 - val_loss: 0.6620 - val_categorical_accuracy: 0.7460 - val_precision: 0.7679 - val_recall: 0.7220 - val_f1_score: 0.7402\n",
            "Epoch 23/100\n",
            "1000/1000 [==============================] - 12s 12ms/step - loss: 0.4469 - categorical_accuracy: 0.8253 - precision: 0.8455 - recall: 0.8028 - f1_score: 0.8244 - val_loss: 0.7034 - val_categorical_accuracy: 0.7310 - val_precision: 0.7517 - val_recall: 0.7130 - val_f1_score: 0.7271\n",
            "Epoch 24/100\n",
            "1000/1000 [==============================] - 12s 12ms/step - loss: 0.4404 - categorical_accuracy: 0.8265 - precision: 0.8468 - recall: 0.8056 - f1_score: 0.8256 - val_loss: 0.6685 - val_categorical_accuracy: 0.7393 - val_precision: 0.7632 - val_recall: 0.7145 - val_f1_score: 0.7381\n",
            "Epoch 25/100\n",
            "1000/1000 [==============================] - 12s 12ms/step - loss: 0.4299 - categorical_accuracy: 0.8312 - precision: 0.8513 - recall: 0.8108 - f1_score: 0.8306 - val_loss: 0.6656 - val_categorical_accuracy: 0.7450 - val_precision: 0.7642 - val_recall: 0.7210 - val_f1_score: 0.7410\n",
            "Epoch 26/100\n",
            "1000/1000 [==============================] - 12s 12ms/step - loss: 0.4261 - categorical_accuracy: 0.8328 - precision: 0.8514 - recall: 0.8135 - f1_score: 0.8321 - val_loss: 0.6569 - val_categorical_accuracy: 0.7445 - val_precision: 0.7643 - val_recall: 0.7270 - val_f1_score: 0.7440\n",
            "Epoch 27/100\n",
            "1000/1000 [==============================] - 12s 12ms/step - loss: 0.4192 - categorical_accuracy: 0.8371 - precision: 0.8550 - recall: 0.8173 - f1_score: 0.8365 - val_loss: 0.6993 - val_categorical_accuracy: 0.7355 - val_precision: 0.7576 - val_recall: 0.7143 - val_f1_score: 0.7330\n",
            "Epoch 28/100\n",
            "1000/1000 [==============================] - 12s 12ms/step - loss: 0.4151 - categorical_accuracy: 0.8349 - precision: 0.8526 - recall: 0.8153 - f1_score: 0.8342 - val_loss: 0.6823 - val_categorical_accuracy: 0.7455 - val_precision: 0.7650 - val_recall: 0.7283 - val_f1_score: 0.7428\n",
            "Epoch 29/100\n",
            "1000/1000 [==============================] - 12s 12ms/step - loss: 0.4235 - categorical_accuracy: 0.8324 - precision: 0.8517 - recall: 0.8115 - f1_score: 0.8318 - val_loss: 0.6859 - val_categorical_accuracy: 0.7393 - val_precision: 0.7577 - val_recall: 0.7200 - val_f1_score: 0.7360\n",
            "Epoch 30/100\n",
            "1000/1000 [==============================] - 12s 12ms/step - loss: 0.4141 - categorical_accuracy: 0.8373 - precision: 0.8550 - recall: 0.8191 - f1_score: 0.8366 - val_loss: 0.6671 - val_categorical_accuracy: 0.7502 - val_precision: 0.7722 - val_recall: 0.7287 - val_f1_score: 0.7471\n",
            "Epoch 31/100\n",
            "1000/1000 [==============================] - 12s 12ms/step - loss: 0.4102 - categorical_accuracy: 0.8387 - precision: 0.8566 - recall: 0.8196 - f1_score: 0.8381 - val_loss: 0.6706 - val_categorical_accuracy: 0.7515 - val_precision: 0.7695 - val_recall: 0.7345 - val_f1_score: 0.7472\n",
            "Epoch 32/100\n",
            "1000/1000 [==============================] - 12s 12ms/step - loss: 0.4062 - categorical_accuracy: 0.8410 - precision: 0.8567 - recall: 0.8217 - f1_score: 0.8402 - val_loss: 0.6456 - val_categorical_accuracy: 0.7552 - val_precision: 0.7761 - val_recall: 0.7375 - val_f1_score: 0.7517\n",
            "Epoch 33/100\n",
            "1000/1000 [==============================] - 12s 12ms/step - loss: 0.4060 - categorical_accuracy: 0.8415 - precision: 0.8585 - recall: 0.8232 - f1_score: 0.8409 - val_loss: 0.6676 - val_categorical_accuracy: 0.7490 - val_precision: 0.7690 - val_recall: 0.7250 - val_f1_score: 0.7445\n",
            "Epoch 34/100\n",
            "1000/1000 [==============================] - 12s 12ms/step - loss: 0.4022 - categorical_accuracy: 0.8427 - precision: 0.8600 - recall: 0.8243 - f1_score: 0.8421 - val_loss: 0.6775 - val_categorical_accuracy: 0.7405 - val_precision: 0.7602 - val_recall: 0.7203 - val_f1_score: 0.7369\n",
            "Epoch 35/100\n",
            "1000/1000 [==============================] - 12s 12ms/step - loss: 0.4032 - categorical_accuracy: 0.8435 - precision: 0.8611 - recall: 0.8256 - f1_score: 0.8429 - val_loss: 0.6448 - val_categorical_accuracy: 0.7492 - val_precision: 0.7690 - val_recall: 0.7300 - val_f1_score: 0.7458\n",
            "Epoch 36/100\n",
            "1000/1000 [==============================] - 12s 12ms/step - loss: 0.3915 - categorical_accuracy: 0.8432 - precision: 0.8613 - recall: 0.8256 - f1_score: 0.8426 - val_loss: 0.6665 - val_categorical_accuracy: 0.7542 - val_precision: 0.7703 - val_recall: 0.7352 - val_f1_score: 0.7501\n",
            "Epoch 37/100\n",
            "1000/1000 [==============================] - 12s 12ms/step - loss: 0.3936 - categorical_accuracy: 0.8459 - precision: 0.8620 - recall: 0.8300 - f1_score: 0.8454 - val_loss: 0.6814 - val_categorical_accuracy: 0.7450 - val_precision: 0.7625 - val_recall: 0.7255 - val_f1_score: 0.7443\n",
            "Epoch 38/100\n",
            "1000/1000 [==============================] - 12s 12ms/step - loss: 0.3905 - categorical_accuracy: 0.8467 - precision: 0.8628 - recall: 0.8287 - f1_score: 0.8462 - val_loss: 0.6885 - val_categorical_accuracy: 0.7365 - val_precision: 0.7542 - val_recall: 0.7172 - val_f1_score: 0.7343\n",
            "Epoch 39/100\n",
            "1000/1000 [==============================] - 12s 12ms/step - loss: 0.3969 - categorical_accuracy: 0.8455 - precision: 0.8612 - recall: 0.8270 - f1_score: 0.8449 - val_loss: 0.6801 - val_categorical_accuracy: 0.7508 - val_precision: 0.7687 - val_recall: 0.7330 - val_f1_score: 0.7491\n",
            "Epoch 40/100\n",
            "1000/1000 [==============================] - 12s 12ms/step - loss: 0.3948 - categorical_accuracy: 0.8464 - precision: 0.8621 - recall: 0.8298 - f1_score: 0.8458 - val_loss: 0.6917 - val_categorical_accuracy: 0.7423 - val_precision: 0.7567 - val_recall: 0.7207 - val_f1_score: 0.7383\n",
            "Epoch 41/100\n",
            "1000/1000 [==============================] - 12s 12ms/step - loss: 0.3794 - categorical_accuracy: 0.8522 - precision: 0.8666 - recall: 0.8368 - f1_score: 0.8517 - val_loss: 0.6801 - val_categorical_accuracy: 0.7523 - val_precision: 0.7653 - val_recall: 0.7360 - val_f1_score: 0.7489\n",
            "Epoch 42/100\n",
            "1000/1000 [==============================] - 12s 12ms/step - loss: 0.3830 - categorical_accuracy: 0.8497 - precision: 0.8647 - recall: 0.8338 - f1_score: 0.8492 - val_loss: 0.6793 - val_categorical_accuracy: 0.7467 - val_precision: 0.7626 - val_recall: 0.7293 - val_f1_score: 0.7443\n",
            "Epoch 43/100\n",
            "1000/1000 [==============================] - 12s 12ms/step - loss: 0.3889 - categorical_accuracy: 0.8487 - precision: 0.8636 - recall: 0.8321 - f1_score: 0.8483 - val_loss: 0.7009 - val_categorical_accuracy: 0.7393 - val_precision: 0.7593 - val_recall: 0.7185 - val_f1_score: 0.7360\n",
            "Epoch 44/100\n",
            "1000/1000 [==============================] - 12s 12ms/step - loss: 0.3807 - categorical_accuracy: 0.8527 - precision: 0.8672 - recall: 0.8366 - f1_score: 0.8521 - val_loss: 0.6641 - val_categorical_accuracy: 0.7452 - val_precision: 0.7636 - val_recall: 0.7325 - val_f1_score: 0.7435\n",
            "Epoch 45/100\n",
            "1000/1000 [==============================] - 12s 12ms/step - loss: 0.3784 - categorical_accuracy: 0.8516 - precision: 0.8665 - recall: 0.8356 - f1_score: 0.8511 - val_loss: 0.6777 - val_categorical_accuracy: 0.7515 - val_precision: 0.7688 - val_recall: 0.7340 - val_f1_score: 0.7497\n",
            "Epoch 46/100\n",
            "1000/1000 [==============================] - 12s 12ms/step - loss: 0.3770 - categorical_accuracy: 0.8547 - precision: 0.8692 - recall: 0.8380 - f1_score: 0.8542 - val_loss: 0.6709 - val_categorical_accuracy: 0.7475 - val_precision: 0.7645 - val_recall: 0.7295 - val_f1_score: 0.7457\n",
            "Epoch 47/100\n",
            "1000/1000 [==============================] - 12s 12ms/step - loss: 0.3776 - categorical_accuracy: 0.8533 - precision: 0.8678 - recall: 0.8363 - f1_score: 0.8528 - val_loss: 0.6708 - val_categorical_accuracy: 0.7550 - val_precision: 0.7709 - val_recall: 0.7362 - val_f1_score: 0.7521\n",
            "Epoch 48/100\n",
            "1000/1000 [==============================] - 12s 12ms/step - loss: 0.3764 - categorical_accuracy: 0.8541 - precision: 0.8695 - recall: 0.8377 - f1_score: 0.8536 - val_loss: 0.6593 - val_categorical_accuracy: 0.7642 - val_precision: 0.7766 - val_recall: 0.7450 - val_f1_score: 0.7623\n",
            "Epoch 49/100\n",
            "1000/1000 [==============================] - 12s 12ms/step - loss: 0.3793 - categorical_accuracy: 0.8527 - precision: 0.8681 - recall: 0.8363 - f1_score: 0.8523 - val_loss: 0.6766 - val_categorical_accuracy: 0.7500 - val_precision: 0.7680 - val_recall: 0.7318 - val_f1_score: 0.7487\n",
            "Epoch 50/100\n",
            "1000/1000 [==============================] - 12s 12ms/step - loss: 0.3687 - categorical_accuracy: 0.8586 - precision: 0.8718 - recall: 0.8426 - f1_score: 0.8581 - val_loss: 0.7147 - val_categorical_accuracy: 0.7492 - val_precision: 0.7629 - val_recall: 0.7327 - val_f1_score: 0.7468\n",
            "Epoch 51/100\n",
            "1000/1000 [==============================] - 12s 12ms/step - loss: 0.3783 - categorical_accuracy: 0.8537 - precision: 0.8681 - recall: 0.8370 - f1_score: 0.8533 - val_loss: 0.6693 - val_categorical_accuracy: 0.7552 - val_precision: 0.7685 - val_recall: 0.7370 - val_f1_score: 0.7527\n",
            "Epoch 52/100\n",
            "1000/1000 [==============================] - 12s 12ms/step - loss: 0.3842 - categorical_accuracy: 0.8518 - precision: 0.8665 - recall: 0.8353 - f1_score: 0.8512 - val_loss: 0.6670 - val_categorical_accuracy: 0.7533 - val_precision: 0.7754 - val_recall: 0.7355 - val_f1_score: 0.7518\n",
            "Epoch 53/100\n",
            "1000/1000 [==============================] - 12s 12ms/step - loss: 0.3777 - categorical_accuracy: 0.8538 - precision: 0.8699 - recall: 0.8367 - f1_score: 0.8534 - val_loss: 0.6990 - val_categorical_accuracy: 0.7485 - val_precision: 0.7638 - val_recall: 0.7322 - val_f1_score: 0.7444\n",
            "Epoch 54/100\n",
            "1000/1000 [==============================] - 12s 12ms/step - loss: 0.3854 - categorical_accuracy: 0.8482 - precision: 0.8657 - recall: 0.8310 - f1_score: 0.8476 - val_loss: 0.6619 - val_categorical_accuracy: 0.7520 - val_precision: 0.7737 - val_recall: 0.7315 - val_f1_score: 0.7508\n",
            "Epoch 55/100\n",
            "1000/1000 [==============================] - 12s 12ms/step - loss: 0.3746 - categorical_accuracy: 0.8548 - precision: 0.8707 - recall: 0.8370 - f1_score: 0.8544 - val_loss: 0.6740 - val_categorical_accuracy: 0.7560 - val_precision: 0.7731 - val_recall: 0.7350 - val_f1_score: 0.7539\n",
            "Epoch 56/100\n",
            "1000/1000 [==============================] - 12s 12ms/step - loss: 0.3816 - categorical_accuracy: 0.8510 - precision: 0.8658 - recall: 0.8352 - f1_score: 0.8505 - val_loss: 0.6610 - val_categorical_accuracy: 0.7598 - val_precision: 0.7744 - val_recall: 0.7408 - val_f1_score: 0.7592\n",
            "Epoch 57/100\n",
            "1000/1000 [==============================] - 12s 12ms/step - loss: 0.3825 - categorical_accuracy: 0.8493 - precision: 0.8652 - recall: 0.8342 - f1_score: 0.8487 - val_loss: 0.6710 - val_categorical_accuracy: 0.7520 - val_precision: 0.7720 - val_recall: 0.7347 - val_f1_score: 0.7506\n",
            "Epoch 58/100\n",
            "1000/1000 [==============================] - 12s 12ms/step - loss: 0.3831 - categorical_accuracy: 0.8501 - precision: 0.8648 - recall: 0.8335 - f1_score: 0.8497 - val_loss: 0.6708 - val_categorical_accuracy: 0.7538 - val_precision: 0.7688 - val_recall: 0.7358 - val_f1_score: 0.7524\n",
            "Epoch 59/100\n",
            "1000/1000 [==============================] - 12s 12ms/step - loss: 0.3843 - categorical_accuracy: 0.8507 - precision: 0.8661 - recall: 0.8327 - f1_score: 0.8502 - val_loss: 0.6671 - val_categorical_accuracy: 0.7560 - val_precision: 0.7729 - val_recall: 0.7385 - val_f1_score: 0.7539\n",
            "Epoch 60/100\n",
            "1000/1000 [==============================] - 12s 12ms/step - loss: 0.3848 - categorical_accuracy: 0.8478 - precision: 0.8632 - recall: 0.8314 - f1_score: 0.8473 - val_loss: 0.6728 - val_categorical_accuracy: 0.7500 - val_precision: 0.7666 - val_recall: 0.7318 - val_f1_score: 0.7481\n",
            "Epoch 61/100\n",
            "1000/1000 [==============================] - 12s 12ms/step - loss: 0.3806 - categorical_accuracy: 0.8503 - precision: 0.8658 - recall: 0.8333 - f1_score: 0.8498 - val_loss: 0.6715 - val_categorical_accuracy: 0.7552 - val_precision: 0.7684 - val_recall: 0.7368 - val_f1_score: 0.7542\n",
            "Epoch 62/100\n",
            "1000/1000 [==============================] - 12s 12ms/step - loss: 0.3691 - categorical_accuracy: 0.8560 - precision: 0.8711 - recall: 0.8402 - f1_score: 0.8557 - val_loss: 0.6572 - val_categorical_accuracy: 0.7623 - val_precision: 0.7763 - val_recall: 0.7452 - val_f1_score: 0.7606\n",
            "Epoch 63/100\n",
            "1000/1000 [==============================] - 12s 12ms/step - loss: 0.3789 - categorical_accuracy: 0.8518 - precision: 0.8662 - recall: 0.8358 - f1_score: 0.8513 - val_loss: 0.6565 - val_categorical_accuracy: 0.7542 - val_precision: 0.7728 - val_recall: 0.7383 - val_f1_score: 0.7519\n",
            "Epoch 64/100\n",
            "1000/1000 [==============================] - 12s 12ms/step - loss: 0.3731 - categorical_accuracy: 0.8556 - precision: 0.8709 - recall: 0.8385 - f1_score: 0.8552 - val_loss: 0.6611 - val_categorical_accuracy: 0.7527 - val_precision: 0.7723 - val_recall: 0.7300 - val_f1_score: 0.7514\n",
            "Epoch 65/100\n",
            "1000/1000 [==============================] - 12s 12ms/step - loss: 0.3724 - categorical_accuracy: 0.8549 - precision: 0.8709 - recall: 0.8391 - f1_score: 0.8545 - val_loss: 0.6602 - val_categorical_accuracy: 0.7585 - val_precision: 0.7775 - val_recall: 0.7380 - val_f1_score: 0.7588\n",
            "Epoch 66/100\n",
            "1000/1000 [==============================] - 12s 12ms/step - loss: 0.3689 - categorical_accuracy: 0.8556 - precision: 0.8704 - recall: 0.8405 - f1_score: 0.8552 - val_loss: 0.6705 - val_categorical_accuracy: 0.7582 - val_precision: 0.7761 - val_recall: 0.7452 - val_f1_score: 0.7568\n",
            "Epoch 67/100\n",
            "1000/1000 [==============================] - 12s 12ms/step - loss: 0.3688 - categorical_accuracy: 0.8546 - precision: 0.8696 - recall: 0.8392 - f1_score: 0.8540 - val_loss: 0.6602 - val_categorical_accuracy: 0.7630 - val_precision: 0.7783 - val_recall: 0.7452 - val_f1_score: 0.7613\n",
            "Epoch 68/100\n",
            "1000/1000 [==============================] - 12s 12ms/step - loss: 0.3657 - categorical_accuracy: 0.8579 - precision: 0.8711 - recall: 0.8437 - f1_score: 0.8576 - val_loss: 0.6809 - val_categorical_accuracy: 0.7450 - val_precision: 0.7621 - val_recall: 0.7280 - val_f1_score: 0.7430\n",
            "Epoch 69/100\n",
            "1000/1000 [==============================] - 12s 12ms/step - loss: 0.3696 - categorical_accuracy: 0.8576 - precision: 0.8710 - recall: 0.8420 - f1_score: 0.8572 - val_loss: 0.6807 - val_categorical_accuracy: 0.7542 - val_precision: 0.7715 - val_recall: 0.7395 - val_f1_score: 0.7518\n",
            "Epoch 70/100\n",
            "1000/1000 [==============================] - 12s 12ms/step - loss: 0.3628 - categorical_accuracy: 0.8546 - precision: 0.8706 - recall: 0.8402 - f1_score: 0.8542 - val_loss: 0.6669 - val_categorical_accuracy: 0.7600 - val_precision: 0.7773 - val_recall: 0.7435 - val_f1_score: 0.7575\n",
            "Epoch 71/100\n",
            "1000/1000 [==============================] - 12s 12ms/step - loss: 0.3637 - categorical_accuracy: 0.8564 - precision: 0.8704 - recall: 0.8423 - f1_score: 0.8560 - val_loss: 0.6642 - val_categorical_accuracy: 0.7523 - val_precision: 0.7683 - val_recall: 0.7355 - val_f1_score: 0.7502\n",
            "Epoch 72/100\n",
            "1000/1000 [==============================] - 12s 12ms/step - loss: 0.3643 - categorical_accuracy: 0.8581 - precision: 0.8727 - recall: 0.8422 - f1_score: 0.8577 - val_loss: 0.6759 - val_categorical_accuracy: 0.7498 - val_precision: 0.7643 - val_recall: 0.7295 - val_f1_score: 0.7477\n",
            "Epoch 73/100\n",
            "1000/1000 [==============================] - 12s 12ms/step - loss: 0.3629 - categorical_accuracy: 0.8595 - precision: 0.8740 - recall: 0.8433 - f1_score: 0.8591 - val_loss: 0.6520 - val_categorical_accuracy: 0.7567 - val_precision: 0.7729 - val_recall: 0.7350 - val_f1_score: 0.7549\n",
            "Epoch 74/100\n",
            "1000/1000 [==============================] - 12s 12ms/step - loss: 0.3690 - categorical_accuracy: 0.8533 - precision: 0.8673 - recall: 0.8381 - f1_score: 0.8527 - val_loss: 0.6755 - val_categorical_accuracy: 0.7550 - val_precision: 0.7716 - val_recall: 0.7375 - val_f1_score: 0.7510\n",
            "Epoch 75/100\n",
            "1000/1000 [==============================] - 12s 12ms/step - loss: 0.3668 - categorical_accuracy: 0.8590 - precision: 0.8736 - recall: 0.8432 - f1_score: 0.8586 - val_loss: 0.7118 - val_categorical_accuracy: 0.7435 - val_precision: 0.7572 - val_recall: 0.7253 - val_f1_score: 0.7403\n",
            "Epoch 76/100\n",
            "1000/1000 [==============================] - 12s 12ms/step - loss: 0.3675 - categorical_accuracy: 0.8570 - precision: 0.8731 - recall: 0.8412 - f1_score: 0.8566 - val_loss: 0.6743 - val_categorical_accuracy: 0.7515 - val_precision: 0.7664 - val_recall: 0.7347 - val_f1_score: 0.7500\n",
            "Epoch 77/100\n",
            "1000/1000 [==============================] - 12s 12ms/step - loss: 0.3629 - categorical_accuracy: 0.8587 - precision: 0.8715 - recall: 0.8437 - f1_score: 0.8583 - val_loss: 0.6696 - val_categorical_accuracy: 0.7502 - val_precision: 0.7683 - val_recall: 0.7370 - val_f1_score: 0.7485\n",
            "Epoch 78/100\n",
            "1000/1000 [==============================] - 12s 12ms/step - loss: 0.3682 - categorical_accuracy: 0.8556 - precision: 0.8697 - recall: 0.8408 - f1_score: 0.8551 - val_loss: 0.7149 - val_categorical_accuracy: 0.7533 - val_precision: 0.7700 - val_recall: 0.7358 - val_f1_score: 0.7496\n",
            "Epoch 79/100\n",
            "1000/1000 [==============================] - 12s 12ms/step - loss: 0.3698 - categorical_accuracy: 0.8578 - precision: 0.8723 - recall: 0.8422 - f1_score: 0.8573 - val_loss: 0.6560 - val_categorical_accuracy: 0.7635 - val_precision: 0.7789 - val_recall: 0.7477 - val_f1_score: 0.7605\n",
            "Epoch 80/100\n",
            "1000/1000 [==============================] - 12s 12ms/step - loss: 0.3655 - categorical_accuracy: 0.8574 - precision: 0.8718 - recall: 0.8424 - f1_score: 0.8571 - val_loss: 0.6651 - val_categorical_accuracy: 0.7598 - val_precision: 0.7784 - val_recall: 0.7420 - val_f1_score: 0.7581\n",
            "Epoch 81/100\n",
            "1000/1000 [==============================] - 12s 12ms/step - loss: 0.3657 - categorical_accuracy: 0.8597 - precision: 0.8735 - recall: 0.8446 - f1_score: 0.8593 - val_loss: 0.6732 - val_categorical_accuracy: 0.7452 - val_precision: 0.7639 - val_recall: 0.7320 - val_f1_score: 0.7442\n",
            "Epoch 82/100\n",
            "1000/1000 [==============================] - 12s 12ms/step - loss: 0.3664 - categorical_accuracy: 0.8593 - precision: 0.8733 - recall: 0.8438 - f1_score: 0.8589 - val_loss: 0.6875 - val_categorical_accuracy: 0.7517 - val_precision: 0.7687 - val_recall: 0.7362 - val_f1_score: 0.7491\n",
            "Epoch 83/100\n",
            "1000/1000 [==============================] - 12s 12ms/step - loss: 0.3672 - categorical_accuracy: 0.8576 - precision: 0.8710 - recall: 0.8428 - f1_score: 0.8572 - val_loss: 0.7132 - val_categorical_accuracy: 0.7500 - val_precision: 0.7643 - val_recall: 0.7320 - val_f1_score: 0.7465\n",
            "Epoch 84/100\n",
            "1000/1000 [==============================] - 12s 12ms/step - loss: 0.3651 - categorical_accuracy: 0.8603 - precision: 0.8748 - recall: 0.8462 - f1_score: 0.8599 - val_loss: 0.6857 - val_categorical_accuracy: 0.7542 - val_precision: 0.7702 - val_recall: 0.7347 - val_f1_score: 0.7524\n",
            "Epoch 85/100\n",
            "1000/1000 [==============================] - 12s 12ms/step - loss: 0.3604 - categorical_accuracy: 0.8597 - precision: 0.8733 - recall: 0.8459 - f1_score: 0.8593 - val_loss: 0.6604 - val_categorical_accuracy: 0.7617 - val_precision: 0.7796 - val_recall: 0.7445 - val_f1_score: 0.7595\n",
            "Epoch 86/100\n",
            "1000/1000 [==============================] - 12s 12ms/step - loss: 0.3601 - categorical_accuracy: 0.8595 - precision: 0.8736 - recall: 0.8458 - f1_score: 0.8592 - val_loss: 0.6543 - val_categorical_accuracy: 0.7598 - val_precision: 0.7767 - val_recall: 0.7427 - val_f1_score: 0.7578\n",
            "Epoch 87/100\n",
            "1000/1000 [==============================] - 12s 12ms/step - loss: 0.3638 - categorical_accuracy: 0.8575 - precision: 0.8720 - recall: 0.8425 - f1_score: 0.8571 - val_loss: 0.6736 - val_categorical_accuracy: 0.7580 - val_precision: 0.7787 - val_recall: 0.7408 - val_f1_score: 0.7559\n",
            "Epoch 88/100\n",
            "1000/1000 [==============================] - 12s 12ms/step - loss: 0.3650 - categorical_accuracy: 0.8581 - precision: 0.8720 - recall: 0.8426 - f1_score: 0.8577 - val_loss: 0.6679 - val_categorical_accuracy: 0.7530 - val_precision: 0.7715 - val_recall: 0.7370 - val_f1_score: 0.7520\n",
            "Epoch 89/100\n",
            "1000/1000 [==============================] - 12s 12ms/step - loss: 0.3655 - categorical_accuracy: 0.8579 - precision: 0.8725 - recall: 0.8428 - f1_score: 0.8575 - val_loss: 0.6603 - val_categorical_accuracy: 0.7623 - val_precision: 0.7799 - val_recall: 0.7458 - val_f1_score: 0.7603\n",
            "Epoch 90/100\n",
            "1000/1000 [==============================] - 12s 12ms/step - loss: 0.3616 - categorical_accuracy: 0.8607 - precision: 0.8759 - recall: 0.8451 - f1_score: 0.8603 - val_loss: 0.6948 - val_categorical_accuracy: 0.7487 - val_precision: 0.7676 - val_recall: 0.7347 - val_f1_score: 0.7463\n",
            "Epoch 91/100\n",
            "1000/1000 [==============================] - 12s 12ms/step - loss: 0.3579 - categorical_accuracy: 0.8616 - precision: 0.8737 - recall: 0.8473 - f1_score: 0.8611 - val_loss: 0.6535 - val_categorical_accuracy: 0.7615 - val_precision: 0.7770 - val_recall: 0.7405 - val_f1_score: 0.7594\n",
            "Epoch 92/100\n",
            "1000/1000 [==============================] - 12s 12ms/step - loss: 0.3568 - categorical_accuracy: 0.8622 - precision: 0.8760 - recall: 0.8481 - f1_score: 0.8618 - val_loss: 0.6882 - val_categorical_accuracy: 0.7577 - val_precision: 0.7709 - val_recall: 0.7412 - val_f1_score: 0.7557\n",
            "Epoch 93/100\n",
            "1000/1000 [==============================] - 12s 12ms/step - loss: 0.3583 - categorical_accuracy: 0.8614 - precision: 0.8747 - recall: 0.8460 - f1_score: 0.8610 - val_loss: 0.6846 - val_categorical_accuracy: 0.7545 - val_precision: 0.7680 - val_recall: 0.7398 - val_f1_score: 0.7531\n",
            "Epoch 94/100\n",
            "1000/1000 [==============================] - 12s 12ms/step - loss: 0.3579 - categorical_accuracy: 0.8602 - precision: 0.8733 - recall: 0.8464 - f1_score: 0.8598 - val_loss: 0.6911 - val_categorical_accuracy: 0.7655 - val_precision: 0.7809 - val_recall: 0.7477 - val_f1_score: 0.7599\n",
            "Epoch 95/100\n",
            "1000/1000 [==============================] - 12s 12ms/step - loss: 0.3637 - categorical_accuracy: 0.8581 - precision: 0.8730 - recall: 0.8424 - f1_score: 0.8577 - val_loss: 0.6722 - val_categorical_accuracy: 0.7598 - val_precision: 0.7765 - val_recall: 0.7435 - val_f1_score: 0.7563\n",
            "Epoch 96/100\n",
            "1000/1000 [==============================] - 12s 12ms/step - loss: 0.3647 - categorical_accuracy: 0.8580 - precision: 0.8728 - recall: 0.8435 - f1_score: 0.8576 - val_loss: 0.6777 - val_categorical_accuracy: 0.7588 - val_precision: 0.7776 - val_recall: 0.7405 - val_f1_score: 0.7545\n",
            "Epoch 97/100\n",
            "1000/1000 [==============================] - 12s 12ms/step - loss: 0.3607 - categorical_accuracy: 0.8601 - precision: 0.8746 - recall: 0.8460 - f1_score: 0.8597 - val_loss: 0.6243 - val_categorical_accuracy: 0.7740 - val_precision: 0.7912 - val_recall: 0.7598 - val_f1_score: 0.7718\n",
            "Epoch 98/100\n",
            "1000/1000 [==============================] - 12s 12ms/step - loss: 0.3642 - categorical_accuracy: 0.8609 - precision: 0.8749 - recall: 0.8454 - f1_score: 0.8605 - val_loss: 0.6422 - val_categorical_accuracy: 0.7648 - val_precision: 0.7795 - val_recall: 0.7450 - val_f1_score: 0.7621\n",
            "Epoch 99/100\n",
            "1000/1000 [==============================] - 12s 12ms/step - loss: 0.3579 - categorical_accuracy: 0.8601 - precision: 0.8746 - recall: 0.8461 - f1_score: 0.8597 - val_loss: 0.6541 - val_categorical_accuracy: 0.7645 - val_precision: 0.7835 - val_recall: 0.7427 - val_f1_score: 0.7636\n",
            "Epoch 100/100\n",
            "1000/1000 [==============================] - 12s 12ms/step - loss: 0.3625 - categorical_accuracy: 0.8594 - precision: 0.8738 - recall: 0.8443 - f1_score: 0.8589 - val_loss: 0.6667 - val_categorical_accuracy: 0.7648 - val_precision: 0.7835 - val_recall: 0.7508 - val_f1_score: 0.7633\n"
          ]
        }
      ]
    },
    {
      "cell_type": "code",
      "source": [
        "#plot loss\n",
        "plt.plot(history_lstm.history['loss'])\n",
        "plt.plot(history_lstm.history['val_loss'])\n",
        "plt.title('Baseline LSTM - Train/Val Loss')\n",
        "plt.ylabel('loss')\n",
        "plt.xlabel('epoch')\n",
        "plt.legend(['Tain', 'Val'])\n",
        "plt.show()"
      ],
      "metadata": {
        "id": "zYdTPhCYYJQV",
        "outputId": "aa24fb8e-d015-42d4-b9f5-a813fa8297b3",
        "colab": {
          "base_uri": "https://localhost:8080/",
          "height": 472
        }
      },
      "execution_count": 35,
      "outputs": [
        {
          "output_type": "display_data",
          "data": {
            "text/plain": [
              "<Figure size 640x480 with 1 Axes>"
            ],
            "image/png": "[encoded data removed]"
          },
          "metadata": {}
        }
      ]
    },
    {
      "cell_type": "code",
      "source": [
        "# evaluate on test data\n",
        "lstm_base.evaluate(X_test_norm, y_test)"
      ],
      "metadata": {
        "id": "QrfFYsYC1z6i",
        "outputId": "4ba36249-5068-4dc1-eec8-59c3d385d39b",
        "colab": {
          "base_uri": "https://localhost:8080/"
        }
      },
      "execution_count": 36,
      "outputs": [
        {
          "output_type": "stream",
          "name": "stdout",
          "text": [
            "125/125 [==============================] - 1s 6ms/step - loss: 1.7582 - categorical_accuracy: 0.2567 - precision: 0.2610 - recall: 0.2438 - f1_score: 0.1218\n"
          ]
        },
        {
          "output_type": "execute_result",
          "data": {
            "text/plain": [
              "[1.758238434791565,\n",
              " 0.2567499876022339,\n",
              " 0.2610441744327545,\n",
              " 0.24375000596046448,\n",
              " array([0.40155706, 0.08568824, 0.        , 0.        ], dtype=float32)]"
            ]
          },
          "metadata": {},
          "execution_count": 36
        }
      ]
    },
    {
      "cell_type": "markdown",
      "source": [
        "#### Observations on Baseline LSTM\n",
        "\n",
        "As illustrated in the loss curves above, the Baseline LSTM is overfitting on the training data.  Our next LSTM will need to incorporate techniques to mitigate this."
      ],
      "metadata": {
        "id": "DJ_2PGTdg45p"
      }
    },
    {
      "cell_type": "code",
      "source": [
        "# define LSTM with mitigations for overfitting: more layers, more dropout\n",
        "lstm_exp1 = tf.keras.models.Sequential([\n",
        "\n",
        "    # input our sequence tensors\n",
        "    tf.keras.layers.Input(shape=(NORM_SEQUENCE_LENGTH, NUM_PIANO_KEYS)),\n",
        "    tf.keras.layers.Normalization(axis=None),\n",
        "    tf.keras.layers.LSTM(128, return_sequences=True),\n",
        "    tf.keras.layers.Dropout(0.3),\n",
        "    tf.keras.layers.LSTM(32, return_sequences=False),\n",
        "\n",
        "    # classification head\n",
        "    tf.keras.layers.Dense(32, activation='relu'),\n",
        "    tf.keras.layers.Dropout(0.3),\n",
        "    tf.keras.layers.Dense(32, activation='relu'),\n",
        "    tf.keras.layers.Dense(units = NUM_COMPOSERS, activation='softmax')\n",
        "])\n",
        "\n",
        "# Compile the model\n",
        "lstm_exp1.compile(\n",
        "    optimizer=keras.optimizers.Adam(learning_rate=LEARNING_RATE),\n",
        "    loss=tf.keras.losses.CategoricalCrossentropy(),\n",
        "    metrics=[keras.metrics.CategoricalAccuracy(), keras.metrics.Precision(), keras.metrics.Recall(), keras.metrics.F1Score()]\n",
        ")"
      ],
      "metadata": {
        "id": "647PpxNuge-b"
      },
      "execution_count": 31,
      "outputs": []
    },
    {
      "cell_type": "code",
      "source": [
        "# Train the model\n",
        "history_lstm_exp1 = lstm_exp1.fit(X_train, y_train, validation_data=(X_val,y_val), epochs=NUM_EPOCHS, batch_size=BATCH_SIZE)"
      ],
      "metadata": {
        "id": "jusbEeSZigcR",
        "outputId": "7d8e42ca-c6e7-47b4-b7ae-3b62b3794e47",
        "colab": {
          "base_uri": "https://localhost:8080/"
        }
      },
      "execution_count": 32,
      "outputs": [
        {
          "output_type": "stream",
          "name": "stdout",
          "text": [
            "Epoch 1/100\n",
            "1000/1000 [==============================] - 23s 17ms/step - loss: 1.1482 - categorical_accuracy: 0.4891 - precision_1: 0.6467 - recall_1: 0.2396 - f1_score: 0.4791 - val_loss: 0.9621 - val_categorical_accuracy: 0.5930 - val_precision_1: 0.6853 - val_recall_1: 0.4383 - val_f1_score: 0.5601\n",
            "Epoch 2/100\n",
            "1000/1000 [==============================] - 15s 15ms/step - loss: 0.9231 - categorical_accuracy: 0.6203 - precision_1: 0.6947 - recall_1: 0.4857 - f1_score: 0.6113 - val_loss: 0.8502 - val_categorical_accuracy: 0.6518 - val_precision_1: 0.6997 - val_recall_1: 0.5842 - val_f1_score: 0.6483\n",
            "Epoch 3/100\n",
            "1000/1000 [==============================] - 15s 15ms/step - loss: 0.8024 - categorical_accuracy: 0.6713 - precision_1: 0.7265 - recall_1: 0.5867 - f1_score: 0.6617 - val_loss: 0.7649 - val_categorical_accuracy: 0.6867 - val_precision_1: 0.7405 - val_recall_1: 0.6220 - val_f1_score: 0.6790\n",
            "Epoch 4/100\n",
            "1000/1000 [==============================] - 15s 15ms/step - loss: 0.6847 - categorical_accuracy: 0.7238 - precision_1: 0.7617 - recall_1: 0.6718 - f1_score: 0.7172 - val_loss: 0.7007 - val_categorical_accuracy: 0.7188 - val_precision_1: 0.7613 - val_recall_1: 0.6633 - val_f1_score: 0.7147\n",
            "Epoch 5/100\n",
            "1000/1000 [==============================] - 16s 16ms/step - loss: 0.6128 - categorical_accuracy: 0.7557 - precision_1: 0.7869 - recall_1: 0.7150 - f1_score: 0.7510 - val_loss: 0.6607 - val_categorical_accuracy: 0.7370 - val_precision_1: 0.7680 - val_recall_1: 0.7050 - val_f1_score: 0.7370\n",
            "Epoch 6/100\n",
            "1000/1000 [==============================] - 15s 15ms/step - loss: 0.5467 - categorical_accuracy: 0.7866 - precision_1: 0.8131 - recall_1: 0.7573 - f1_score: 0.7835 - val_loss: 0.6063 - val_categorical_accuracy: 0.7595 - val_precision_1: 0.7871 - val_recall_1: 0.7320 - val_f1_score: 0.7559\n",
            "Epoch 7/100\n",
            "1000/1000 [==============================] - 16s 16ms/step - loss: 0.4996 - categorical_accuracy: 0.8070 - precision_1: 0.8268 - recall_1: 0.7842 - f1_score: 0.8049 - val_loss: 0.5906 - val_categorical_accuracy: 0.7678 - val_precision_1: 0.7915 - val_recall_1: 0.7490 - val_f1_score: 0.7681\n",
            "Epoch 8/100\n",
            "1000/1000 [==============================] - 15s 15ms/step - loss: 0.4566 - categorical_accuracy: 0.8272 - precision_1: 0.8442 - recall_1: 0.8070 - f1_score: 0.8257 - val_loss: 0.5769 - val_categorical_accuracy: 0.7763 - val_precision_1: 0.7918 - val_recall_1: 0.7588 - val_f1_score: 0.7778\n",
            "Epoch 9/100\n",
            "1000/1000 [==============================] - 16s 16ms/step - loss: 0.4335 - categorical_accuracy: 0.8394 - precision_1: 0.8541 - recall_1: 0.8238 - f1_score: 0.8384 - val_loss: 0.5457 - val_categorical_accuracy: 0.7893 - val_precision_1: 0.8068 - val_recall_1: 0.7705 - val_f1_score: 0.7918\n",
            "Epoch 10/100\n",
            "1000/1000 [==============================] - 15s 15ms/step - loss: 0.3924 - categorical_accuracy: 0.8554 - precision_1: 0.8674 - recall_1: 0.8418 - f1_score: 0.8546 - val_loss: 0.5227 - val_categorical_accuracy: 0.8033 - val_precision_1: 0.8199 - val_recall_1: 0.7910 - val_f1_score: 0.8031\n",
            "Epoch 11/100\n",
            "1000/1000 [==============================] - 15s 15ms/step - loss: 0.3736 - categorical_accuracy: 0.8608 - precision_1: 0.8730 - recall_1: 0.8473 - f1_score: 0.8600 - val_loss: 0.5157 - val_categorical_accuracy: 0.8010 - val_precision_1: 0.8162 - val_recall_1: 0.7862 - val_f1_score: 0.8035\n",
            "Epoch 12/100\n",
            "1000/1000 [==============================] - 15s 15ms/step - loss: 0.3537 - categorical_accuracy: 0.8695 - precision_1: 0.8820 - recall_1: 0.8590 - f1_score: 0.8689 - val_loss: 0.5270 - val_categorical_accuracy: 0.8027 - val_precision_1: 0.8163 - val_recall_1: 0.7890 - val_f1_score: 0.8058\n",
            "Epoch 13/100\n",
            "1000/1000 [==============================] - 16s 16ms/step - loss: 0.3368 - categorical_accuracy: 0.8771 - precision_1: 0.8871 - recall_1: 0.8676 - f1_score: 0.8766 - val_loss: 0.4905 - val_categorical_accuracy: 0.8183 - val_precision_1: 0.8334 - val_recall_1: 0.8043 - val_f1_score: 0.8193\n",
            "Epoch 14/100\n",
            "1000/1000 [==============================] - 16s 16ms/step - loss: 0.3137 - categorical_accuracy: 0.8870 - precision_1: 0.8960 - recall_1: 0.8786 - f1_score: 0.8865 - val_loss: 0.5086 - val_categorical_accuracy: 0.8142 - val_precision_1: 0.8245 - val_recall_1: 0.8035 - val_f1_score: 0.8172\n",
            "Epoch 15/100\n",
            "1000/1000 [==============================] - 15s 15ms/step - loss: 0.3019 - categorical_accuracy: 0.8913 - precision_1: 0.9007 - recall_1: 0.8813 - f1_score: 0.8909 - val_loss: 0.4663 - val_categorical_accuracy: 0.8307 - val_precision_1: 0.8461 - val_recall_1: 0.8180 - val_f1_score: 0.8314\n",
            "Epoch 16/100\n",
            "1000/1000 [==============================] - 16s 16ms/step - loss: 0.2842 - categorical_accuracy: 0.8960 - precision_1: 0.9038 - recall_1: 0.8882 - f1_score: 0.8957 - val_loss: 0.4724 - val_categorical_accuracy: 0.8250 - val_precision_1: 0.8377 - val_recall_1: 0.8130 - val_f1_score: 0.8265\n",
            "Epoch 17/100\n",
            "1000/1000 [==============================] - 16s 16ms/step - loss: 0.2749 - categorical_accuracy: 0.9017 - precision_1: 0.9091 - recall_1: 0.8939 - f1_score: 0.9014 - val_loss: 0.4636 - val_categorical_accuracy: 0.8385 - val_precision_1: 0.8534 - val_recall_1: 0.8292 - val_f1_score: 0.8396\n",
            "Epoch 18/100\n",
            "1000/1000 [==============================] - 15s 15ms/step - loss: 0.2627 - categorical_accuracy: 0.9053 - precision_1: 0.9122 - recall_1: 0.8986 - f1_score: 0.9050 - val_loss: 0.4800 - val_categorical_accuracy: 0.8248 - val_precision_1: 0.8377 - val_recall_1: 0.8140 - val_f1_score: 0.8260\n",
            "Epoch 19/100\n",
            "1000/1000 [==============================] - 15s 15ms/step - loss: 0.2457 - categorical_accuracy: 0.9119 - precision_1: 0.9187 - recall_1: 0.9054 - f1_score: 0.9116 - val_loss: 0.4368 - val_categorical_accuracy: 0.8485 - val_precision_1: 0.8566 - val_recall_1: 0.8390 - val_f1_score: 0.8499\n",
            "Epoch 20/100\n",
            "1000/1000 [==============================] - 16s 16ms/step - loss: 0.2334 - categorical_accuracy: 0.9165 - precision_1: 0.9226 - recall_1: 0.9107 - f1_score: 0.9163 - val_loss: 0.4371 - val_categorical_accuracy: 0.8428 - val_precision_1: 0.8537 - val_recall_1: 0.8317 - val_f1_score: 0.8444\n",
            "Epoch 21/100\n",
            "1000/1000 [==============================] - 15s 15ms/step - loss: 0.2313 - categorical_accuracy: 0.9177 - precision_1: 0.9235 - recall_1: 0.9120 - f1_score: 0.9174 - val_loss: 0.4423 - val_categorical_accuracy: 0.8390 - val_precision_1: 0.8473 - val_recall_1: 0.8313 - val_f1_score: 0.8402\n",
            "Epoch 22/100\n",
            "1000/1000 [==============================] - 16s 16ms/step - loss: 0.2238 - categorical_accuracy: 0.9215 - precision_1: 0.9271 - recall_1: 0.9165 - f1_score: 0.9213 - val_loss: 0.4266 - val_categorical_accuracy: 0.8497 - val_precision_1: 0.8617 - val_recall_1: 0.8397 - val_f1_score: 0.8491\n",
            "Epoch 23/100\n",
            "1000/1000 [==============================] - 15s 15ms/step - loss: 0.2187 - categorical_accuracy: 0.9221 - precision_1: 0.9278 - recall_1: 0.9175 - f1_score: 0.9220 - val_loss: 0.4211 - val_categorical_accuracy: 0.8533 - val_precision_1: 0.8623 - val_recall_1: 0.8440 - val_f1_score: 0.8538\n",
            "Epoch 24/100\n",
            "1000/1000 [==============================] - 16s 16ms/step - loss: 0.2056 - categorical_accuracy: 0.9262 - precision_1: 0.9309 - recall_1: 0.9218 - f1_score: 0.9261 - val_loss: 0.4325 - val_categorical_accuracy: 0.8505 - val_precision_1: 0.8589 - val_recall_1: 0.8418 - val_f1_score: 0.8510\n",
            "Epoch 25/100\n",
            "1000/1000 [==============================] - 15s 15ms/step - loss: 0.1999 - categorical_accuracy: 0.9307 - precision_1: 0.9351 - recall_1: 0.9263 - f1_score: 0.9305 - val_loss: 0.4441 - val_categorical_accuracy: 0.8440 - val_precision_1: 0.8543 - val_recall_1: 0.8388 - val_f1_score: 0.8460\n",
            "Epoch 26/100\n",
            "1000/1000 [==============================] - 16s 16ms/step - loss: 0.1949 - categorical_accuracy: 0.9317 - precision_1: 0.9363 - recall_1: 0.9277 - f1_score: 0.9316 - val_loss: 0.4330 - val_categorical_accuracy: 0.8510 - val_precision_1: 0.8559 - val_recall_1: 0.8438 - val_f1_score: 0.8513\n",
            "Epoch 27/100\n",
            "1000/1000 [==============================] - 16s 16ms/step - loss: 0.1866 - categorical_accuracy: 0.9339 - precision_1: 0.9382 - recall_1: 0.9297 - f1_score: 0.9338 - val_loss: 0.4160 - val_categorical_accuracy: 0.8528 - val_precision_1: 0.8587 - val_recall_1: 0.8450 - val_f1_score: 0.8531\n",
            "Epoch 28/100\n",
            "1000/1000 [==============================] - 16s 16ms/step - loss: 0.1850 - categorical_accuracy: 0.9345 - precision_1: 0.9385 - recall_1: 0.9302 - f1_score: 0.9343 - val_loss: 0.4103 - val_categorical_accuracy: 0.8585 - val_precision_1: 0.8649 - val_recall_1: 0.8497 - val_f1_score: 0.8592\n",
            "Epoch 29/100\n",
            "1000/1000 [==============================] - 16s 16ms/step - loss: 0.1803 - categorical_accuracy: 0.9381 - precision_1: 0.9417 - recall_1: 0.9340 - f1_score: 0.9380 - val_loss: 0.4117 - val_categorical_accuracy: 0.8472 - val_precision_1: 0.8559 - val_recall_1: 0.8378 - val_f1_score: 0.8472\n",
            "Epoch 30/100\n",
            "1000/1000 [==============================] - 16s 16ms/step - loss: 0.1736 - categorical_accuracy: 0.9379 - precision_1: 0.9419 - recall_1: 0.9344 - f1_score: 0.9378 - val_loss: 0.4161 - val_categorical_accuracy: 0.8525 - val_precision_1: 0.8627 - val_recall_1: 0.8468 - val_f1_score: 0.8535\n",
            "Epoch 31/100\n",
            "1000/1000 [==============================] - 16s 16ms/step - loss: 0.1704 - categorical_accuracy: 0.9404 - precision_1: 0.9443 - recall_1: 0.9367 - f1_score: 0.9403 - val_loss: 0.4461 - val_categorical_accuracy: 0.8485 - val_precision_1: 0.8548 - val_recall_1: 0.8430 - val_f1_score: 0.8513\n",
            "Epoch 32/100\n",
            "1000/1000 [==============================] - 16s 16ms/step - loss: 0.1644 - categorical_accuracy: 0.9420 - precision_1: 0.9460 - recall_1: 0.9387 - f1_score: 0.9419 - val_loss: 0.4122 - val_categorical_accuracy: 0.8572 - val_precision_1: 0.8660 - val_recall_1: 0.8495 - val_f1_score: 0.8583\n",
            "Epoch 33/100\n",
            "1000/1000 [==============================] - 16s 16ms/step - loss: 0.1595 - categorical_accuracy: 0.9441 - precision_1: 0.9484 - recall_1: 0.9407 - f1_score: 0.9440 - val_loss: 0.4016 - val_categorical_accuracy: 0.8593 - val_precision_1: 0.8681 - val_recall_1: 0.8525 - val_f1_score: 0.8597\n",
            "Epoch 34/100\n",
            "1000/1000 [==============================] - 16s 16ms/step - loss: 0.1583 - categorical_accuracy: 0.9448 - precision_1: 0.9489 - recall_1: 0.9414 - f1_score: 0.9447 - val_loss: 0.4286 - val_categorical_accuracy: 0.8510 - val_precision_1: 0.8579 - val_recall_1: 0.8438 - val_f1_score: 0.8519\n",
            "Epoch 35/100\n",
            "1000/1000 [==============================] - 16s 16ms/step - loss: 0.1545 - categorical_accuracy: 0.9458 - precision_1: 0.9495 - recall_1: 0.9431 - f1_score: 0.9457 - val_loss: 0.3975 - val_categorical_accuracy: 0.8625 - val_precision_1: 0.8698 - val_recall_1: 0.8570 - val_f1_score: 0.8634\n",
            "Epoch 36/100\n",
            "1000/1000 [==============================] - 16s 16ms/step - loss: 0.1477 - categorical_accuracy: 0.9495 - precision_1: 0.9521 - recall_1: 0.9465 - f1_score: 0.9494 - val_loss: 0.4047 - val_categorical_accuracy: 0.8615 - val_precision_1: 0.8705 - val_recall_1: 0.8550 - val_f1_score: 0.8625\n",
            "Epoch 37/100\n",
            "1000/1000 [==============================] - 16s 16ms/step - loss: 0.1531 - categorical_accuracy: 0.9463 - precision_1: 0.9500 - recall_1: 0.9432 - f1_score: 0.9463 - val_loss: 0.4022 - val_categorical_accuracy: 0.8620 - val_precision_1: 0.8705 - val_recall_1: 0.8572 - val_f1_score: 0.8630\n",
            "Epoch 38/100\n",
            "1000/1000 [==============================] - 16s 16ms/step - loss: 0.1413 - categorical_accuracy: 0.9525 - precision_1: 0.9553 - recall_1: 0.9493 - f1_score: 0.9525 - val_loss: 0.3971 - val_categorical_accuracy: 0.8712 - val_precision_1: 0.8747 - val_recall_1: 0.8655 - val_f1_score: 0.8720\n",
            "Epoch 39/100\n",
            "1000/1000 [==============================] - 16s 16ms/step - loss: 0.1390 - categorical_accuracy: 0.9507 - precision_1: 0.9542 - recall_1: 0.9485 - f1_score: 0.9507 - val_loss: 0.4540 - val_categorical_accuracy: 0.8540 - val_precision_1: 0.8579 - val_recall_1: 0.8480 - val_f1_score: 0.8551\n",
            "Epoch 40/100\n",
            "1000/1000 [==============================] - 16s 16ms/step - loss: 0.1371 - categorical_accuracy: 0.9523 - precision_1: 0.9552 - recall_1: 0.9502 - f1_score: 0.9522 - val_loss: 0.4018 - val_categorical_accuracy: 0.8627 - val_precision_1: 0.8687 - val_recall_1: 0.8585 - val_f1_score: 0.8634\n",
            "Epoch 41/100\n",
            "1000/1000 [==============================] - 16s 16ms/step - loss: 0.1460 - categorical_accuracy: 0.9502 - precision_1: 0.9527 - recall_1: 0.9476 - f1_score: 0.9502 - val_loss: 0.4243 - val_categorical_accuracy: 0.8497 - val_precision_1: 0.8580 - val_recall_1: 0.8457 - val_f1_score: 0.8523\n",
            "Epoch 42/100\n",
            "1000/1000 [==============================] - 16s 16ms/step - loss: 0.1324 - categorical_accuracy: 0.9553 - precision_1: 0.9578 - recall_1: 0.9525 - f1_score: 0.9552 - val_loss: 0.4115 - val_categorical_accuracy: 0.8685 - val_precision_1: 0.8746 - val_recall_1: 0.8650 - val_f1_score: 0.8689\n",
            "Epoch 43/100\n",
            "1000/1000 [==============================] - 16s 16ms/step - loss: 0.1306 - categorical_accuracy: 0.9553 - precision_1: 0.9575 - recall_1: 0.9529 - f1_score: 0.9553 - val_loss: 0.4305 - val_categorical_accuracy: 0.8600 - val_precision_1: 0.8647 - val_recall_1: 0.8565 - val_f1_score: 0.8607\n",
            "Epoch 44/100\n",
            "1000/1000 [==============================] - 16s 16ms/step - loss: 0.1292 - categorical_accuracy: 0.9547 - precision_1: 0.9572 - recall_1: 0.9527 - f1_score: 0.9546 - val_loss: 0.4104 - val_categorical_accuracy: 0.8612 - val_precision_1: 0.8668 - val_recall_1: 0.8555 - val_f1_score: 0.8611\n",
            "Epoch 45/100\n",
            "1000/1000 [==============================] - 16s 16ms/step - loss: 0.1269 - categorical_accuracy: 0.9543 - precision_1: 0.9573 - recall_1: 0.9526 - f1_score: 0.9542 - val_loss: 0.4071 - val_categorical_accuracy: 0.8658 - val_precision_1: 0.8729 - val_recall_1: 0.8602 - val_f1_score: 0.8661\n",
            "Epoch 46/100\n",
            "1000/1000 [==============================] - 16s 16ms/step - loss: 0.1229 - categorical_accuracy: 0.9569 - precision_1: 0.9591 - recall_1: 0.9549 - f1_score: 0.9569 - val_loss: 0.4305 - val_categorical_accuracy: 0.8615 - val_precision_1: 0.8671 - val_recall_1: 0.8565 - val_f1_score: 0.8621\n",
            "Epoch 47/100\n",
            "1000/1000 [==============================] - 16s 16ms/step - loss: 0.1177 - categorical_accuracy: 0.9593 - precision_1: 0.9620 - recall_1: 0.9576 - f1_score: 0.9593 - val_loss: 0.4218 - val_categorical_accuracy: 0.8698 - val_precision_1: 0.8777 - val_recall_1: 0.8648 - val_f1_score: 0.8703\n",
            "Epoch 48/100\n",
            "1000/1000 [==============================] - 16s 16ms/step - loss: 0.1181 - categorical_accuracy: 0.9593 - precision_1: 0.9615 - recall_1: 0.9576 - f1_score: 0.9593 - val_loss: 0.4045 - val_categorical_accuracy: 0.8680 - val_precision_1: 0.8745 - val_recall_1: 0.8637 - val_f1_score: 0.8685\n",
            "Epoch 49/100\n",
            "1000/1000 [==============================] - 16s 16ms/step - loss: 0.1169 - categorical_accuracy: 0.9589 - precision_1: 0.9607 - recall_1: 0.9574 - f1_score: 0.9589 - val_loss: 0.4396 - val_categorical_accuracy: 0.8635 - val_precision_1: 0.8694 - val_recall_1: 0.8572 - val_f1_score: 0.8647\n",
            "Epoch 50/100\n",
            "1000/1000 [==============================] - 16s 16ms/step - loss: 0.1138 - categorical_accuracy: 0.9594 - precision_1: 0.9616 - recall_1: 0.9574 - f1_score: 0.9594 - val_loss: 0.4291 - val_categorical_accuracy: 0.8597 - val_precision_1: 0.8669 - val_recall_1: 0.8515 - val_f1_score: 0.8606\n",
            "Epoch 51/100\n",
            "1000/1000 [==============================] - 15s 15ms/step - loss: 0.1128 - categorical_accuracy: 0.9607 - precision_1: 0.9627 - recall_1: 0.9590 - f1_score: 0.9607 - val_loss: 0.4321 - val_categorical_accuracy: 0.8650 - val_precision_1: 0.8716 - val_recall_1: 0.8602 - val_f1_score: 0.8663\n",
            "Epoch 52/100\n",
            "1000/1000 [==============================] - 15s 15ms/step - loss: 0.1114 - categorical_accuracy: 0.9619 - precision_1: 0.9638 - recall_1: 0.9600 - f1_score: 0.9619 - val_loss: 0.4126 - val_categorical_accuracy: 0.8715 - val_precision_1: 0.8765 - val_recall_1: 0.8660 - val_f1_score: 0.8722\n",
            "Epoch 53/100\n",
            "1000/1000 [==============================] - 16s 16ms/step - loss: 0.1065 - categorical_accuracy: 0.9638 - precision_1: 0.9654 - recall_1: 0.9619 - f1_score: 0.9637 - val_loss: 0.4234 - val_categorical_accuracy: 0.8645 - val_precision_1: 0.8693 - val_recall_1: 0.8597 - val_f1_score: 0.8655\n",
            "Epoch 54/100\n",
            "1000/1000 [==============================] - 16s 16ms/step - loss: 0.1108 - categorical_accuracy: 0.9607 - precision_1: 0.9628 - recall_1: 0.9592 - f1_score: 0.9607 - val_loss: 0.4246 - val_categorical_accuracy: 0.8723 - val_precision_1: 0.8770 - val_recall_1: 0.8677 - val_f1_score: 0.8724\n",
            "Epoch 55/100\n",
            "1000/1000 [==============================] - 16s 16ms/step - loss: 0.1022 - categorical_accuracy: 0.9648 - precision_1: 0.9668 - recall_1: 0.9632 - f1_score: 0.9648 - val_loss: 0.4150 - val_categorical_accuracy: 0.8725 - val_precision_1: 0.8778 - val_recall_1: 0.8675 - val_f1_score: 0.8735\n",
            "Epoch 56/100\n",
            "1000/1000 [==============================] - 16s 16ms/step - loss: 0.1004 - categorical_accuracy: 0.9654 - precision_1: 0.9670 - recall_1: 0.9640 - f1_score: 0.9653 - val_loss: 0.4276 - val_categorical_accuracy: 0.8648 - val_precision_1: 0.8706 - val_recall_1: 0.8610 - val_f1_score: 0.8647\n",
            "Epoch 57/100\n",
            "1000/1000 [==============================] - 16s 16ms/step - loss: 0.1008 - categorical_accuracy: 0.9654 - precision_1: 0.9674 - recall_1: 0.9640 - f1_score: 0.9653 - val_loss: 0.4174 - val_categorical_accuracy: 0.8720 - val_precision_1: 0.8785 - val_recall_1: 0.8673 - val_f1_score: 0.8724\n",
            "Epoch 58/100\n",
            "1000/1000 [==============================] - 16s 16ms/step - loss: 0.0970 - categorical_accuracy: 0.9669 - precision_1: 0.9681 - recall_1: 0.9652 - f1_score: 0.9669 - val_loss: 0.4440 - val_categorical_accuracy: 0.8643 - val_precision_1: 0.8694 - val_recall_1: 0.8585 - val_f1_score: 0.8652\n",
            "Epoch 59/100\n",
            "1000/1000 [==============================] - 16s 16ms/step - loss: 0.0952 - categorical_accuracy: 0.9670 - precision_1: 0.9687 - recall_1: 0.9650 - f1_score: 0.9669 - val_loss: 0.4267 - val_categorical_accuracy: 0.8727 - val_precision_1: 0.8762 - val_recall_1: 0.8650 - val_f1_score: 0.8742\n",
            "Epoch 60/100\n",
            "1000/1000 [==============================] - 16s 16ms/step - loss: 0.0962 - categorical_accuracy: 0.9665 - precision_1: 0.9681 - recall_1: 0.9649 - f1_score: 0.9664 - val_loss: 0.4177 - val_categorical_accuracy: 0.8687 - val_precision_1: 0.8760 - val_recall_1: 0.8652 - val_f1_score: 0.8690\n",
            "Epoch 61/100\n",
            "1000/1000 [==============================] - 16s 16ms/step - loss: 0.1022 - categorical_accuracy: 0.9647 - precision_1: 0.9668 - recall_1: 0.9631 - f1_score: 0.9646 - val_loss: 0.4105 - val_categorical_accuracy: 0.8662 - val_precision_1: 0.8723 - val_recall_1: 0.8605 - val_f1_score: 0.8677\n",
            "Epoch 62/100\n",
            "1000/1000 [==============================] - 16s 16ms/step - loss: 0.0899 - categorical_accuracy: 0.9694 - precision_1: 0.9710 - recall_1: 0.9683 - f1_score: 0.9694 - val_loss: 0.4501 - val_categorical_accuracy: 0.8533 - val_precision_1: 0.8591 - val_recall_1: 0.8472 - val_f1_score: 0.8546\n",
            "Epoch 63/100\n",
            "1000/1000 [==============================] - 16s 16ms/step - loss: 0.1022 - categorical_accuracy: 0.9646 - precision_1: 0.9665 - recall_1: 0.9627 - f1_score: 0.9646 - val_loss: 0.4191 - val_categorical_accuracy: 0.8685 - val_precision_1: 0.8753 - val_recall_1: 0.8648 - val_f1_score: 0.8694\n",
            "Epoch 64/100\n",
            "1000/1000 [==============================] - 16s 16ms/step - loss: 0.0890 - categorical_accuracy: 0.9694 - precision_1: 0.9709 - recall_1: 0.9681 - f1_score: 0.9694 - val_loss: 0.4177 - val_categorical_accuracy: 0.8737 - val_precision_1: 0.8794 - val_recall_1: 0.8698 - val_f1_score: 0.8742\n",
            "Epoch 65/100\n",
            "1000/1000 [==============================] - 16s 16ms/step - loss: 0.0933 - categorical_accuracy: 0.9675 - precision_1: 0.9690 - recall_1: 0.9663 - f1_score: 0.9674 - val_loss: 0.4238 - val_categorical_accuracy: 0.8695 - val_precision_1: 0.8747 - val_recall_1: 0.8660 - val_f1_score: 0.8698\n",
            "Epoch 66/100\n",
            "1000/1000 [==============================] - 16s 16ms/step - loss: 0.0909 - categorical_accuracy: 0.9696 - precision_1: 0.9709 - recall_1: 0.9682 - f1_score: 0.9696 - val_loss: 0.4120 - val_categorical_accuracy: 0.8760 - val_precision_1: 0.8807 - val_recall_1: 0.8708 - val_f1_score: 0.8768\n",
            "Epoch 67/100\n",
            "1000/1000 [==============================] - 16s 16ms/step - loss: 0.0877 - categorical_accuracy: 0.9693 - precision_1: 0.9710 - recall_1: 0.9678 - f1_score: 0.9693 - val_loss: 0.4349 - val_categorical_accuracy: 0.8687 - val_precision_1: 0.8741 - val_recall_1: 0.8660 - val_f1_score: 0.8695\n",
            "Epoch 68/100\n",
            "1000/1000 [==============================] - 16s 16ms/step - loss: 0.0923 - categorical_accuracy: 0.9690 - precision_1: 0.9705 - recall_1: 0.9673 - f1_score: 0.9690 - val_loss: 0.4304 - val_categorical_accuracy: 0.8587 - val_precision_1: 0.8659 - val_recall_1: 0.8540 - val_f1_score: 0.8598\n",
            "Epoch 69/100\n",
            "1000/1000 [==============================] - 16s 16ms/step - loss: 0.0914 - categorical_accuracy: 0.9699 - precision_1: 0.9717 - recall_1: 0.9684 - f1_score: 0.9699 - val_loss: 0.4146 - val_categorical_accuracy: 0.8708 - val_precision_1: 0.8772 - val_recall_1: 0.8662 - val_f1_score: 0.8710\n",
            "Epoch 70/100\n",
            "1000/1000 [==============================] - 16s 16ms/step - loss: 0.0904 - categorical_accuracy: 0.9681 - precision_1: 0.9702 - recall_1: 0.9668 - f1_score: 0.9681 - val_loss: 0.4139 - val_categorical_accuracy: 0.8700 - val_precision_1: 0.8764 - val_recall_1: 0.8665 - val_f1_score: 0.8711\n",
            "Epoch 71/100\n",
            "1000/1000 [==============================] - 16s 16ms/step - loss: 0.0880 - categorical_accuracy: 0.9700 - precision_1: 0.9714 - recall_1: 0.9684 - f1_score: 0.9700 - val_loss: 0.4316 - val_categorical_accuracy: 0.8633 - val_precision_1: 0.8679 - val_recall_1: 0.8587 - val_f1_score: 0.8647\n",
            "Epoch 72/100\n",
            "1000/1000 [==============================] - 16s 16ms/step - loss: 0.0817 - categorical_accuracy: 0.9712 - precision_1: 0.9728 - recall_1: 0.9699 - f1_score: 0.9712 - val_loss: 0.4275 - val_categorical_accuracy: 0.8658 - val_precision_1: 0.8701 - val_recall_1: 0.8627 - val_f1_score: 0.8675\n",
            "Epoch 73/100\n",
            "1000/1000 [==============================] - 16s 16ms/step - loss: 0.0860 - categorical_accuracy: 0.9707 - precision_1: 0.9722 - recall_1: 0.9696 - f1_score: 0.9706 - val_loss: 0.3769 - val_categorical_accuracy: 0.8850 - val_precision_1: 0.8896 - val_recall_1: 0.8805 - val_f1_score: 0.8859\n",
            "Epoch 74/100\n",
            "1000/1000 [==============================] - 16s 16ms/step - loss: 0.0806 - categorical_accuracy: 0.9726 - precision_1: 0.9738 - recall_1: 0.9714 - f1_score: 0.9725 - val_loss: 0.4592 - val_categorical_accuracy: 0.8648 - val_precision_1: 0.8679 - val_recall_1: 0.8608 - val_f1_score: 0.8664\n",
            "Epoch 75/100\n",
            "1000/1000 [==============================] - 16s 16ms/step - loss: 0.0850 - categorical_accuracy: 0.9710 - precision_1: 0.9721 - recall_1: 0.9697 - f1_score: 0.9710 - val_loss: 0.4144 - val_categorical_accuracy: 0.8783 - val_precision_1: 0.8812 - val_recall_1: 0.8733 - val_f1_score: 0.8789\n",
            "Epoch 76/100\n",
            "1000/1000 [==============================] - 16s 16ms/step - loss: 0.0781 - categorical_accuracy: 0.9738 - precision_1: 0.9752 - recall_1: 0.9728 - f1_score: 0.9738 - val_loss: 0.4015 - val_categorical_accuracy: 0.8785 - val_precision_1: 0.8829 - val_recall_1: 0.8750 - val_f1_score: 0.8790\n",
            "Epoch 77/100\n",
            "1000/1000 [==============================] - 16s 16ms/step - loss: 0.0774 - categorical_accuracy: 0.9734 - precision_1: 0.9749 - recall_1: 0.9726 - f1_score: 0.9734 - val_loss: 0.4215 - val_categorical_accuracy: 0.8695 - val_precision_1: 0.8746 - val_recall_1: 0.8662 - val_f1_score: 0.8695\n",
            "Epoch 78/100\n",
            "1000/1000 [==============================] - 16s 16ms/step - loss: 0.0816 - categorical_accuracy: 0.9717 - precision_1: 0.9731 - recall_1: 0.9703 - f1_score: 0.9716 - val_loss: 0.4072 - val_categorical_accuracy: 0.8708 - val_precision_1: 0.8755 - val_recall_1: 0.8665 - val_f1_score: 0.8711\n",
            "Epoch 79/100\n",
            "1000/1000 [==============================] - 16s 16ms/step - loss: 0.0752 - categorical_accuracy: 0.9740 - precision_1: 0.9753 - recall_1: 0.9730 - f1_score: 0.9739 - val_loss: 0.4241 - val_categorical_accuracy: 0.8817 - val_precision_1: 0.8847 - val_recall_1: 0.8808 - val_f1_score: 0.8819\n",
            "Epoch 80/100\n",
            "1000/1000 [==============================] - 16s 16ms/step - loss: 0.0762 - categorical_accuracy: 0.9742 - precision_1: 0.9753 - recall_1: 0.9737 - f1_score: 0.9742 - val_loss: 0.3958 - val_categorical_accuracy: 0.8775 - val_precision_1: 0.8823 - val_recall_1: 0.8735 - val_f1_score: 0.8782\n",
            "Epoch 81/100\n",
            "1000/1000 [==============================] - 16s 16ms/step - loss: 0.0778 - categorical_accuracy: 0.9735 - precision_1: 0.9745 - recall_1: 0.9726 - f1_score: 0.9735 - val_loss: 0.4113 - val_categorical_accuracy: 0.8755 - val_precision_1: 0.8797 - val_recall_1: 0.8720 - val_f1_score: 0.8763\n",
            "Epoch 82/100\n",
            "1000/1000 [==============================] - 16s 16ms/step - loss: 0.0778 - categorical_accuracy: 0.9734 - precision_1: 0.9743 - recall_1: 0.9725 - f1_score: 0.9733 - val_loss: 0.4448 - val_categorical_accuracy: 0.8673 - val_precision_1: 0.8707 - val_recall_1: 0.8622 - val_f1_score: 0.8691\n",
            "Epoch 83/100\n",
            "1000/1000 [==============================] - 16s 16ms/step - loss: 0.0737 - categorical_accuracy: 0.9745 - precision_1: 0.9754 - recall_1: 0.9734 - f1_score: 0.9745 - val_loss: 0.4463 - val_categorical_accuracy: 0.8683 - val_precision_1: 0.8721 - val_recall_1: 0.8660 - val_f1_score: 0.8691\n",
            "Epoch 84/100\n",
            "1000/1000 [==============================] - 16s 16ms/step - loss: 0.0689 - categorical_accuracy: 0.9765 - precision_1: 0.9773 - recall_1: 0.9758 - f1_score: 0.9765 - val_loss: 0.4392 - val_categorical_accuracy: 0.8695 - val_precision_1: 0.8741 - val_recall_1: 0.8675 - val_f1_score: 0.8698\n",
            "Epoch 85/100\n",
            "1000/1000 [==============================] - 16s 16ms/step - loss: 0.0748 - categorical_accuracy: 0.9751 - precision_1: 0.9762 - recall_1: 0.9743 - f1_score: 0.9751 - val_loss: 0.4328 - val_categorical_accuracy: 0.8758 - val_precision_1: 0.8784 - val_recall_1: 0.8725 - val_f1_score: 0.8763\n",
            "Epoch 86/100\n",
            "1000/1000 [==============================] - 16s 16ms/step - loss: 0.0734 - categorical_accuracy: 0.9747 - precision_1: 0.9758 - recall_1: 0.9740 - f1_score: 0.9747 - val_loss: 0.4084 - val_categorical_accuracy: 0.8763 - val_precision_1: 0.8819 - val_recall_1: 0.8735 - val_f1_score: 0.8772\n",
            "Epoch 87/100\n",
            "1000/1000 [==============================] - 16s 16ms/step - loss: 0.0730 - categorical_accuracy: 0.9747 - precision_1: 0.9758 - recall_1: 0.9738 - f1_score: 0.9747 - val_loss: 0.4378 - val_categorical_accuracy: 0.8725 - val_precision_1: 0.8771 - val_recall_1: 0.8692 - val_f1_score: 0.8737\n",
            "Epoch 88/100\n",
            "1000/1000 [==============================] - 16s 16ms/step - loss: 0.0741 - categorical_accuracy: 0.9741 - precision_1: 0.9752 - recall_1: 0.9732 - f1_score: 0.9740 - val_loss: 0.4331 - val_categorical_accuracy: 0.8752 - val_precision_1: 0.8821 - val_recall_1: 0.8717 - val_f1_score: 0.8766\n",
            "Epoch 89/100\n",
            "1000/1000 [==============================] - 16s 16ms/step - loss: 0.0729 - categorical_accuracy: 0.9750 - precision_1: 0.9763 - recall_1: 0.9740 - f1_score: 0.9750 - val_loss: 0.4339 - val_categorical_accuracy: 0.8767 - val_precision_1: 0.8793 - val_recall_1: 0.8727 - val_f1_score: 0.8773\n",
            "Epoch 90/100\n",
            "1000/1000 [==============================] - 16s 16ms/step - loss: 0.0728 - categorical_accuracy: 0.9754 - precision_1: 0.9765 - recall_1: 0.9745 - f1_score: 0.9754 - val_loss: 0.4383 - val_categorical_accuracy: 0.8662 - val_precision_1: 0.8714 - val_recall_1: 0.8637 - val_f1_score: 0.8670\n",
            "Epoch 91/100\n",
            "1000/1000 [==============================] - 16s 16ms/step - loss: 0.0726 - categorical_accuracy: 0.9760 - precision_1: 0.9769 - recall_1: 0.9749 - f1_score: 0.9759 - val_loss: 0.4326 - val_categorical_accuracy: 0.8745 - val_precision_1: 0.8787 - val_recall_1: 0.8715 - val_f1_score: 0.8746\n",
            "Epoch 92/100\n",
            "1000/1000 [==============================] - 16s 16ms/step - loss: 0.0746 - categorical_accuracy: 0.9733 - precision_1: 0.9747 - recall_1: 0.9725 - f1_score: 0.9733 - val_loss: 0.4155 - val_categorical_accuracy: 0.8770 - val_precision_1: 0.8805 - val_recall_1: 0.8730 - val_f1_score: 0.8771\n",
            "Epoch 93/100\n",
            "1000/1000 [==============================] - 16s 16ms/step - loss: 0.0711 - categorical_accuracy: 0.9749 - precision_1: 0.9759 - recall_1: 0.9741 - f1_score: 0.9749 - val_loss: 0.4249 - val_categorical_accuracy: 0.8817 - val_precision_1: 0.8845 - val_recall_1: 0.8788 - val_f1_score: 0.8825\n",
            "Epoch 94/100\n",
            "1000/1000 [==============================] - 16s 16ms/step - loss: 0.0705 - categorical_accuracy: 0.9764 - precision_1: 0.9772 - recall_1: 0.9754 - f1_score: 0.9764 - val_loss: 0.4205 - val_categorical_accuracy: 0.8763 - val_precision_1: 0.8800 - val_recall_1: 0.8730 - val_f1_score: 0.8770\n",
            "Epoch 95/100\n",
            "1000/1000 [==============================] - 16s 16ms/step - loss: 0.0683 - categorical_accuracy: 0.9766 - precision_1: 0.9776 - recall_1: 0.9759 - f1_score: 0.9765 - val_loss: 0.4334 - val_categorical_accuracy: 0.8742 - val_precision_1: 0.8793 - val_recall_1: 0.8727 - val_f1_score: 0.8749\n",
            "Epoch 96/100\n",
            "1000/1000 [==============================] - 16s 16ms/step - loss: 0.0691 - categorical_accuracy: 0.9759 - precision_1: 0.9770 - recall_1: 0.9752 - f1_score: 0.9759 - val_loss: 0.3981 - val_categorical_accuracy: 0.8792 - val_precision_1: 0.8834 - val_recall_1: 0.8752 - val_f1_score: 0.8796\n",
            "Epoch 97/100\n",
            "1000/1000 [==============================] - 16s 16ms/step - loss: 0.0705 - categorical_accuracy: 0.9756 - precision_1: 0.9764 - recall_1: 0.9750 - f1_score: 0.9756 - val_loss: 0.4175 - val_categorical_accuracy: 0.8820 - val_precision_1: 0.8859 - val_recall_1: 0.8795 - val_f1_score: 0.8824\n",
            "Epoch 98/100\n",
            "1000/1000 [==============================] - 16s 16ms/step - loss: 0.0666 - categorical_accuracy: 0.9780 - precision_1: 0.9788 - recall_1: 0.9771 - f1_score: 0.9780 - val_loss: 0.4361 - val_categorical_accuracy: 0.8780 - val_precision_1: 0.8819 - val_recall_1: 0.8755 - val_f1_score: 0.8788\n",
            "Epoch 99/100\n",
            "1000/1000 [==============================] - 16s 16ms/step - loss: 0.0678 - categorical_accuracy: 0.9766 - precision_1: 0.9777 - recall_1: 0.9759 - f1_score: 0.9765 - val_loss: 0.4361 - val_categorical_accuracy: 0.8742 - val_precision_1: 0.8776 - val_recall_1: 0.8708 - val_f1_score: 0.8753\n",
            "Epoch 100/100\n",
            "1000/1000 [==============================] - 16s 16ms/step - loss: 0.0630 - categorical_accuracy: 0.9784 - precision_1: 0.9792 - recall_1: 0.9777 - f1_score: 0.9784 - val_loss: 0.4137 - val_categorical_accuracy: 0.8742 - val_precision_1: 0.8793 - val_recall_1: 0.8705 - val_f1_score: 0.8757\n"
          ]
        }
      ]
    },
    {
      "cell_type": "code",
      "source": [
        "#plot loss\n",
        "gc.collect()\n",
        "plt.plot(history_lstm_exp1.history['loss'])\n",
        "plt.plot(history_lstm_exp1.history['val_loss'])\n",
        "plt.title('Improved LSTM - Train/Val Loss')\n",
        "plt.ylabel('loss')\n",
        "plt.xlabel('epoch')\n",
        "plt.legend(['Tain', 'Val'])\n",
        "plt.show()"
      ],
      "metadata": {
        "id": "n1DVhbvzi0FX",
        "outputId": "720d1ec3-284e-45dd-a426-7b6f7e5616d3",
        "colab": {
          "base_uri": "https://localhost:8080/",
          "height": 472
        }
      },
      "execution_count": 33,
      "outputs": [
        {
          "output_type": "display_data",
          "data": {
            "text/plain": [
              "<Figure size 640x480 with 1 Axes>"
            ],
            "image/png": "[encoded data removed]"
          },
          "metadata": {}
        }
      ]
    },
    {
      "cell_type": "code",
      "source": [
        "# evaluate on test data\n",
        "loss, accuracy, precision, recall, f1 = lstm_exp1.evaluate(X_test, y_test)\n",
        "print(f'Loss: {loss}\\nAccuracy: {accuracy}\\nPrecision: {precision}\\nRecall: {recall},\\nF1: {f1}')"
      ],
      "metadata": {
        "id": "i921-WGTk_yL",
        "outputId": "314503e8-bd3c-4200-982b-9e9b6a922869",
        "colab": {
          "base_uri": "https://localhost:8080/"
        }
      },
      "execution_count": 34,
      "outputs": [
        {
          "output_type": "stream",
          "name": "stdout",
          "text": [
            "125/125 [==============================] - 1s 8ms/step - loss: 0.3793 - categorical_accuracy: 0.8800 - precision_1: 0.8847 - recall_1: 0.8763 - f1_score: 0.8809\n",
            "Loss: 0.3793187439441681\n",
            "Accuracy: 0.8799999952316284\n",
            "Precision: 0.8846542239189148\n",
            "Recall: 0.8762500286102295,\n",
            "F1: [0.90681934 0.83072543 0.9467872  0.8392316 ]\n"
          ]
        }
      ]
    },
    {
      "cell_type": "code",
      "source": [
        "# plot confusion matrix\n",
        "y_pred_lstm1 = lstm_exp1.predict(X_test)\n",
        "cm = confusion_matrix(np.argmax(y_test, axis=1), np.argmax(y_pred_lstm1, axis=1))\n",
        "ConfusionMatrixDisplay(confusion_matrix=cm).plot();\n",
        "plt.title('Confusion matrix - Improved LSTM 1')"
      ],
      "metadata": {
        "id": "1rL0fLxAFCNw",
        "outputId": "f96caf73-5809-4d35-a558-0fbe64864345",
        "colab": {
          "base_uri": "https://localhost:8080/",
          "height": 508
        }
      },
      "execution_count": 35,
      "outputs": [
        {
          "output_type": "stream",
          "name": "stdout",
          "text": [
            "125/125 [==============================] - 2s 8ms/step\n"
          ]
        },
        {
          "output_type": "execute_result",
          "data": {
            "text/plain": [
              "Text(0.5, 1.0, 'Confusion matrix - Improved LSTM 1')"
            ]
          },
          "metadata": {},
          "execution_count": 35
        },
        {
          "output_type": "display_data",
          "data": {
            "text/plain": [
              "<Figure size 640x480 with 2 Axes>"
            ],
            "image/png": "[encoded data removed]"
          },
          "metadata": {}
        }
      ]
    },
    {
      "cell_type": "code",
      "source": [
        "# define LSTM with mitigations for overfitting: more layers, more dropout\n",
        "lstm_exp2 = tf.keras.models.Sequential([\n",
        "\n",
        "    # input our sequence tensors\n",
        "    tf.keras.layers.Input(shape=(NORM_SEQUENCE_LENGTH, NUM_PIANO_KEYS)),\n",
        "    tf.keras.layers.Normalization(axis=None),\n",
        "    tf.keras.layers.LSTM(128, return_sequences=True),\n",
        "    tf.keras.layers.Dropout(0.2),\n",
        "    tf.keras.layers.LSTM(128, return_sequences=True),\n",
        "    tf.keras.layers.Dropout(0.2),\n",
        "    tf.keras.layers.LSTM(128, return_sequences=True),\n",
        "    tf.keras.layers.Dropout(0.2),\n",
        "    tf.keras.layers.LSTM(32, return_sequences=False),\n",
        "\n",
        "    # classification head\n",
        "    tf.keras.layers.Dense(64, activation='relu'),\n",
        "    tf.keras.layers.Dropout(0.3),\n",
        "    tf.keras.layers.Dense(32, activation='relu'),\n",
        "    tf.keras.layers.Dropout(0.3),\n",
        "    tf.keras.layers.Dense(units = NUM_COMPOSERS, activation='softmax')\n",
        "])\n",
        "\n",
        "# Compile the model\n",
        "lstm_exp2.compile(\n",
        "    optimizer=keras.optimizers.Adam(learning_rate=LEARNING_RATE),\n",
        "    loss=tf.keras.losses.CategoricalCrossentropy(),\n",
        "    metrics=[keras.metrics.CategoricalAccuracy(), keras.metrics.Precision(), keras.metrics.Recall(), keras.metrics.F1Score()]\n",
        ")"
      ],
      "metadata": {
        "id": "p_K2FGgS1qVU"
      },
      "execution_count": 36,
      "outputs": []
    },
    {
      "cell_type": "code",
      "source": [
        "# Train the model\n",
        "history_lstm_exp2 = lstm_exp2.fit(X_train, y_train, validation_data=(X_val,y_val), epochs=NUM_EPOCHS, batch_size=BATCH_SIZE)"
      ],
      "metadata": {
        "id": "a-B4JV3Z2UAJ",
        "outputId": "ff3c2cbf-f7fa-44dd-eb2c-743e6611b546",
        "colab": {
          "base_uri": "https://localhost:8080/"
        }
      },
      "execution_count": 37,
      "outputs": [
        {
          "output_type": "stream",
          "name": "stdout",
          "text": [
            "Epoch 1/100\n",
            "1000/1000 [==============================] - 36s 30ms/step - loss: 1.2013 - categorical_accuracy: 0.4629 - precision_2: 0.6219 - recall_2: 0.1831 - f1_score: 0.4550 - val_loss: 1.0325 - val_categorical_accuracy: 0.5605 - val_precision_2: 0.7204 - val_recall_2: 0.2828 - val_f1_score: 0.5637\n",
            "Epoch 2/100\n",
            "1000/1000 [==============================] - 28s 28ms/step - loss: 0.9806 - categorical_accuracy: 0.5923 - precision_2: 0.6906 - recall_2: 0.4082 - f1_score: 0.5793 - val_loss: 0.8880 - val_categorical_accuracy: 0.6378 - val_precision_2: 0.7057 - val_recall_2: 0.5275 - val_f1_score: 0.6352\n",
            "Epoch 3/100\n",
            "1000/1000 [==============================] - 28s 28ms/step - loss: 0.8528 - categorical_accuracy: 0.6524 - precision_2: 0.7204 - recall_2: 0.5321 - f1_score: 0.6415 - val_loss: 0.8294 - val_categorical_accuracy: 0.6655 - val_precision_2: 0.7155 - val_recall_2: 0.5865 - val_f1_score: 0.6525\n",
            "Epoch 4/100\n",
            "1000/1000 [==============================] - 28s 28ms/step - loss: 0.7538 - categorical_accuracy: 0.6979 - precision_2: 0.7538 - recall_2: 0.6113 - f1_score: 0.6913 - val_loss: 0.7484 - val_categorical_accuracy: 0.7007 - val_precision_2: 0.7483 - val_recall_2: 0.6482 - val_f1_score: 0.6962\n",
            "Epoch 5/100\n",
            "1000/1000 [==============================] - 28s 28ms/step - loss: 0.6611 - categorical_accuracy: 0.7385 - precision_2: 0.7792 - recall_2: 0.6790 - f1_score: 0.7336 - val_loss: 0.6840 - val_categorical_accuracy: 0.7303 - val_precision_2: 0.7637 - val_recall_2: 0.7005 - val_f1_score: 0.7229\n",
            "Epoch 6/100\n",
            "1000/1000 [==============================] - 28s 28ms/step - loss: 0.5981 - categorical_accuracy: 0.7707 - precision_2: 0.8056 - recall_2: 0.7235 - f1_score: 0.7670 - val_loss: 0.6269 - val_categorical_accuracy: 0.7523 - val_precision_2: 0.7796 - val_recall_2: 0.7205 - val_f1_score: 0.7471\n",
            "Epoch 7/100\n",
            "1000/1000 [==============================] - 28s 28ms/step - loss: 0.5424 - categorical_accuracy: 0.7945 - precision_2: 0.8211 - recall_2: 0.7568 - f1_score: 0.7918 - val_loss: 0.6198 - val_categorical_accuracy: 0.7508 - val_precision_2: 0.7797 - val_recall_2: 0.7178 - val_f1_score: 0.7460\n",
            "Epoch 8/100\n",
            "1000/1000 [==============================] - 28s 28ms/step - loss: 0.5032 - categorical_accuracy: 0.8118 - precision_2: 0.8352 - recall_2: 0.7797 - f1_score: 0.8098 - val_loss: 0.5724 - val_categorical_accuracy: 0.7820 - val_precision_2: 0.8054 - val_recall_2: 0.7545 - val_f1_score: 0.7776\n",
            "Epoch 9/100\n",
            "1000/1000 [==============================] - 28s 28ms/step - loss: 0.4594 - categorical_accuracy: 0.8309 - precision_2: 0.8514 - recall_2: 0.8059 - f1_score: 0.8296 - val_loss: 0.5565 - val_categorical_accuracy: 0.7977 - val_precision_2: 0.8095 - val_recall_2: 0.7820 - val_f1_score: 0.7951\n",
            "Epoch 10/100\n",
            "1000/1000 [==============================] - 28s 28ms/step - loss: 0.4242 - categorical_accuracy: 0.8440 - precision_2: 0.8598 - recall_2: 0.8234 - f1_score: 0.8428 - val_loss: 0.5311 - val_categorical_accuracy: 0.8087 - val_precision_2: 0.8287 - val_recall_2: 0.7835 - val_f1_score: 0.8072\n",
            "Epoch 11/100\n",
            "1000/1000 [==============================] - 28s 28ms/step - loss: 0.3981 - categorical_accuracy: 0.8536 - precision_2: 0.8706 - recall_2: 0.8355 - f1_score: 0.8525 - val_loss: 0.5454 - val_categorical_accuracy: 0.8150 - val_precision_2: 0.8268 - val_recall_2: 0.8055 - val_f1_score: 0.8120\n",
            "Epoch 12/100\n",
            "1000/1000 [==============================] - 28s 28ms/step - loss: 0.3758 - categorical_accuracy: 0.8669 - precision_2: 0.8807 - recall_2: 0.8491 - f1_score: 0.8662 - val_loss: 0.5279 - val_categorical_accuracy: 0.8102 - val_precision_2: 0.8224 - val_recall_2: 0.8000 - val_f1_score: 0.8074\n",
            "Epoch 13/100\n",
            "1000/1000 [==============================] - 28s 28ms/step - loss: 0.3430 - categorical_accuracy: 0.8772 - precision_2: 0.8911 - recall_2: 0.8606 - f1_score: 0.8765 - val_loss: 0.5104 - val_categorical_accuracy: 0.8270 - val_precision_2: 0.8409 - val_recall_2: 0.8150 - val_f1_score: 0.8279\n",
            "Epoch 14/100\n",
            "1000/1000 [==============================] - 28s 28ms/step - loss: 0.3204 - categorical_accuracy: 0.8880 - precision_2: 0.8998 - recall_2: 0.8738 - f1_score: 0.8875 - val_loss: 0.4946 - val_categorical_accuracy: 0.8257 - val_precision_2: 0.8406 - val_recall_2: 0.8135 - val_f1_score: 0.8242\n",
            "Epoch 15/100\n",
            "1000/1000 [==============================] - 28s 28ms/step - loss: 0.3024 - categorical_accuracy: 0.8934 - precision_2: 0.9036 - recall_2: 0.8821 - f1_score: 0.8929 - val_loss: 0.4953 - val_categorical_accuracy: 0.8410 - val_precision_2: 0.8501 - val_recall_2: 0.8280 - val_f1_score: 0.8413\n",
            "Epoch 16/100\n",
            "1000/1000 [==============================] - 28s 28ms/step - loss: 0.2905 - categorical_accuracy: 0.9002 - precision_2: 0.9109 - recall_2: 0.8893 - f1_score: 0.8998 - val_loss: 0.5061 - val_categorical_accuracy: 0.8305 - val_precision_2: 0.8415 - val_recall_2: 0.8217 - val_f1_score: 0.8316\n",
            "Epoch 17/100\n",
            "1000/1000 [==============================] - 28s 28ms/step - loss: 0.2716 - categorical_accuracy: 0.9048 - precision_2: 0.9142 - recall_2: 0.8944 - f1_score: 0.9044 - val_loss: 0.5094 - val_categorical_accuracy: 0.8257 - val_precision_2: 0.8450 - val_recall_2: 0.8083 - val_f1_score: 0.8232\n",
            "Epoch 18/100\n",
            "1000/1000 [==============================] - 28s 28ms/step - loss: 0.2637 - categorical_accuracy: 0.9082 - precision_2: 0.9181 - recall_2: 0.8982 - f1_score: 0.9079 - val_loss: 0.4574 - val_categorical_accuracy: 0.8518 - val_precision_2: 0.8634 - val_recall_2: 0.8440 - val_f1_score: 0.8516\n",
            "Epoch 19/100\n",
            "1000/1000 [==============================] - 28s 28ms/step - loss: 0.2431 - categorical_accuracy: 0.9153 - precision_2: 0.9233 - recall_2: 0.9074 - f1_score: 0.9150 - val_loss: 0.4897 - val_categorical_accuracy: 0.8440 - val_precision_2: 0.8535 - val_recall_2: 0.8345 - val_f1_score: 0.8429\n",
            "Epoch 20/100\n",
            "1000/1000 [==============================] - 28s 28ms/step - loss: 0.2322 - categorical_accuracy: 0.9204 - precision_2: 0.9286 - recall_2: 0.9130 - f1_score: 0.9202 - val_loss: 0.4745 - val_categorical_accuracy: 0.8497 - val_precision_2: 0.8572 - val_recall_2: 0.8435 - val_f1_score: 0.8507\n",
            "Epoch 21/100\n",
            "1000/1000 [==============================] - 27s 27ms/step - loss: 0.2223 - categorical_accuracy: 0.9228 - precision_2: 0.9315 - recall_2: 0.9151 - f1_score: 0.9226 - val_loss: 0.4885 - val_categorical_accuracy: 0.8510 - val_precision_2: 0.8565 - val_recall_2: 0.8413 - val_f1_score: 0.8504\n",
            "Epoch 22/100\n",
            "1000/1000 [==============================] - 27s 27ms/step - loss: 0.2206 - categorical_accuracy: 0.9243 - precision_2: 0.9316 - recall_2: 0.9172 - f1_score: 0.9240 - val_loss: 0.5088 - val_categorical_accuracy: 0.8510 - val_precision_2: 0.8597 - val_recall_2: 0.8407 - val_f1_score: 0.8519\n",
            "Epoch 23/100\n",
            "1000/1000 [==============================] - 28s 28ms/step - loss: 0.2065 - categorical_accuracy: 0.9293 - precision_2: 0.9362 - recall_2: 0.9232 - f1_score: 0.9292 - val_loss: 0.4833 - val_categorical_accuracy: 0.8490 - val_precision_2: 0.8605 - val_recall_2: 0.8422 - val_f1_score: 0.8484\n",
            "Epoch 24/100\n",
            "1000/1000 [==============================] - 28s 28ms/step - loss: 0.1971 - categorical_accuracy: 0.9331 - precision_2: 0.9389 - recall_2: 0.9266 - f1_score: 0.9329 - val_loss: 0.4432 - val_categorical_accuracy: 0.8505 - val_precision_2: 0.8607 - val_recall_2: 0.8403 - val_f1_score: 0.8516\n",
            "Epoch 25/100\n",
            "1000/1000 [==============================] - 27s 27ms/step - loss: 0.1952 - categorical_accuracy: 0.9339 - precision_2: 0.9407 - recall_2: 0.9270 - f1_score: 0.9337 - val_loss: 0.5011 - val_categorical_accuracy: 0.8555 - val_precision_2: 0.8616 - val_recall_2: 0.8497 - val_f1_score: 0.8568\n",
            "Epoch 26/100\n",
            "1000/1000 [==============================] - 27s 27ms/step - loss: 0.1854 - categorical_accuracy: 0.9362 - precision_2: 0.9422 - recall_2: 0.9302 - f1_score: 0.9361 - val_loss: 0.4981 - val_categorical_accuracy: 0.8503 - val_precision_2: 0.8577 - val_recall_2: 0.8455 - val_f1_score: 0.8513\n",
            "Epoch 27/100\n",
            "1000/1000 [==============================] - 27s 27ms/step - loss: 0.1757 - categorical_accuracy: 0.9426 - precision_2: 0.9480 - recall_2: 0.9377 - f1_score: 0.9425 - val_loss: 0.4588 - val_categorical_accuracy: 0.8550 - val_precision_2: 0.8646 - val_recall_2: 0.8478 - val_f1_score: 0.8558\n",
            "Epoch 28/100\n",
            "1000/1000 [==============================] - 28s 28ms/step - loss: 0.1735 - categorical_accuracy: 0.9418 - precision_2: 0.9463 - recall_2: 0.9369 - f1_score: 0.9417 - val_loss: 0.4502 - val_categorical_accuracy: 0.8558 - val_precision_2: 0.8635 - val_recall_2: 0.8475 - val_f1_score: 0.8553\n",
            "Epoch 29/100\n",
            "1000/1000 [==============================] - 28s 28ms/step - loss: 0.1691 - categorical_accuracy: 0.9442 - precision_2: 0.9489 - recall_2: 0.9394 - f1_score: 0.9441 - val_loss: 0.4645 - val_categorical_accuracy: 0.8637 - val_precision_2: 0.8714 - val_recall_2: 0.8590 - val_f1_score: 0.8627\n",
            "Epoch 30/100\n",
            "1000/1000 [==============================] - 27s 27ms/step - loss: 0.1601 - categorical_accuracy: 0.9457 - precision_2: 0.9509 - recall_2: 0.9415 - f1_score: 0.9456 - val_loss: 0.5047 - val_categorical_accuracy: 0.8605 - val_precision_2: 0.8677 - val_recall_2: 0.8540 - val_f1_score: 0.8612\n",
            "Epoch 31/100\n",
            "1000/1000 [==============================] - 28s 28ms/step - loss: 0.1578 - categorical_accuracy: 0.9468 - precision_2: 0.9518 - recall_2: 0.9415 - f1_score: 0.9467 - val_loss: 0.5230 - val_categorical_accuracy: 0.8622 - val_precision_2: 0.8683 - val_recall_2: 0.8572 - val_f1_score: 0.8627\n",
            "Epoch 32/100\n",
            "1000/1000 [==============================] - 28s 28ms/step - loss: 0.1534 - categorical_accuracy: 0.9476 - precision_2: 0.9519 - recall_2: 0.9432 - f1_score: 0.9475 - val_loss: 0.5076 - val_categorical_accuracy: 0.8648 - val_precision_2: 0.8699 - val_recall_2: 0.8593 - val_f1_score: 0.8639\n",
            "Epoch 33/100\n",
            "1000/1000 [==============================] - 27s 27ms/step - loss: 0.1453 - categorical_accuracy: 0.9542 - precision_2: 0.9580 - recall_2: 0.9499 - f1_score: 0.9541 - val_loss: 0.4488 - val_categorical_accuracy: 0.8685 - val_precision_2: 0.8742 - val_recall_2: 0.8633 - val_f1_score: 0.8688\n",
            "Epoch 34/100\n",
            "1000/1000 [==============================] - 27s 27ms/step - loss: 0.1403 - categorical_accuracy: 0.9545 - precision_2: 0.9576 - recall_2: 0.9506 - f1_score: 0.9544 - val_loss: 0.4995 - val_categorical_accuracy: 0.8575 - val_precision_2: 0.8614 - val_recall_2: 0.8518 - val_f1_score: 0.8575\n",
            "Epoch 35/100\n",
            "1000/1000 [==============================] - 27s 27ms/step - loss: 0.1404 - categorical_accuracy: 0.9535 - precision_2: 0.9572 - recall_2: 0.9493 - f1_score: 0.9534 - val_loss: 0.5294 - val_categorical_accuracy: 0.8717 - val_precision_2: 0.8774 - val_recall_2: 0.8658 - val_f1_score: 0.8715\n",
            "Epoch 36/100\n",
            "1000/1000 [==============================] - 27s 27ms/step - loss: 0.1413 - categorical_accuracy: 0.9513 - precision_2: 0.9560 - recall_2: 0.9469 - f1_score: 0.9512 - val_loss: 0.4737 - val_categorical_accuracy: 0.8685 - val_precision_2: 0.8756 - val_recall_2: 0.8625 - val_f1_score: 0.8677\n",
            "Epoch 37/100\n",
            "1000/1000 [==============================] - 27s 27ms/step - loss: 0.1336 - categorical_accuracy: 0.9548 - precision_2: 0.9596 - recall_2: 0.9513 - f1_score: 0.9548 - val_loss: 0.4930 - val_categorical_accuracy: 0.8655 - val_precision_2: 0.8709 - val_recall_2: 0.8620 - val_f1_score: 0.8651\n",
            "Epoch 38/100\n",
            "1000/1000 [==============================] - 27s 27ms/step - loss: 0.1301 - categorical_accuracy: 0.9561 - precision_2: 0.9602 - recall_2: 0.9526 - f1_score: 0.9560 - val_loss: 0.5022 - val_categorical_accuracy: 0.8715 - val_precision_2: 0.8759 - val_recall_2: 0.8680 - val_f1_score: 0.8715\n",
            "Epoch 39/100\n",
            "1000/1000 [==============================] - 27s 27ms/step - loss: 0.1249 - categorical_accuracy: 0.9594 - precision_2: 0.9627 - recall_2: 0.9561 - f1_score: 0.9594 - val_loss: 0.4718 - val_categorical_accuracy: 0.8735 - val_precision_2: 0.8776 - val_recall_2: 0.8690 - val_f1_score: 0.8736\n",
            "Epoch 40/100\n",
            "1000/1000 [==============================] - 27s 27ms/step - loss: 0.1230 - categorical_accuracy: 0.9582 - precision_2: 0.9619 - recall_2: 0.9549 - f1_score: 0.9582 - val_loss: 0.4551 - val_categorical_accuracy: 0.8792 - val_precision_2: 0.8871 - val_recall_2: 0.8737 - val_f1_score: 0.8799\n",
            "Epoch 41/100\n",
            "1000/1000 [==============================] - 27s 27ms/step - loss: 0.1271 - categorical_accuracy: 0.9589 - precision_2: 0.9623 - recall_2: 0.9557 - f1_score: 0.9588 - val_loss: 0.5239 - val_categorical_accuracy: 0.8668 - val_precision_2: 0.8709 - val_recall_2: 0.8637 - val_f1_score: 0.8667\n",
            "Epoch 42/100\n",
            "1000/1000 [==============================] - 27s 27ms/step - loss: 0.1209 - categorical_accuracy: 0.9611 - precision_2: 0.9640 - recall_2: 0.9578 - f1_score: 0.9610 - val_loss: 0.4936 - val_categorical_accuracy: 0.8733 - val_precision_2: 0.8770 - val_recall_2: 0.8700 - val_f1_score: 0.8736\n",
            "Epoch 43/100\n",
            "1000/1000 [==============================] - 27s 27ms/step - loss: 0.1221 - categorical_accuracy: 0.9591 - precision_2: 0.9622 - recall_2: 0.9561 - f1_score: 0.9591 - val_loss: 0.4717 - val_categorical_accuracy: 0.8735 - val_precision_2: 0.8793 - val_recall_2: 0.8702 - val_f1_score: 0.8736\n",
            "Epoch 44/100\n",
            "1000/1000 [==============================] - 27s 27ms/step - loss: 0.1074 - categorical_accuracy: 0.9639 - precision_2: 0.9666 - recall_2: 0.9617 - f1_score: 0.9638 - val_loss: 0.5883 - val_categorical_accuracy: 0.8645 - val_precision_2: 0.8689 - val_recall_2: 0.8615 - val_f1_score: 0.8631\n",
            "Epoch 45/100\n",
            "1000/1000 [==============================] - 27s 27ms/step - loss: 0.1124 - categorical_accuracy: 0.9629 - precision_2: 0.9658 - recall_2: 0.9600 - f1_score: 0.9629 - val_loss: 0.4888 - val_categorical_accuracy: 0.8727 - val_precision_2: 0.8770 - val_recall_2: 0.8700 - val_f1_score: 0.8727\n",
            "Epoch 46/100\n",
            "1000/1000 [==============================] - 27s 27ms/step - loss: 0.1161 - categorical_accuracy: 0.9588 - precision_2: 0.9618 - recall_2: 0.9562 - f1_score: 0.9588 - val_loss: 0.5692 - val_categorical_accuracy: 0.8683 - val_precision_2: 0.8705 - val_recall_2: 0.8658 - val_f1_score: 0.8685\n",
            "Epoch 47/100\n",
            "1000/1000 [==============================] - 27s 27ms/step - loss: 0.1078 - categorical_accuracy: 0.9638 - precision_2: 0.9663 - recall_2: 0.9617 - f1_score: 0.9638 - val_loss: 0.5622 - val_categorical_accuracy: 0.8745 - val_precision_2: 0.8795 - val_recall_2: 0.8723 - val_f1_score: 0.8742\n",
            "Epoch 48/100\n",
            "1000/1000 [==============================] - 27s 27ms/step - loss: 0.1023 - categorical_accuracy: 0.9665 - precision_2: 0.9689 - recall_2: 0.9642 - f1_score: 0.9665 - val_loss: 0.5505 - val_categorical_accuracy: 0.8687 - val_precision_2: 0.8736 - val_recall_2: 0.8655 - val_f1_score: 0.8692\n",
            "Epoch 49/100\n",
            "1000/1000 [==============================] - 27s 27ms/step - loss: 0.1099 - categorical_accuracy: 0.9643 - precision_2: 0.9666 - recall_2: 0.9616 - f1_score: 0.9643 - val_loss: 0.4898 - val_categorical_accuracy: 0.8700 - val_precision_2: 0.8744 - val_recall_2: 0.8668 - val_f1_score: 0.8697\n",
            "Epoch 50/100\n",
            "1000/1000 [==============================] - 28s 28ms/step - loss: 0.1096 - categorical_accuracy: 0.9642 - precision_2: 0.9667 - recall_2: 0.9613 - f1_score: 0.9641 - val_loss: 0.4800 - val_categorical_accuracy: 0.8770 - val_precision_2: 0.8818 - val_recall_2: 0.8730 - val_f1_score: 0.8779\n",
            "Epoch 51/100\n",
            "1000/1000 [==============================] - 28s 28ms/step - loss: 0.1015 - categorical_accuracy: 0.9661 - precision_2: 0.9689 - recall_2: 0.9640 - f1_score: 0.9660 - val_loss: 0.4968 - val_categorical_accuracy: 0.8737 - val_precision_2: 0.8785 - val_recall_2: 0.8695 - val_f1_score: 0.8736\n",
            "Epoch 52/100\n",
            "1000/1000 [==============================] - 28s 28ms/step - loss: 0.0977 - categorical_accuracy: 0.9676 - precision_2: 0.9696 - recall_2: 0.9656 - f1_score: 0.9676 - val_loss: 0.5197 - val_categorical_accuracy: 0.8780 - val_precision_2: 0.8803 - val_recall_2: 0.8730 - val_f1_score: 0.8776\n",
            "Epoch 53/100\n",
            "1000/1000 [==============================] - 27s 27ms/step - loss: 0.0953 - categorical_accuracy: 0.9676 - precision_2: 0.9696 - recall_2: 0.9656 - f1_score: 0.9675 - val_loss: 0.5200 - val_categorical_accuracy: 0.8817 - val_precision_2: 0.8862 - val_recall_2: 0.8765 - val_f1_score: 0.8820\n",
            "Epoch 54/100\n",
            "1000/1000 [==============================] - 27s 27ms/step - loss: 0.0961 - categorical_accuracy: 0.9685 - precision_2: 0.9706 - recall_2: 0.9662 - f1_score: 0.9685 - val_loss: 0.5066 - val_categorical_accuracy: 0.8860 - val_precision_2: 0.8894 - val_recall_2: 0.8830 - val_f1_score: 0.8864\n",
            "Epoch 55/100\n",
            "1000/1000 [==============================] - 27s 27ms/step - loss: 0.0906 - categorical_accuracy: 0.9696 - precision_2: 0.9716 - recall_2: 0.9680 - f1_score: 0.9696 - val_loss: 0.5541 - val_categorical_accuracy: 0.8758 - val_precision_2: 0.8805 - val_recall_2: 0.8730 - val_f1_score: 0.8761\n",
            "Epoch 56/100\n",
            "1000/1000 [==============================] - 28s 28ms/step - loss: 0.1009 - categorical_accuracy: 0.9667 - precision_2: 0.9690 - recall_2: 0.9647 - f1_score: 0.9666 - val_loss: 0.5305 - val_categorical_accuracy: 0.8838 - val_precision_2: 0.8873 - val_recall_2: 0.8802 - val_f1_score: 0.8841\n",
            "Epoch 57/100\n",
            "1000/1000 [==============================] - 27s 27ms/step - loss: 0.0950 - categorical_accuracy: 0.9688 - precision_2: 0.9707 - recall_2: 0.9668 - f1_score: 0.9687 - val_loss: 0.4869 - val_categorical_accuracy: 0.8802 - val_precision_2: 0.8825 - val_recall_2: 0.8765 - val_f1_score: 0.8806\n",
            "Epoch 58/100\n",
            "1000/1000 [==============================] - 27s 27ms/step - loss: 0.0898 - categorical_accuracy: 0.9695 - precision_2: 0.9716 - recall_2: 0.9680 - f1_score: 0.9695 - val_loss: 0.5245 - val_categorical_accuracy: 0.8842 - val_precision_2: 0.8868 - val_recall_2: 0.8813 - val_f1_score: 0.8841\n",
            "Epoch 59/100\n",
            "1000/1000 [==============================] - 27s 27ms/step - loss: 0.0894 - categorical_accuracy: 0.9702 - precision_2: 0.9719 - recall_2: 0.9681 - f1_score: 0.9702 - val_loss: 0.5818 - val_categorical_accuracy: 0.8748 - val_precision_2: 0.8802 - val_recall_2: 0.8727 - val_f1_score: 0.8755\n",
            "Epoch 60/100\n",
            "1000/1000 [==============================] - 28s 28ms/step - loss: 0.0911 - categorical_accuracy: 0.9702 - precision_2: 0.9725 - recall_2: 0.9684 - f1_score: 0.9701 - val_loss: 0.5489 - val_categorical_accuracy: 0.8708 - val_precision_2: 0.8747 - val_recall_2: 0.8692 - val_f1_score: 0.8709\n",
            "Epoch 61/100\n",
            "1000/1000 [==============================] - 27s 27ms/step - loss: 0.0856 - categorical_accuracy: 0.9721 - precision_2: 0.9741 - recall_2: 0.9701 - f1_score: 0.9720 - val_loss: 0.5527 - val_categorical_accuracy: 0.8745 - val_precision_2: 0.8772 - val_recall_2: 0.8715 - val_f1_score: 0.8742\n",
            "Epoch 62/100\n",
            "1000/1000 [==============================] - 27s 27ms/step - loss: 0.0828 - categorical_accuracy: 0.9729 - precision_2: 0.9745 - recall_2: 0.9716 - f1_score: 0.9729 - val_loss: 0.5397 - val_categorical_accuracy: 0.8777 - val_precision_2: 0.8808 - val_recall_2: 0.8740 - val_f1_score: 0.8786\n",
            "Epoch 63/100\n",
            "1000/1000 [==============================] - 28s 28ms/step - loss: 0.0835 - categorical_accuracy: 0.9729 - precision_2: 0.9747 - recall_2: 0.9715 - f1_score: 0.9729 - val_loss: 0.5424 - val_categorical_accuracy: 0.8790 - val_precision_2: 0.8823 - val_recall_2: 0.8767 - val_f1_score: 0.8793\n",
            "Epoch 64/100\n",
            "1000/1000 [==============================] - 28s 28ms/step - loss: 0.0856 - categorical_accuracy: 0.9711 - precision_2: 0.9734 - recall_2: 0.9691 - f1_score: 0.9711 - val_loss: 0.5631 - val_categorical_accuracy: 0.8792 - val_precision_2: 0.8823 - val_recall_2: 0.8773 - val_f1_score: 0.8791\n",
            "Epoch 65/100\n",
            "1000/1000 [==============================] - 28s 28ms/step - loss: 0.0818 - categorical_accuracy: 0.9721 - precision_2: 0.9735 - recall_2: 0.9709 - f1_score: 0.9721 - val_loss: 0.5671 - val_categorical_accuracy: 0.8808 - val_precision_2: 0.8842 - val_recall_2: 0.8785 - val_f1_score: 0.8808\n",
            "Epoch 66/100\n",
            "1000/1000 [==============================] - 27s 27ms/step - loss: 0.0852 - categorical_accuracy: 0.9713 - precision_2: 0.9733 - recall_2: 0.9696 - f1_score: 0.9713 - val_loss: 0.6003 - val_categorical_accuracy: 0.8767 - val_precision_2: 0.8788 - val_recall_2: 0.8740 - val_f1_score: 0.8767\n",
            "Epoch 67/100\n",
            "1000/1000 [==============================] - 27s 27ms/step - loss: 0.0810 - categorical_accuracy: 0.9725 - precision_2: 0.9740 - recall_2: 0.9709 - f1_score: 0.9725 - val_loss: 0.5626 - val_categorical_accuracy: 0.8775 - val_precision_2: 0.8801 - val_recall_2: 0.8737 - val_f1_score: 0.8779\n",
            "Epoch 68/100\n",
            "1000/1000 [==============================] - 27s 27ms/step - loss: 0.0767 - categorical_accuracy: 0.9743 - precision_2: 0.9754 - recall_2: 0.9728 - f1_score: 0.9743 - val_loss: 0.6020 - val_categorical_accuracy: 0.8820 - val_precision_2: 0.8832 - val_recall_2: 0.8808 - val_f1_score: 0.8821\n",
            "Epoch 69/100\n",
            "1000/1000 [==============================] - 28s 28ms/step - loss: 0.0785 - categorical_accuracy: 0.9739 - precision_2: 0.9758 - recall_2: 0.9722 - f1_score: 0.9739 - val_loss: 0.5889 - val_categorical_accuracy: 0.8790 - val_precision_2: 0.8816 - val_recall_2: 0.8770 - val_f1_score: 0.8789\n",
            "Epoch 70/100\n",
            "1000/1000 [==============================] - 27s 27ms/step - loss: 0.0739 - categorical_accuracy: 0.9765 - precision_2: 0.9779 - recall_2: 0.9747 - f1_score: 0.9764 - val_loss: 0.5590 - val_categorical_accuracy: 0.8832 - val_precision_2: 0.8858 - val_recall_2: 0.8805 - val_f1_score: 0.8839\n",
            "Epoch 71/100\n",
            "1000/1000 [==============================] - 28s 28ms/step - loss: 0.0766 - categorical_accuracy: 0.9755 - precision_2: 0.9769 - recall_2: 0.9737 - f1_score: 0.9754 - val_loss: 0.5298 - val_categorical_accuracy: 0.8780 - val_precision_2: 0.8822 - val_recall_2: 0.8765 - val_f1_score: 0.8780\n",
            "Epoch 72/100\n",
            "1000/1000 [==============================] - 29s 29ms/step - loss: 0.0734 - categorical_accuracy: 0.9764 - precision_2: 0.9777 - recall_2: 0.9747 - f1_score: 0.9764 - val_loss: 0.5202 - val_categorical_accuracy: 0.8857 - val_precision_2: 0.8900 - val_recall_2: 0.8840 - val_f1_score: 0.8863\n",
            "Epoch 73/100\n",
            "1000/1000 [==============================] - 29s 29ms/step - loss: 0.0733 - categorical_accuracy: 0.9768 - precision_2: 0.9782 - recall_2: 0.9754 - f1_score: 0.9767 - val_loss: 0.5373 - val_categorical_accuracy: 0.8827 - val_precision_2: 0.8859 - val_recall_2: 0.8792 - val_f1_score: 0.8834\n",
            "Epoch 74/100\n",
            "1000/1000 [==============================] - 29s 29ms/step - loss: 0.0785 - categorical_accuracy: 0.9747 - precision_2: 0.9765 - recall_2: 0.9729 - f1_score: 0.9747 - val_loss: 0.5733 - val_categorical_accuracy: 0.8770 - val_precision_2: 0.8801 - val_recall_2: 0.8737 - val_f1_score: 0.8770\n",
            "Epoch 75/100\n",
            "1000/1000 [==============================] - 28s 28ms/step - loss: 0.0754 - categorical_accuracy: 0.9751 - precision_2: 0.9766 - recall_2: 0.9738 - f1_score: 0.9750 - val_loss: 0.5452 - val_categorical_accuracy: 0.8825 - val_precision_2: 0.8861 - val_recall_2: 0.8808 - val_f1_score: 0.8822\n",
            "Epoch 76/100\n",
            "1000/1000 [==============================] - 28s 28ms/step - loss: 0.0733 - categorical_accuracy: 0.9763 - precision_2: 0.9779 - recall_2: 0.9748 - f1_score: 0.9763 - val_loss: 0.6502 - val_categorical_accuracy: 0.8790 - val_precision_2: 0.8812 - val_recall_2: 0.8770 - val_f1_score: 0.8791\n",
            "Epoch 77/100\n",
            "1000/1000 [==============================] - 28s 28ms/step - loss: 0.0771 - categorical_accuracy: 0.9752 - precision_2: 0.9764 - recall_2: 0.9737 - f1_score: 0.9752 - val_loss: 0.5311 - val_categorical_accuracy: 0.8788 - val_precision_2: 0.8819 - val_recall_2: 0.8770 - val_f1_score: 0.8787\n",
            "Epoch 78/100\n",
            "1000/1000 [==============================] - 29s 29ms/step - loss: 0.0728 - categorical_accuracy: 0.9761 - precision_2: 0.9774 - recall_2: 0.9749 - f1_score: 0.9760 - val_loss: 0.5908 - val_categorical_accuracy: 0.8848 - val_precision_2: 0.8873 - val_recall_2: 0.8835 - val_f1_score: 0.8844\n",
            "Epoch 79/100\n",
            "1000/1000 [==============================] - 30s 30ms/step - loss: 0.0700 - categorical_accuracy: 0.9770 - precision_2: 0.9784 - recall_2: 0.9758 - f1_score: 0.9770 - val_loss: 0.5416 - val_categorical_accuracy: 0.8870 - val_precision_2: 0.8910 - val_recall_2: 0.8852 - val_f1_score: 0.8867\n",
            "Epoch 80/100\n",
            "1000/1000 [==============================] - 30s 30ms/step - loss: 0.0679 - categorical_accuracy: 0.9797 - precision_2: 0.9806 - recall_2: 0.9782 - f1_score: 0.9796 - val_loss: 0.5724 - val_categorical_accuracy: 0.8810 - val_precision_2: 0.8837 - val_recall_2: 0.8795 - val_f1_score: 0.8805\n",
            "Epoch 81/100\n",
            "1000/1000 [==============================] - 30s 30ms/step - loss: 0.0740 - categorical_accuracy: 0.9761 - precision_2: 0.9772 - recall_2: 0.9748 - f1_score: 0.9761 - val_loss: 0.5516 - val_categorical_accuracy: 0.8823 - val_precision_2: 0.8848 - val_recall_2: 0.8792 - val_f1_score: 0.8818\n",
            "Epoch 82/100\n",
            "1000/1000 [==============================] - 30s 30ms/step - loss: 0.0720 - categorical_accuracy: 0.9758 - precision_2: 0.9774 - recall_2: 0.9750 - f1_score: 0.9758 - val_loss: 0.5288 - val_categorical_accuracy: 0.8832 - val_precision_2: 0.8858 - val_recall_2: 0.8802 - val_f1_score: 0.8834\n",
            "Epoch 83/100\n",
            "1000/1000 [==============================] - 30s 30ms/step - loss: 0.0746 - categorical_accuracy: 0.9757 - precision_2: 0.9771 - recall_2: 0.9745 - f1_score: 0.9757 - val_loss: 0.5592 - val_categorical_accuracy: 0.8800 - val_precision_2: 0.8813 - val_recall_2: 0.8783 - val_f1_score: 0.8803\n",
            "Epoch 84/100\n",
            "1000/1000 [==============================] - 30s 30ms/step - loss: 0.0693 - categorical_accuracy: 0.9771 - precision_2: 0.9781 - recall_2: 0.9758 - f1_score: 0.9770 - val_loss: 0.5678 - val_categorical_accuracy: 0.8855 - val_precision_2: 0.8884 - val_recall_2: 0.8840 - val_f1_score: 0.8849\n",
            "Epoch 85/100\n",
            "1000/1000 [==============================] - 30s 30ms/step - loss: 0.0652 - categorical_accuracy: 0.9795 - precision_2: 0.9804 - recall_2: 0.9788 - f1_score: 0.9795 - val_loss: 0.5710 - val_categorical_accuracy: 0.8760 - val_precision_2: 0.8787 - val_recall_2: 0.8745 - val_f1_score: 0.8765\n",
            "Epoch 86/100\n",
            "1000/1000 [==============================] - 30s 30ms/step - loss: 0.0708 - categorical_accuracy: 0.9761 - precision_2: 0.9777 - recall_2: 0.9752 - f1_score: 0.9761 - val_loss: 0.5692 - val_categorical_accuracy: 0.8785 - val_precision_2: 0.8833 - val_recall_2: 0.8760 - val_f1_score: 0.8789\n",
            "Epoch 87/100\n",
            "1000/1000 [==============================] - 30s 30ms/step - loss: 0.0688 - categorical_accuracy: 0.9773 - precision_2: 0.9788 - recall_2: 0.9760 - f1_score: 0.9773 - val_loss: 0.5477 - val_categorical_accuracy: 0.8845 - val_precision_2: 0.8892 - val_recall_2: 0.8827 - val_f1_score: 0.8842\n",
            "Epoch 88/100\n",
            "1000/1000 [==============================] - 30s 30ms/step - loss: 0.0706 - categorical_accuracy: 0.9773 - precision_2: 0.9783 - recall_2: 0.9761 - f1_score: 0.9773 - val_loss: 0.5359 - val_categorical_accuracy: 0.8898 - val_precision_2: 0.8919 - val_recall_2: 0.8865 - val_f1_score: 0.8896\n",
            "Epoch 89/100\n",
            "1000/1000 [==============================] - 30s 30ms/step - loss: 0.0650 - categorical_accuracy: 0.9786 - precision_2: 0.9794 - recall_2: 0.9773 - f1_score: 0.9785 - val_loss: 0.5535 - val_categorical_accuracy: 0.8800 - val_precision_2: 0.8821 - val_recall_2: 0.8775 - val_f1_score: 0.8794\n",
            "Epoch 90/100\n",
            "1000/1000 [==============================] - 30s 30ms/step - loss: 0.0663 - categorical_accuracy: 0.9780 - precision_2: 0.9790 - recall_2: 0.9771 - f1_score: 0.9780 - val_loss: 0.5742 - val_categorical_accuracy: 0.8842 - val_precision_2: 0.8862 - val_recall_2: 0.8817 - val_f1_score: 0.8841\n",
            "Epoch 91/100\n",
            "1000/1000 [==============================] - 30s 30ms/step - loss: 0.0664 - categorical_accuracy: 0.9788 - precision_2: 0.9800 - recall_2: 0.9777 - f1_score: 0.9788 - val_loss: 0.5318 - val_categorical_accuracy: 0.8827 - val_precision_2: 0.8860 - val_recall_2: 0.8798 - val_f1_score: 0.8828\n",
            "Epoch 92/100\n",
            "1000/1000 [==============================] - 30s 30ms/step - loss: 0.0645 - categorical_accuracy: 0.9801 - precision_2: 0.9812 - recall_2: 0.9788 - f1_score: 0.9800 - val_loss: 0.5948 - val_categorical_accuracy: 0.8863 - val_precision_2: 0.8889 - val_recall_2: 0.8840 - val_f1_score: 0.8857\n",
            "Epoch 93/100\n",
            "1000/1000 [==============================] - 30s 30ms/step - loss: 0.0664 - categorical_accuracy: 0.9784 - precision_2: 0.9793 - recall_2: 0.9771 - f1_score: 0.9784 - val_loss: 0.5923 - val_categorical_accuracy: 0.8840 - val_precision_2: 0.8856 - val_recall_2: 0.8827 - val_f1_score: 0.8840\n",
            "Epoch 94/100\n",
            "1000/1000 [==============================] - 30s 30ms/step - loss: 0.0706 - categorical_accuracy: 0.9771 - precision_2: 0.9786 - recall_2: 0.9757 - f1_score: 0.9771 - val_loss: 0.5869 - val_categorical_accuracy: 0.8845 - val_precision_2: 0.8870 - val_recall_2: 0.8832 - val_f1_score: 0.8843\n",
            "Epoch 95/100\n",
            "1000/1000 [==============================] - 30s 30ms/step - loss: 0.0685 - categorical_accuracy: 0.9778 - precision_2: 0.9793 - recall_2: 0.9764 - f1_score: 0.9778 - val_loss: 0.5614 - val_categorical_accuracy: 0.8880 - val_precision_2: 0.8907 - val_recall_2: 0.8863 - val_f1_score: 0.8876\n",
            "Epoch 96/100\n",
            "1000/1000 [==============================] - 30s 30ms/step - loss: 0.0622 - categorical_accuracy: 0.9793 - precision_2: 0.9813 - recall_2: 0.9784 - f1_score: 0.9793 - val_loss: 0.6226 - val_categorical_accuracy: 0.8802 - val_precision_2: 0.8818 - val_recall_2: 0.8788 - val_f1_score: 0.8805\n",
            "Epoch 97/100\n",
            "1000/1000 [==============================] - 30s 30ms/step - loss: 0.0661 - categorical_accuracy: 0.9786 - precision_2: 0.9799 - recall_2: 0.9773 - f1_score: 0.9786 - val_loss: 0.5576 - val_categorical_accuracy: 0.8848 - val_precision_2: 0.8864 - val_recall_2: 0.8835 - val_f1_score: 0.8850\n",
            "Epoch 98/100\n",
            "1000/1000 [==============================] - 30s 30ms/step - loss: 0.0625 - categorical_accuracy: 0.9804 - precision_2: 0.9815 - recall_2: 0.9791 - f1_score: 0.9804 - val_loss: 0.5710 - val_categorical_accuracy: 0.8878 - val_precision_2: 0.8899 - val_recall_2: 0.8867 - val_f1_score: 0.8878\n",
            "Epoch 99/100\n",
            "1000/1000 [==============================] - 30s 30ms/step - loss: 0.0673 - categorical_accuracy: 0.9787 - precision_2: 0.9806 - recall_2: 0.9777 - f1_score: 0.9786 - val_loss: 0.5605 - val_categorical_accuracy: 0.8810 - val_precision_2: 0.8838 - val_recall_2: 0.8783 - val_f1_score: 0.8813\n",
            "Epoch 100/100\n",
            "1000/1000 [==============================] - 28s 28ms/step - loss: 0.0622 - categorical_accuracy: 0.9807 - precision_2: 0.9823 - recall_2: 0.9796 - f1_score: 0.9806 - val_loss: 0.6147 - val_categorical_accuracy: 0.8708 - val_precision_2: 0.8726 - val_recall_2: 0.8683 - val_f1_score: 0.8700\n"
          ]
        }
      ]
    },
    {
      "cell_type": "code",
      "source": [
        "#plot loss\n",
        "plt.plot(history_lstm_exp2.history['loss'])\n",
        "plt.plot(history_lstm_exp2.history['val_loss'])\n",
        "plt.title('Improved LSTM 2 - Train/Val Loss')\n",
        "plt.ylabel('loss')\n",
        "plt.xlabel('epoch')\n",
        "plt.legend(['Tain', 'Val'])\n",
        "plt.show()"
      ],
      "metadata": {
        "id": "4_wHfV5s2Z7l",
        "outputId": "f8f9dfa0-4428-4c5a-d42c-c6c2c38ed601",
        "colab": {
          "base_uri": "https://localhost:8080/",
          "height": 472
        }
      },
      "execution_count": 38,
      "outputs": [
        {
          "output_type": "display_data",
          "data": {
            "text/plain": [
              "<Figure size 640x480 with 1 Axes>"
            ],
            "image/png": "[encoded data removed]"
          },
          "metadata": {}
        }
      ]
    },
    {
      "cell_type": "code",
      "source": [
        "# evaluate on test data\n",
        "loss, accuracy, precision, recall, f1 = lstm_exp2.evaluate(X_test, y_test)\n",
        "print(f'Loss: {loss}\\nAccuracy: {accuracy}\\nPrecision: {precision}\\nRecall: {recall},\\nF1: {f1}')"
      ],
      "metadata": {
        "id": "QTv_5r_v8zY3",
        "colab": {
          "base_uri": "https://localhost:8080/"
        },
        "outputId": "700f7ede-5017-42e4-e8af-cf3afd58ed76"
      },
      "execution_count": 39,
      "outputs": [
        {
          "output_type": "stream",
          "name": "stdout",
          "text": [
            "125/125 [==============================] - 2s 12ms/step - loss: 0.5228 - categorical_accuracy: 0.8865 - precision_2: 0.8892 - recall_2: 0.8830 - f1_score: 0.8859\n",
            "Loss: 0.5228346586227417\n",
            "Accuracy: 0.8865000009536743\n",
            "Precision: 0.8892245888710022\n",
            "Recall: 0.8830000162124634,\n",
            "F1: [0.9171327 0.8305002 0.9560174 0.839895 ]\n"
          ]
        }
      ]
    },
    {
      "cell_type": "code",
      "source": [
        "# plot confusion matrix\n",
        "y_pred_lstm2 = lstm_exp2.predict(X_test)\n",
        "cm = confusion_matrix(np.argmax(y_test, axis=1), np.argmax(y_pred_lstm2, axis=1))\n",
        "ConfusionMatrixDisplay(confusion_matrix=cm).plot();\n",
        "plt.title('Confusion matrix - Improved LSTM 2')"
      ],
      "metadata": {
        "colab": {
          "base_uri": "https://localhost:8080/",
          "height": 508
        },
        "id": "fsShG3fBEtcp",
        "outputId": "d831b650-e003-443f-c9dc-99f10d1b8552"
      },
      "execution_count": 40,
      "outputs": [
        {
          "output_type": "stream",
          "name": "stdout",
          "text": [
            "125/125 [==============================] - 3s 12ms/step\n"
          ]
        },
        {
          "output_type": "execute_result",
          "data": {
            "text/plain": [
              "Text(0.5, 1.0, 'Confusion matrix - Improved LSTM 2')"
            ]
          },
          "metadata": {},
          "execution_count": 40
        },
        {
          "output_type": "display_data",
          "data": {
            "text/plain": [
              "<Figure size 640x480 with 2 Axes>"
            ],
            "image/png": "[encoded data removed]"
          },
          "metadata": {}
        }
      ]
    },
    {
      "cell_type": "code",
      "source": [],
      "metadata": {
        "id": "0WHPNnJwGfSa"
      },
      "execution_count": 40,
      "outputs": []
    }
  ],
  "metadata": {
    "language_info": {
      "name": "python"
    },
    "colab": {
      "provenance": [],
      "machine_shape": "hm",
      "gpuType": "T4"
    },
    "kernelspec": {
      "name": "python3",
      "display_name": "Python 3"
    },
    "accelerator": "GPU"
  },
  "nbformat": 4,
  "nbformat_minor": 0
}