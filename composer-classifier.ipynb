{
  "cells": [
    {
      "cell_type": "markdown",
      "metadata": {
        "id": "AXFl2FWx6LFd"
      },
      "source": [
        "# Predicting Composer of a Musical Piece\n",
        "## AAI-511 Team 7 Final Project\n",
        "\n",
        "Team 7:  Tyler Foreman\n",
        "\n",
        "University of San Diego, Applied Artificial Intelligence\n",
        "\n",
        "Date:  August 12, 2024\n",
        "\n",
        "GitHub Repository: https://github.com/t4ai/aai-511-final-project"
      ]
    },
    {
      "cell_type": "code",
      "source": [
        "!pip install pretty_midi\n",
        "!pip install tensorflow_transform"
      ],
      "metadata": {
        "id": "FHizMHGjiiRV",
        "colab": {
          "base_uri": "https://localhost:8080/"
        },
        "outputId": "0fe4e444-fee2-41ab-8e4c-8ff010e9050a"
      },
      "execution_count": 1,
      "outputs": [
        {
          "output_type": "stream",
          "name": "stdout",
          "text": [
            "Requirement already satisfied: pretty_midi in /usr/local/lib/python3.10/dist-packages (0.2.10)\n",
            "Requirement already satisfied: numpy>=1.7.0 in /usr/local/lib/python3.10/dist-packages (from pretty_midi) (1.26.4)\n",
            "Requirement already satisfied: mido>=1.1.16 in /usr/local/lib/python3.10/dist-packages (from pretty_midi) (1.3.2)\n",
            "Requirement already satisfied: six in /usr/local/lib/python3.10/dist-packages (from pretty_midi) (1.16.0)\n",
            "Requirement already satisfied: packaging~=23.1 in /usr/local/lib/python3.10/dist-packages (from mido>=1.1.16->pretty_midi) (23.2)\n",
            "Requirement already satisfied: tensorflow_transform in /usr/local/lib/python3.10/dist-packages (1.15.0)\n",
            "Requirement already satisfied: absl-py<2.0.0,>=0.9 in /usr/local/lib/python3.10/dist-packages (from tensorflow_transform) (1.4.0)\n",
            "Requirement already satisfied: numpy>=1.22.0 in /usr/local/lib/python3.10/dist-packages (from tensorflow_transform) (1.26.4)\n",
            "Requirement already satisfied: pyarrow<11,>=10 in /usr/local/lib/python3.10/dist-packages (from tensorflow_transform) (10.0.1)\n",
            "Requirement already satisfied: pydot<2,>=1.2 in /usr/local/lib/python3.10/dist-packages (from tensorflow_transform) (1.4.2)\n",
            "Requirement already satisfied: tensorflow<2.16,>=2.15 in /usr/local/lib/python3.10/dist-packages (from tensorflow_transform) (2.15.1)\n",
            "Requirement already satisfied: tensorflow-metadata<1.16.0,>=1.15.0 in /usr/local/lib/python3.10/dist-packages (from tensorflow_transform) (1.15.0)\n",
            "Requirement already satisfied: tfx-bsl<1.16.0,>=1.15.1 in /usr/local/lib/python3.10/dist-packages (from tensorflow_transform) (1.15.1)\n",
            "Requirement already satisfied: apache-beam<3,>=2.47 in /usr/local/lib/python3.10/dist-packages (from apache-beam[gcp]<3,>=2.47; python_version < \"3.11\"->tensorflow_transform) (2.57.0)\n",
            "Requirement already satisfied: protobuf<5,>=3.20.3 in /usr/local/lib/python3.10/dist-packages (from tensorflow_transform) (3.20.3)\n",
            "Requirement already satisfied: crcmod<2.0,>=1.7 in /usr/local/lib/python3.10/dist-packages (from apache-beam<3,>=2.47->apache-beam[gcp]<3,>=2.47; python_version < \"3.11\"->tensorflow_transform) (1.7)\n",
            "Requirement already satisfied: orjson<4,>=3.9.7 in /usr/local/lib/python3.10/dist-packages (from apache-beam<3,>=2.47->apache-beam[gcp]<3,>=2.47; python_version < \"3.11\"->tensorflow_transform) (3.10.6)\n",
            "Requirement already satisfied: dill<0.3.2,>=0.3.1.1 in /usr/local/lib/python3.10/dist-packages (from apache-beam<3,>=2.47->apache-beam[gcp]<3,>=2.47; python_version < \"3.11\"->tensorflow_transform) (0.3.1.1)\n",
            "Requirement already satisfied: cloudpickle~=2.2.1 in /usr/local/lib/python3.10/dist-packages (from apache-beam<3,>=2.47->apache-beam[gcp]<3,>=2.47; python_version < \"3.11\"->tensorflow_transform) (2.2.1)\n",
            "Requirement already satisfied: fastavro<2,>=0.23.6 in /usr/local/lib/python3.10/dist-packages (from apache-beam<3,>=2.47->apache-beam[gcp]<3,>=2.47; python_version < \"3.11\"->tensorflow_transform) (1.9.5)\n",
            "Requirement already satisfied: fasteners<1.0,>=0.3 in /usr/local/lib/python3.10/dist-packages (from apache-beam<3,>=2.47->apache-beam[gcp]<3,>=2.47; python_version < \"3.11\"->tensorflow_transform) (0.19)\n",
            "Requirement already satisfied: grpcio!=1.48.0,!=1.59.*,!=1.60.*,!=1.61.*,!=1.62.0,!=1.62.1,<2,>=1.33.1 in /usr/local/lib/python3.10/dist-packages (from apache-beam<3,>=2.47->apache-beam[gcp]<3,>=2.47; python_version < \"3.11\"->tensorflow_transform) (1.64.1)\n",
            "Requirement already satisfied: hdfs<3.0.0,>=2.1.0 in /usr/local/lib/python3.10/dist-packages (from apache-beam<3,>=2.47->apache-beam[gcp]<3,>=2.47; python_version < \"3.11\"->tensorflow_transform) (2.7.3)\n",
            "Requirement already satisfied: httplib2<0.23.0,>=0.8 in /usr/local/lib/python3.10/dist-packages (from apache-beam<3,>=2.47->apache-beam[gcp]<3,>=2.47; python_version < \"3.11\"->tensorflow_transform) (0.22.0)\n",
            "Requirement already satisfied: jsonschema<5.0.0,>=4.0.0 in /usr/local/lib/python3.10/dist-packages (from apache-beam<3,>=2.47->apache-beam[gcp]<3,>=2.47; python_version < \"3.11\"->tensorflow_transform) (4.23.0)\n",
            "Requirement already satisfied: jsonpickle<4.0.0,>=3.0.0 in /usr/local/lib/python3.10/dist-packages (from apache-beam<3,>=2.47->apache-beam[gcp]<3,>=2.47; python_version < \"3.11\"->tensorflow_transform) (3.2.2)\n",
            "Requirement already satisfied: objsize<0.8.0,>=0.6.1 in /usr/local/lib/python3.10/dist-packages (from apache-beam<3,>=2.47->apache-beam[gcp]<3,>=2.47; python_version < \"3.11\"->tensorflow_transform) (0.7.0)\n",
            "Requirement already satisfied: packaging>=22.0 in /usr/local/lib/python3.10/dist-packages (from apache-beam<3,>=2.47->apache-beam[gcp]<3,>=2.47; python_version < \"3.11\"->tensorflow_transform) (23.2)\n",
            "Requirement already satisfied: pymongo<5.0.0,>=3.8.0 in /usr/local/lib/python3.10/dist-packages (from apache-beam<3,>=2.47->apache-beam[gcp]<3,>=2.47; python_version < \"3.11\"->tensorflow_transform) (4.8.0)\n",
            "Requirement already satisfied: proto-plus<2,>=1.7.1 in /usr/local/lib/python3.10/dist-packages (from apache-beam<3,>=2.47->apache-beam[gcp]<3,>=2.47; python_version < \"3.11\"->tensorflow_transform) (1.24.0)\n",
            "Requirement already satisfied: python-dateutil<3,>=2.8.0 in /usr/local/lib/python3.10/dist-packages (from apache-beam<3,>=2.47->apache-beam[gcp]<3,>=2.47; python_version < \"3.11\"->tensorflow_transform) (2.8.2)\n",
            "Requirement already satisfied: pytz>=2018.3 in /usr/local/lib/python3.10/dist-packages (from apache-beam<3,>=2.47->apache-beam[gcp]<3,>=2.47; python_version < \"3.11\"->tensorflow_transform) (2024.1)\n",
            "Requirement already satisfied: redis<6,>=5.0.0 in /usr/local/lib/python3.10/dist-packages (from apache-beam<3,>=2.47->apache-beam[gcp]<3,>=2.47; python_version < \"3.11\"->tensorflow_transform) (5.0.8)\n",
            "Requirement already satisfied: regex>=2020.6.8 in /usr/local/lib/python3.10/dist-packages (from apache-beam<3,>=2.47->apache-beam[gcp]<3,>=2.47; python_version < \"3.11\"->tensorflow_transform) (2024.5.15)\n",
            "Requirement already satisfied: requests!=2.32.*,<3.0.0,>=2.24.0 in /usr/local/lib/python3.10/dist-packages (from apache-beam<3,>=2.47->apache-beam[gcp]<3,>=2.47; python_version < \"3.11\"->tensorflow_transform) (2.31.0)\n",
            "Requirement already satisfied: typing-extensions>=3.7.0 in /usr/local/lib/python3.10/dist-packages (from apache-beam<3,>=2.47->apache-beam[gcp]<3,>=2.47; python_version < \"3.11\"->tensorflow_transform) (4.12.2)\n",
            "Requirement already satisfied: zstandard<1,>=0.18.0 in /usr/local/lib/python3.10/dist-packages (from apache-beam<3,>=2.47->apache-beam[gcp]<3,>=2.47; python_version < \"3.11\"->tensorflow_transform) (0.23.0)\n",
            "Requirement already satisfied: pyarrow-hotfix<1 in /usr/local/lib/python3.10/dist-packages (from apache-beam<3,>=2.47->apache-beam[gcp]<3,>=2.47; python_version < \"3.11\"->tensorflow_transform) (0.6)\n",
            "Requirement already satisfied: js2py<1,>=0.74 in /usr/local/lib/python3.10/dist-packages (from apache-beam<3,>=2.47->apache-beam[gcp]<3,>=2.47; python_version < \"3.11\"->tensorflow_transform) (0.74)\n",
            "Requirement already satisfied: cachetools<6,>=3.1.0 in /usr/local/lib/python3.10/dist-packages (from apache-beam[gcp]<3,>=2.47; python_version < \"3.11\"->tensorflow_transform) (5.4.0)\n",
            "Requirement already satisfied: google-api-core<3,>=2.0.0 in /usr/local/lib/python3.10/dist-packages (from apache-beam[gcp]<3,>=2.47; python_version < \"3.11\"->tensorflow_transform) (2.19.1)\n",
            "Requirement already satisfied: google-apitools<0.5.32,>=0.5.31 in /usr/local/lib/python3.10/dist-packages (from apache-beam[gcp]<3,>=2.47; python_version < \"3.11\"->tensorflow_transform) (0.5.31)\n",
            "Requirement already satisfied: google-auth<3,>=1.18.0 in /usr/local/lib/python3.10/dist-packages (from apache-beam[gcp]<3,>=2.47; python_version < \"3.11\"->tensorflow_transform) (2.27.0)\n",
            "Requirement already satisfied: google-auth-httplib2<0.3.0,>=0.1.0 in /usr/local/lib/python3.10/dist-packages (from apache-beam[gcp]<3,>=2.47; python_version < \"3.11\"->tensorflow_transform) (0.2.0)\n",
            "Requirement already satisfied: google-cloud-datastore<3,>=2.0.0 in /usr/local/lib/python3.10/dist-packages (from apache-beam[gcp]<3,>=2.47; python_version < \"3.11\"->tensorflow_transform) (2.19.0)\n",
            "Requirement already satisfied: google-cloud-pubsub<3,>=2.1.0 in /usr/local/lib/python3.10/dist-packages (from apache-beam[gcp]<3,>=2.47; python_version < \"3.11\"->tensorflow_transform) (2.22.0)\n",
            "Requirement already satisfied: google-cloud-pubsublite<2,>=1.2.0 in /usr/local/lib/python3.10/dist-packages (from apache-beam[gcp]<3,>=2.47; python_version < \"3.11\"->tensorflow_transform) (1.11.0)\n",
            "Requirement already satisfied: google-cloud-storage<3,>=2.16.0 in /usr/local/lib/python3.10/dist-packages (from apache-beam[gcp]<3,>=2.47; python_version < \"3.11\"->tensorflow_transform) (2.18.0)\n",
            "Requirement already satisfied: google-cloud-bigquery<4,>=2.0.0 in /usr/local/lib/python3.10/dist-packages (from apache-beam[gcp]<3,>=2.47; python_version < \"3.11\"->tensorflow_transform) (3.25.0)\n",
            "Requirement already satisfied: google-cloud-bigquery-storage<3,>=2.6.3 in /usr/local/lib/python3.10/dist-packages (from apache-beam[gcp]<3,>=2.47; python_version < \"3.11\"->tensorflow_transform) (2.25.0)\n",
            "Requirement already satisfied: google-cloud-core<3,>=2.0.0 in /usr/local/lib/python3.10/dist-packages (from apache-beam[gcp]<3,>=2.47; python_version < \"3.11\"->tensorflow_transform) (2.4.1)\n",
            "Requirement already satisfied: google-cloud-bigtable<3,>=2.19.0 in /usr/local/lib/python3.10/dist-packages (from apache-beam[gcp]<3,>=2.47; python_version < \"3.11\"->tensorflow_transform) (2.25.0)\n",
            "Requirement already satisfied: google-cloud-spanner<4,>=3.0.0 in /usr/local/lib/python3.10/dist-packages (from apache-beam[gcp]<3,>=2.47; python_version < \"3.11\"->tensorflow_transform) (3.47.0)\n",
            "Requirement already satisfied: google-cloud-dlp<4,>=3.0.0 in /usr/local/lib/python3.10/dist-packages (from apache-beam[gcp]<3,>=2.47; python_version < \"3.11\"->tensorflow_transform) (3.18.1)\n",
            "Requirement already satisfied: google-cloud-language<3,>=2.0 in /usr/local/lib/python3.10/dist-packages (from apache-beam[gcp]<3,>=2.47; python_version < \"3.11\"->tensorflow_transform) (2.13.4)\n",
            "Requirement already satisfied: google-cloud-videointelligence<3,>=2.0 in /usr/local/lib/python3.10/dist-packages (from apache-beam[gcp]<3,>=2.47; python_version < \"3.11\"->tensorflow_transform) (2.13.4)\n",
            "Requirement already satisfied: google-cloud-vision<4,>=2 in /usr/local/lib/python3.10/dist-packages (from apache-beam[gcp]<3,>=2.47; python_version < \"3.11\"->tensorflow_transform) (3.7.3)\n",
            "Requirement already satisfied: google-cloud-recommendations-ai<0.11.0,>=0.1.0 in /usr/local/lib/python3.10/dist-packages (from apache-beam[gcp]<3,>=2.47; python_version < \"3.11\"->tensorflow_transform) (0.10.11)\n",
            "Requirement already satisfied: google-cloud-aiplatform<2.0,>=1.26.0 in /usr/local/lib/python3.10/dist-packages (from apache-beam[gcp]<3,>=2.47; python_version < \"3.11\"->tensorflow_transform) (1.59.0)\n",
            "Requirement already satisfied: pyparsing>=2.1.4 in /usr/local/lib/python3.10/dist-packages (from pydot<2,>=1.2->tensorflow_transform) (3.1.2)\n",
            "Requirement already satisfied: astunparse>=1.6.0 in /usr/local/lib/python3.10/dist-packages (from tensorflow<2.16,>=2.15->tensorflow_transform) (1.6.3)\n",
            "Requirement already satisfied: flatbuffers>=23.5.26 in /usr/local/lib/python3.10/dist-packages (from tensorflow<2.16,>=2.15->tensorflow_transform) (24.3.25)\n",
            "Requirement already satisfied: gast!=0.5.0,!=0.5.1,!=0.5.2,>=0.2.1 in /usr/local/lib/python3.10/dist-packages (from tensorflow<2.16,>=2.15->tensorflow_transform) (0.6.0)\n",
            "Requirement already satisfied: google-pasta>=0.1.1 in /usr/local/lib/python3.10/dist-packages (from tensorflow<2.16,>=2.15->tensorflow_transform) (0.2.0)\n",
            "Requirement already satisfied: h5py>=2.9.0 in /usr/local/lib/python3.10/dist-packages (from tensorflow<2.16,>=2.15->tensorflow_transform) (3.11.0)\n",
            "Requirement already satisfied: libclang>=13.0.0 in /usr/local/lib/python3.10/dist-packages (from tensorflow<2.16,>=2.15->tensorflow_transform) (18.1.1)\n",
            "Requirement already satisfied: ml-dtypes~=0.3.1 in /usr/local/lib/python3.10/dist-packages (from tensorflow<2.16,>=2.15->tensorflow_transform) (0.3.2)\n",
            "Requirement already satisfied: opt-einsum>=2.3.2 in /usr/local/lib/python3.10/dist-packages (from tensorflow<2.16,>=2.15->tensorflow_transform) (3.3.0)\n",
            "Requirement already satisfied: setuptools in /usr/local/lib/python3.10/dist-packages (from tensorflow<2.16,>=2.15->tensorflow_transform) (71.0.4)\n",
            "Requirement already satisfied: six>=1.12.0 in /usr/local/lib/python3.10/dist-packages (from tensorflow<2.16,>=2.15->tensorflow_transform) (1.16.0)\n",
            "Requirement already satisfied: termcolor>=1.1.0 in /usr/local/lib/python3.10/dist-packages (from tensorflow<2.16,>=2.15->tensorflow_transform) (2.4.0)\n",
            "Requirement already satisfied: wrapt<1.15,>=1.11.0 in /usr/local/lib/python3.10/dist-packages (from tensorflow<2.16,>=2.15->tensorflow_transform) (1.14.1)\n",
            "Requirement already satisfied: tensorflow-io-gcs-filesystem>=0.23.1 in /usr/local/lib/python3.10/dist-packages (from tensorflow<2.16,>=2.15->tensorflow_transform) (0.37.1)\n",
            "Requirement already satisfied: tensorboard<2.16,>=2.15 in /usr/local/lib/python3.10/dist-packages (from tensorflow<2.16,>=2.15->tensorflow_transform) (2.15.2)\n",
            "Requirement already satisfied: tensorflow-estimator<2.16,>=2.15.0 in /usr/local/lib/python3.10/dist-packages (from tensorflow<2.16,>=2.15->tensorflow_transform) (2.15.0)\n",
            "Requirement already satisfied: keras<2.16,>=2.15.0 in /usr/local/lib/python3.10/dist-packages (from tensorflow<2.16,>=2.15->tensorflow_transform) (2.15.0)\n",
            "Requirement already satisfied: google-api-python-client<2,>=1.7.11 in /usr/local/lib/python3.10/dist-packages (from tfx-bsl<1.16.0,>=1.15.1->tensorflow_transform) (1.12.11)\n",
            "Requirement already satisfied: pandas<2,>=1.0 in /usr/local/lib/python3.10/dist-packages (from tfx-bsl<1.16.0,>=1.15.1->tensorflow_transform) (1.5.3)\n",
            "Requirement already satisfied: tensorflow-serving-api<3,>=2.13.0 in /usr/local/lib/python3.10/dist-packages (from tfx-bsl<1.16.0,>=1.15.1->tensorflow_transform) (2.15.1)\n",
            "Requirement already satisfied: wheel<1.0,>=0.23.0 in /usr/local/lib/python3.10/dist-packages (from astunparse>=1.6.0->tensorflow<2.16,>=2.15->tensorflow_transform) (0.43.0)\n",
            "Requirement already satisfied: googleapis-common-protos<2.0.dev0,>=1.56.2 in /usr/local/lib/python3.10/dist-packages (from google-api-core<3,>=2.0.0->apache-beam[gcp]<3,>=2.47; python_version < \"3.11\"->tensorflow_transform) (1.63.2)\n",
            "Requirement already satisfied: uritemplate<4dev,>=3.0.0 in /usr/local/lib/python3.10/dist-packages (from google-api-python-client<2,>=1.7.11->tfx-bsl<1.16.0,>=1.15.1->tensorflow_transform) (3.0.1)\n",
            "Requirement already satisfied: oauth2client>=1.4.12 in /usr/local/lib/python3.10/dist-packages (from google-apitools<0.5.32,>=0.5.31->apache-beam[gcp]<3,>=2.47; python_version < \"3.11\"->tensorflow_transform) (4.1.3)\n",
            "Requirement already satisfied: pyasn1-modules>=0.2.1 in /usr/local/lib/python3.10/dist-packages (from google-auth<3,>=1.18.0->apache-beam[gcp]<3,>=2.47; python_version < \"3.11\"->tensorflow_transform) (0.4.0)\n",
            "Requirement already satisfied: rsa<5,>=3.1.4 in /usr/local/lib/python3.10/dist-packages (from google-auth<3,>=1.18.0->apache-beam[gcp]<3,>=2.47; python_version < \"3.11\"->tensorflow_transform) (4.9)\n",
            "Requirement already satisfied: google-cloud-resource-manager<3.0.0dev,>=1.3.3 in /usr/local/lib/python3.10/dist-packages (from google-cloud-aiplatform<2.0,>=1.26.0->apache-beam[gcp]<3,>=2.47; python_version < \"3.11\"->tensorflow_transform) (1.12.4)\n",
            "Requirement already satisfied: shapely<3.0.0dev in /usr/local/lib/python3.10/dist-packages (from google-cloud-aiplatform<2.0,>=1.26.0->apache-beam[gcp]<3,>=2.47; python_version < \"3.11\"->tensorflow_transform) (2.0.5)\n",
            "Requirement already satisfied: pydantic<3 in /usr/local/lib/python3.10/dist-packages (from google-cloud-aiplatform<2.0,>=1.26.0->apache-beam[gcp]<3,>=2.47; python_version < \"3.11\"->tensorflow_transform) (2.8.2)\n",
            "Requirement already satisfied: docstring-parser<1 in /usr/local/lib/python3.10/dist-packages (from google-cloud-aiplatform<2.0,>=1.26.0->apache-beam[gcp]<3,>=2.47; python_version < \"3.11\"->tensorflow_transform) (0.16)\n",
            "Requirement already satisfied: google-resumable-media<3.0dev,>=0.6.0 in /usr/local/lib/python3.10/dist-packages (from google-cloud-bigquery<4,>=2.0.0->apache-beam[gcp]<3,>=2.47; python_version < \"3.11\"->tensorflow_transform) (2.7.1)\n",
            "Requirement already satisfied: grpc-google-iam-v1<1.0.0dev,>=0.12.4 in /usr/local/lib/python3.10/dist-packages (from google-cloud-bigtable<3,>=2.19.0->apache-beam[gcp]<3,>=2.47; python_version < \"3.11\"->tensorflow_transform) (0.13.1)\n",
            "Requirement already satisfied: grpcio-status>=1.33.2 in /usr/local/lib/python3.10/dist-packages (from google-cloud-pubsub<3,>=2.1.0->apache-beam[gcp]<3,>=2.47; python_version < \"3.11\"->tensorflow_transform) (1.48.2)\n",
            "Requirement already satisfied: overrides<8.0.0,>=6.0.1 in /usr/local/lib/python3.10/dist-packages (from google-cloud-pubsublite<2,>=1.2.0->apache-beam[gcp]<3,>=2.47; python_version < \"3.11\"->tensorflow_transform) (7.7.0)\n",
            "Requirement already satisfied: sqlparse>=0.4.4 in /usr/local/lib/python3.10/dist-packages (from google-cloud-spanner<4,>=3.0.0->apache-beam[gcp]<3,>=2.47; python_version < \"3.11\"->tensorflow_transform) (0.5.1)\n",
            "Requirement already satisfied: grpc-interceptor>=0.15.4 in /usr/local/lib/python3.10/dist-packages (from google-cloud-spanner<4,>=3.0.0->apache-beam[gcp]<3,>=2.47; python_version < \"3.11\"->tensorflow_transform) (0.15.4)\n",
            "Requirement already satisfied: google-crc32c<2.0dev,>=1.0 in /usr/local/lib/python3.10/dist-packages (from google-cloud-storage<3,>=2.16.0->apache-beam[gcp]<3,>=2.47; python_version < \"3.11\"->tensorflow_transform) (1.5.0)\n",
            "Requirement already satisfied: docopt in /usr/local/lib/python3.10/dist-packages (from hdfs<3.0.0,>=2.1.0->apache-beam<3,>=2.47->apache-beam[gcp]<3,>=2.47; python_version < \"3.11\"->tensorflow_transform) (0.6.2)\n",
            "Requirement already satisfied: tzlocal>=1.2 in /usr/local/lib/python3.10/dist-packages (from js2py<1,>=0.74->apache-beam<3,>=2.47->apache-beam[gcp]<3,>=2.47; python_version < \"3.11\"->tensorflow_transform) (5.2)\n",
            "Requirement already satisfied: pyjsparser>=2.5.1 in /usr/local/lib/python3.10/dist-packages (from js2py<1,>=0.74->apache-beam<3,>=2.47->apache-beam[gcp]<3,>=2.47; python_version < \"3.11\"->tensorflow_transform) (2.7.1)\n",
            "Requirement already satisfied: attrs>=22.2.0 in /usr/local/lib/python3.10/dist-packages (from jsonschema<5.0.0,>=4.0.0->apache-beam<3,>=2.47->apache-beam[gcp]<3,>=2.47; python_version < \"3.11\"->tensorflow_transform) (23.2.0)\n",
            "Requirement already satisfied: jsonschema-specifications>=2023.03.6 in /usr/local/lib/python3.10/dist-packages (from jsonschema<5.0.0,>=4.0.0->apache-beam<3,>=2.47->apache-beam[gcp]<3,>=2.47; python_version < \"3.11\"->tensorflow_transform) (2023.12.1)\n",
            "Requirement already satisfied: referencing>=0.28.4 in /usr/local/lib/python3.10/dist-packages (from jsonschema<5.0.0,>=4.0.0->apache-beam<3,>=2.47->apache-beam[gcp]<3,>=2.47; python_version < \"3.11\"->tensorflow_transform) (0.35.1)\n",
            "Requirement already satisfied: rpds-py>=0.7.1 in /usr/local/lib/python3.10/dist-packages (from jsonschema<5.0.0,>=4.0.0->apache-beam<3,>=2.47->apache-beam[gcp]<3,>=2.47; python_version < \"3.11\"->tensorflow_transform) (0.19.1)\n",
            "Requirement already satisfied: dnspython<3.0.0,>=1.16.0 in /usr/local/lib/python3.10/dist-packages (from pymongo<5.0.0,>=3.8.0->apache-beam<3,>=2.47->apache-beam[gcp]<3,>=2.47; python_version < \"3.11\"->tensorflow_transform) (2.6.1)\n",
            "Requirement already satisfied: async-timeout>=4.0.3 in /usr/local/lib/python3.10/dist-packages (from redis<6,>=5.0.0->apache-beam<3,>=2.47->apache-beam[gcp]<3,>=2.47; python_version < \"3.11\"->tensorflow_transform) (4.0.3)\n",
            "Requirement already satisfied: charset-normalizer<4,>=2 in /usr/local/lib/python3.10/dist-packages (from requests!=2.32.*,<3.0.0,>=2.24.0->apache-beam<3,>=2.47->apache-beam[gcp]<3,>=2.47; python_version < \"3.11\"->tensorflow_transform) (3.3.2)\n",
            "Requirement already satisfied: idna<4,>=2.5 in /usr/local/lib/python3.10/dist-packages (from requests!=2.32.*,<3.0.0,>=2.24.0->apache-beam<3,>=2.47->apache-beam[gcp]<3,>=2.47; python_version < \"3.11\"->tensorflow_transform) (3.7)\n",
            "Requirement already satisfied: urllib3<3,>=1.21.1 in /usr/local/lib/python3.10/dist-packages (from requests!=2.32.*,<3.0.0,>=2.24.0->apache-beam<3,>=2.47->apache-beam[gcp]<3,>=2.47; python_version < \"3.11\"->tensorflow_transform) (2.0.7)\n",
            "Requirement already satisfied: certifi>=2017.4.17 in /usr/local/lib/python3.10/dist-packages (from requests!=2.32.*,<3.0.0,>=2.24.0->apache-beam<3,>=2.47->apache-beam[gcp]<3,>=2.47; python_version < \"3.11\"->tensorflow_transform) (2024.7.4)\n",
            "Requirement already satisfied: google-auth-oauthlib<2,>=0.5 in /usr/local/lib/python3.10/dist-packages (from tensorboard<2.16,>=2.15->tensorflow<2.16,>=2.15->tensorflow_transform) (1.2.1)\n",
            "Requirement already satisfied: markdown>=2.6.8 in /usr/local/lib/python3.10/dist-packages (from tensorboard<2.16,>=2.15->tensorflow<2.16,>=2.15->tensorflow_transform) (3.6)\n",
            "Requirement already satisfied: tensorboard-data-server<0.8.0,>=0.7.0 in /usr/local/lib/python3.10/dist-packages (from tensorboard<2.16,>=2.15->tensorflow<2.16,>=2.15->tensorflow_transform) (0.7.2)\n",
            "Requirement already satisfied: werkzeug>=1.0.1 in /usr/local/lib/python3.10/dist-packages (from tensorboard<2.16,>=2.15->tensorflow<2.16,>=2.15->tensorflow_transform) (3.0.3)\n",
            "Requirement already satisfied: requests-oauthlib>=0.7.0 in /usr/local/lib/python3.10/dist-packages (from google-auth-oauthlib<2,>=0.5->tensorboard<2.16,>=2.15->tensorflow<2.16,>=2.15->tensorflow_transform) (1.3.1)\n",
            "Requirement already satisfied: pyasn1>=0.1.7 in /usr/local/lib/python3.10/dist-packages (from oauth2client>=1.4.12->google-apitools<0.5.32,>=0.5.31->apache-beam[gcp]<3,>=2.47; python_version < \"3.11\"->tensorflow_transform) (0.6.0)\n",
            "Requirement already satisfied: annotated-types>=0.4.0 in /usr/local/lib/python3.10/dist-packages (from pydantic<3->google-cloud-aiplatform<2.0,>=1.26.0->apache-beam[gcp]<3,>=2.47; python_version < \"3.11\"->tensorflow_transform) (0.7.0)\n",
            "Requirement already satisfied: pydantic-core==2.20.1 in /usr/local/lib/python3.10/dist-packages (from pydantic<3->google-cloud-aiplatform<2.0,>=1.26.0->apache-beam[gcp]<3,>=2.47; python_version < \"3.11\"->tensorflow_transform) (2.20.1)\n",
            "Requirement already satisfied: MarkupSafe>=2.1.1 in /usr/local/lib/python3.10/dist-packages (from werkzeug>=1.0.1->tensorboard<2.16,>=2.15->tensorflow<2.16,>=2.15->tensorflow_transform) (2.1.5)\n",
            "Requirement already satisfied: oauthlib>=3.0.0 in /usr/local/lib/python3.10/dist-packages (from requests-oauthlib>=0.7.0->google-auth-oauthlib<2,>=0.5->tensorboard<2.16,>=2.15->tensorflow<2.16,>=2.15->tensorflow_transform) (3.2.2)\n"
          ]
        }
      ]
    },
    {
      "cell_type": "code",
      "execution_count": 2,
      "metadata": {
        "id": "Fejk4xer6LFh"
      },
      "outputs": [],
      "source": [
        "import numpy as np\n",
        "import pandas as pd\n",
        "import matplotlib.pyplot as plt\n",
        "import seaborn as sns\n",
        "import tensorflow as tf\n",
        "import tensorflow_transform as tft\n",
        "from tensorflow import keras\n",
        "\n",
        "from sklearn.svm import SVC\n",
        "from sklearn.preprocessing import StandardScaler\n",
        "from imblearn.under_sampling import RandomUnderSampler\n",
        "from sklearn.preprocessing import OneHotEncoder, MultiLabelBinarizer\n",
        "from sklearn.model_selection import train_test_split\n",
        "from sklearn.metrics import accuracy_score, confusion_matrix, precision_score, recall_score, ConfusionMatrixDisplay, make_scorer\n",
        "\n",
        "from random import sample\n",
        "import os\n",
        "import gc\n",
        "import shutil\n",
        "import pretty_midi"
      ]
    },
    {
      "cell_type": "markdown",
      "source": [
        "## Data Organization and Exploratory Analysis\n",
        "\n",
        "1.  Extract music files for only the composers of interest - remove all others\n",
        "2.  Conduct EDA on the target data:\n",
        "  - Undersand the nature of the files and formats\n",
        "  - Evaluate the distribution of samples by composer/class\n",
        "  - Evaluate the length of the music tracks (in time)\n",
        "  - Identify any preparation or augmentation tasks that may be necessary"
      ],
      "metadata": {
        "id": "-Y09okub8tc3"
      }
    },
    {
      "cell_type": "code",
      "source": [
        "# mount google drive\n",
        "from google.colab import drive\n",
        "drive.mount('/content/drive')"
      ],
      "metadata": {
        "id": "0IrWse0G8m22",
        "outputId": "f38095d0-f53b-4702-de57-2d8c11bbaa34",
        "colab": {
          "base_uri": "https://localhost:8080/"
        }
      },
      "execution_count": 3,
      "outputs": [
        {
          "output_type": "stream",
          "name": "stdout",
          "text": [
            "Drive already mounted at /content/drive; to attempt to forcibly remount, call drive.mount(\"/content/drive\", force_remount=True).\n"
          ]
        }
      ]
    },
    {
      "cell_type": "code",
      "source": [
        "# setup target data locations\n",
        "root_data_path = '/content/drive/MyDrive/USD/datasets/composers_music'\n",
        "target_data_path = '/content/drive/MyDrive/USD/datasets/composers_music/target'"
      ],
      "metadata": {
        "id": "bsL7aQ8i9USK"
      },
      "execution_count": 4,
      "outputs": []
    },
    {
      "cell_type": "code",
      "source": [
        "# setup data prep parameters\n",
        "SETUP_MODE = False\n",
        "SAMPLE_FREQUENCY = 20\n",
        "NUM_PIANO_KEYS = 128\n",
        "\n",
        "# helper function for moving and flattening directories by composer\n",
        "def move_and_flatten(composer_name):\n",
        "  # setup destination\n",
        "  target_path = target_data_path + '/' + composer_name\n",
        "  os.makedirs(target_path, exist_ok=True)\n",
        "\n",
        "  # get source dir and subdirs\n",
        "  composer_path = root_data_path + '/midiclassics/' + composer_name\n",
        "  composer_dirs = [x[0] for x in os.walk(composer_path)]\n",
        "\n",
        "  # traverse directories\n",
        "  num_files = 0\n",
        "  for dir in composer_dirs:\n",
        "    for filename in os.listdir(dir):\n",
        "      if os.path.isfile(os.path.join(dir, filename)):\n",
        "        shutil.copyfile(dir + '/' + filename, target_path + '/' + filename)\n",
        "        num_files += 1\n",
        "  print(f'Moved {num_files} files for {composer_name}')\n",
        "\n",
        "# helper function for loading piano rolls for a composer\n",
        "def load_piano_rolls(composer_name, frequency):\n",
        "  piano_rolls = []\n",
        "  target_path = target_data_path + '/' + composer_name\n",
        "  for filename in os.listdir(target_path):\n",
        "    if filename.lower().endswith('.mid'):\n",
        "      try:\n",
        "        midi = pretty_midi.PrettyMIDI(target_path + '/' + filename)\n",
        "        midi.remove_invalid_notes()\n",
        "        piano_rolls.append(midi.get_piano_roll(fs=frequency))\n",
        "      except Exception as e:\n",
        "        print(f'Error reading {filename}: {e}')\n",
        "  return piano_rolls"
      ],
      "metadata": {
        "id": "o75LriLa_q-1"
      },
      "execution_count": 5,
      "outputs": []
    },
    {
      "cell_type": "code",
      "source": [
        "if SETUP_MODE==True:\n",
        "  # extract only the files from our taget 4 composers: Bach, Beethoven, Mozart, Chopin\n",
        "  os.makedirs(target_data_path, exist_ok=True)\n",
        "\n",
        "  move_and_flatten('Bach')\n",
        "  move_and_flatten('Beethoven')\n",
        "  move_and_flatten('Mozart')\n",
        "  move_and_flatten('Chopin')"
      ],
      "metadata": {
        "id": "_SMhPNBa93yF"
      },
      "execution_count": 6,
      "outputs": []
    },
    {
      "cell_type": "code",
      "source": [
        "# visualize class balances\n",
        "class_samples = {\"Bach\": 1025, \"Beethoven\": 219, \"Mozart\": 257, \"Chopin\": 136}\n",
        "plt.bar(class_samples.keys(), class_samples.values())\n",
        "plt.xlabel('Composer')\n",
        "plt.ylabel('Number of Samples')\n",
        "plt.title('Class Distribution')\n",
        "plt.show()"
      ],
      "metadata": {
        "id": "Lui6WXpHB0JS",
        "outputId": "04a07607-9ede-4d5a-9b3f-e6c2e286c87e",
        "colab": {
          "base_uri": "https://localhost:8080/",
          "height": 472
        }
      },
      "execution_count": 7,
      "outputs": [
        {
          "output_type": "display_data",
          "data": {
            "text/plain": [
              "<Figure size 640x480 with 1 Axes>"
            ],
            "image/png": "[encoded data removed]"
          },
          "metadata": {}
        }
      ]
    },
    {
      "cell_type": "code",
      "source": [
        "# get the distribution of sequence lengths of the pieces (in time)\n",
        "bach_data = load_piano_rolls('Bach', SAMPLE_FREQUENCY)\n",
        "beethoven_data = load_piano_rolls('Beethoven', SAMPLE_FREQUENCY)\n",
        "mozart_data = load_piano_rolls('Mozart', SAMPLE_FREQUENCY)\n",
        "chopin_data = load_piano_rolls('Chopin', SAMPLE_FREQUENCY)"
      ],
      "metadata": {
        "id": "jiGHqXaRiL2p",
        "outputId": "67b2de07-ad14-475f-9549-7854a49c002b",
        "colab": {
          "base_uri": "https://localhost:8080/"
        }
      },
      "execution_count": 8,
      "outputs": [
        {
          "output_type": "stream",
          "name": "stderr",
          "text": [
            "/usr/local/lib/python3.10/dist-packages/pretty_midi/pretty_midi.py:100: RuntimeWarning: Tempo, Key or Time signature change events found on non-zero tracks.  This is not a valid type 0 or type 1 MIDI file.  Tempo, Key or Time Signature may be wrong.\n",
            "  warnings.warn(\n"
          ]
        },
        {
          "output_type": "stream",
          "name": "stdout",
          "text": [
            "Error reading Anhang 14-3.mid: Could not decode key with 3 flats and mode 255\n",
            "Error reading K281 Piano Sonata n03 3mov.mid: Could not decode key with 2 flats and mode 2\n"
          ]
        }
      ]
    },
    {
      "cell_type": "code",
      "source": [
        "# build length distribution\n",
        "length_distributions = []\n",
        "def append_lengths(data):\n",
        "  for i in range(len(data)):\n",
        "    length_distributions.append(data[i].shape[1])"
      ],
      "metadata": {
        "id": "wH3XKSIo_KY8"
      },
      "execution_count": 9,
      "outputs": []
    },
    {
      "cell_type": "code",
      "source": [
        "# concatenate all classes\n",
        "append_lengths(bach_data)\n",
        "append_lengths(beethoven_data)\n",
        "append_lengths(mozart_data)\n",
        "append_lengths(chopin_data)"
      ],
      "metadata": {
        "id": "X867QebDGtp3"
      },
      "execution_count": 10,
      "outputs": []
    },
    {
      "cell_type": "code",
      "source": [
        "# plot the distribution\n",
        "sns.histplot(length_distributions)\n",
        "plt.xlabel('Sequence Length')\n",
        "plt.ylabel('Frequency')\n",
        "plt.title('Distribution of Sequence Lengths')\n",
        "plt.show()"
      ],
      "metadata": {
        "id": "9328x-AG_iix",
        "outputId": "36645f64-643f-40ae-d872-b930cb411655",
        "colab": {
          "base_uri": "https://localhost:8080/",
          "height": 472
        }
      },
      "execution_count": null,
      "outputs": [
        {
          "output_type": "display_data",
          "data": {
            "text/plain": [
              "<Figure size 640x480 with 1 Axes>"
            ],
            "image/png": "[encoded data removed]"
          },
          "metadata": {}
        }
      ]
    },
    {
      "cell_type": "code",
      "source": [
        "# get descriptive statistics for sequence lengths\n",
        "stats_df = pd.DataFrame(length_distributions)\n",
        "stats_df.describe()"
      ],
      "metadata": {
        "id": "mAq8jSaj8DZc",
        "outputId": "f64480bf-e959-496e-995f-875712bb8d82",
        "colab": {
          "base_uri": "https://localhost:8080/",
          "height": 300
        }
      },
      "execution_count": null,
      "outputs": [
        {
          "output_type": "execute_result",
          "data": {
            "text/plain": [
              "                   0\n",
              "count    1628.000000\n",
              "mean     4838.340909\n",
              "std      5900.262705\n",
              "min       350.000000\n",
              "25%      1019.750000\n",
              "50%      2647.000000\n",
              "75%      6518.250000\n",
              "max    103362.000000"
            ],
            "text/html": [
              "\n",
              "  <div id=\"df-6c9392c4-77c7-4237-a5ce-05c30647c69a\" class=\"colab-df-container\">\n",
              "    <div>\n",
              "<style scoped>\n",
              "    .dataframe tbody tr th:only-of-type {\n",
              "        vertical-align: middle;\n",
              "    }\n",
              "\n",
              "    .dataframe tbody tr th {\n",
              "        vertical-align: top;\n",
              "    }\n",
              "\n",
              "    .dataframe thead th {\n",
              "        text-align: right;\n",
              "    }\n",
              "</style>\n",
              "<table border=\"1\" class=\"dataframe\">\n",
              "  <thead>\n",
              "    <tr style=\"text-align: right;\">\n",
              "      <th></th>\n",
              "      <th>0</th>\n",
              "    </tr>\n",
              "  </thead>\n",
              "  <tbody>\n",
              "    <tr>\n",
              "      <th>count</th>\n",
              "      <td>1628.000000</td>\n",
              "    </tr>\n",
              "    <tr>\n",
              "      <th>mean</th>\n",
              "      <td>4838.340909</td>\n",
              "    </tr>\n",
              "    <tr>\n",
              "      <th>std</th>\n",
              "      <td>5900.262705</td>\n",
              "    </tr>\n",
              "    <tr>\n",
              "      <th>min</th>\n",
              "      <td>350.000000</td>\n",
              "    </tr>\n",
              "    <tr>\n",
              "      <th>25%</th>\n",
              "      <td>1019.750000</td>\n",
              "    </tr>\n",
              "    <tr>\n",
              "      <th>50%</th>\n",
              "      <td>2647.000000</td>\n",
              "    </tr>\n",
              "    <tr>\n",
              "      <th>75%</th>\n",
              "      <td>6518.250000</td>\n",
              "    </tr>\n",
              "    <tr>\n",
              "      <th>max</th>\n",
              "      <td>103362.000000</td>\n",
              "    </tr>\n",
              "  </tbody>\n",
              "</table>\n",
              "</div>\n",
              "    <div class=\"colab-df-buttons\">\n",
              "\n",
              "  <div class=\"colab-df-container\">\n",
              "    <button class=\"colab-df-convert\" onclick=\"convertToInteractive('df-6c9392c4-77c7-4237-a5ce-05c30647c69a')\"\n",
              "            title=\"Convert this dataframe to an interactive table.\"\n",
              "            style=\"display:none;\">\n",
              "\n",
              "  <svg xmlns=\"http://www.w3.org/2000/svg\" height=\"24px\" viewBox=\"0 -960 960 960\">\n",
              "    <path d=\"M120-120v-720h720v720H120Zm60-500h600v-160H180v160Zm220 220h160v-160H400v160Zm0 220h160v-160H400v160ZM180-400h160v-160H180v160Zm440 0h160v-160H620v160ZM180-180h160v-160H180v160Zm440 0h160v-160H620v160Z\"/>\n",
              "  </svg>\n",
              "    </button>\n",
              "\n",
              "  <style>\n",
              "    .colab-df-container {\n",
              "      display:flex;\n",
              "      gap: 12px;\n",
              "    }\n",
              "\n",
              "    .colab-df-convert {\n",
              "      background-color: #E8F0FE;\n",
              "      border: none;\n",
              "      border-radius: 50%;\n",
              "      cursor: pointer;\n",
              "      display: none;\n",
              "      fill: #1967D2;\n",
              "      height: 32px;\n",
              "      padding: 0 0 0 0;\n",
              "      width: 32px;\n",
              "    }\n",
              "\n",
              "    .colab-df-convert:hover {\n",
              "      background-color: #E2EBFA;\n",
              "      box-shadow: 0px 1px 2px rgba(60, 64, 67, 0.3), 0px 1px 3px 1px rgba(60, 64, 67, 0.15);\n",
              "      fill: #174EA6;\n",
              "    }\n",
              "\n",
              "    .colab-df-buttons div {\n",
              "      margin-bottom: 4px;\n",
              "    }\n",
              "\n",
              "    [theme=dark] .colab-df-convert {\n",
              "      background-color: #3B4455;\n",
              "      fill: #D2E3FC;\n",
              "    }\n",
              "\n",
              "    [theme=dark] .colab-df-convert:hover {\n",
              "      background-color: #434B5C;\n",
              "      box-shadow: 0px 1px 3px 1px rgba(0, 0, 0, 0.15);\n",
              "      filter: drop-shadow(0px 1px 2px rgba(0, 0, 0, 0.3));\n",
              "      fill: #FFFFFF;\n",
              "    }\n",
              "  </style>\n",
              "\n",
              "    <script>\n",
              "      const buttonEl =\n",
              "        document.querySelector('#df-6c9392c4-77c7-4237-a5ce-05c30647c69a button.colab-df-convert');\n",
              "      buttonEl.style.display =\n",
              "        google.colab.kernel.accessAllowed ? 'block' : 'none';\n",
              "\n",
              "      async function convertToInteractive(key) {\n",
              "        const element = document.querySelector('#df-6c9392c4-77c7-4237-a5ce-05c30647c69a');\n",
              "        const dataTable =\n",
              "          await google.colab.kernel.invokeFunction('convertToInteractive',\n",
              "                                                    [key], {});\n",
              "        if (!dataTable) return;\n",
              "\n",
              "        const docLinkHtml = 'Like what you see? Visit the ' +\n",
              "          '<a target=\"_blank\" href=https://colab.research.google.com/notebooks/data_table.ipynb>data table notebook</a>'\n",
              "          + ' to learn more about interactive tables.';\n",
              "        element.innerHTML = '';\n",
              "        dataTable['output_type'] = 'display_data';\n",
              "        await google.colab.output.renderOutput(dataTable, element);\n",
              "        const docLink = document.createElement('div');\n",
              "        docLink.innerHTML = docLinkHtml;\n",
              "        element.appendChild(docLink);\n",
              "      }\n",
              "    </script>\n",
              "  </div>\n",
              "\n",
              "\n",
              "<div id=\"df-69249008-98ef-4da4-8f98-264f1ac4bcf7\">\n",
              "  <button class=\"colab-df-quickchart\" onclick=\"quickchart('df-69249008-98ef-4da4-8f98-264f1ac4bcf7')\"\n",
              "            title=\"Suggest charts\"\n",
              "            style=\"display:none;\">\n",
              "\n",
              "<svg xmlns=\"http://www.w3.org/2000/svg\" height=\"24px\"viewBox=\"0 0 24 24\"\n",
              "     width=\"24px\">\n",
              "    <g>\n",
              "        <path d=\"M19 3H5c-1.1 0-2 .9-2 2v14c0 1.1.9 2 2 2h14c1.1 0 2-.9 2-2V5c0-1.1-.9-2-2-2zM9 17H7v-7h2v7zm4 0h-2V7h2v10zm4 0h-2v-4h2v4z\"/>\n",
              "    </g>\n",
              "</svg>\n",
              "  </button>\n",
              "\n",
              "<style>\n",
              "  .colab-df-quickchart {\n",
              "      --bg-color: #E8F0FE;\n",
              "      --fill-color: #1967D2;\n",
              "      --hover-bg-color: #E2EBFA;\n",
              "      --hover-fill-color: #174EA6;\n",
              "      --disabled-fill-color: #AAA;\n",
              "      --disabled-bg-color: #DDD;\n",
              "  }\n",
              "\n",
              "  [theme=dark] .colab-df-quickchart {\n",
              "      --bg-color: #3B4455;\n",
              "      --fill-color: #D2E3FC;\n",
              "      --hover-bg-color: #434B5C;\n",
              "      --hover-fill-color: #FFFFFF;\n",
              "      --disabled-bg-color: #3B4455;\n",
              "      --disabled-fill-color: #666;\n",
              "  }\n",
              "\n",
              "  .colab-df-quickchart {\n",
              "    background-color: var(--bg-color);\n",
              "    border: none;\n",
              "    border-radius: 50%;\n",
              "    cursor: pointer;\n",
              "    display: none;\n",
              "    fill: var(--fill-color);\n",
              "    height: 32px;\n",
              "    padding: 0;\n",
              "    width: 32px;\n",
              "  }\n",
              "\n",
              "  .colab-df-quickchart:hover {\n",
              "    background-color: var(--hover-bg-color);\n",
              "    box-shadow: 0 1px 2px rgba(60, 64, 67, 0.3), 0 1px 3px 1px rgba(60, 64, 67, 0.15);\n",
              "    fill: var(--button-hover-fill-color);\n",
              "  }\n",
              "\n",
              "  .colab-df-quickchart-complete:disabled,\n",
              "  .colab-df-quickchart-complete:disabled:hover {\n",
              "    background-color: var(--disabled-bg-color);\n",
              "    fill: var(--disabled-fill-color);\n",
              "    box-shadow: none;\n",
              "  }\n",
              "\n",
              "  .colab-df-spinner {\n",
              "    border: 2px solid var(--fill-color);\n",
              "    border-color: transparent;\n",
              "    border-bottom-color: var(--fill-color);\n",
              "    animation:\n",
              "      spin 1s steps(1) infinite;\n",
              "  }\n",
              "\n",
              "  @keyframes spin {\n",
              "    0% {\n",
              "      border-color: transparent;\n",
              "      border-bottom-color: var(--fill-color);\n",
              "      border-left-color: var(--fill-color);\n",
              "    }\n",
              "    20% {\n",
              "      border-color: transparent;\n",
              "      border-left-color: var(--fill-color);\n",
              "      border-top-color: var(--fill-color);\n",
              "    }\n",
              "    30% {\n",
              "      border-color: transparent;\n",
              "      border-left-color: var(--fill-color);\n",
              "      border-top-color: var(--fill-color);\n",
              "      border-right-color: var(--fill-color);\n",
              "    }\n",
              "    40% {\n",
              "      border-color: transparent;\n",
              "      border-right-color: var(--fill-color);\n",
              "      border-top-color: var(--fill-color);\n",
              "    }\n",
              "    60% {\n",
              "      border-color: transparent;\n",
              "      border-right-color: var(--fill-color);\n",
              "    }\n",
              "    80% {\n",
              "      border-color: transparent;\n",
              "      border-right-color: var(--fill-color);\n",
              "      border-bottom-color: var(--fill-color);\n",
              "    }\n",
              "    90% {\n",
              "      border-color: transparent;\n",
              "      border-bottom-color: var(--fill-color);\n",
              "    }\n",
              "  }\n",
              "</style>\n",
              "\n",
              "  <script>\n",
              "    async function quickchart(key) {\n",
              "      const quickchartButtonEl =\n",
              "        document.querySelector('#' + key + ' button');\n",
              "      quickchartButtonEl.disabled = true;  // To prevent multiple clicks.\n",
              "      quickchartButtonEl.classList.add('colab-df-spinner');\n",
              "      try {\n",
              "        const charts = await google.colab.kernel.invokeFunction(\n",
              "            'suggestCharts', [key], {});\n",
              "      } catch (error) {\n",
              "        console.error('Error during call to suggestCharts:', error);\n",
              "      }\n",
              "      quickchartButtonEl.classList.remove('colab-df-spinner');\n",
              "      quickchartButtonEl.classList.add('colab-df-quickchart-complete');\n",
              "    }\n",
              "    (() => {\n",
              "      let quickchartButtonEl =\n",
              "        document.querySelector('#df-69249008-98ef-4da4-8f98-264f1ac4bcf7 button');\n",
              "      quickchartButtonEl.style.display =\n",
              "        google.colab.kernel.accessAllowed ? 'block' : 'none';\n",
              "    })();\n",
              "  </script>\n",
              "</div>\n",
              "\n",
              "    </div>\n",
              "  </div>\n"
            ],
            "application/vnd.google.colaboratory.intrinsic+json": {
              "type": "dataframe",
              "summary": "{\n  \"name\": \"stats_df\",\n  \"rows\": 8,\n  \"fields\": [\n    {\n      \"column\": 0,\n      \"properties\": {\n        \"dtype\": \"number\",\n        \"std\": 35461.086223710685,\n        \"min\": 350.0,\n        \"max\": 103362.0,\n        \"num_unique_values\": 8,\n        \"samples\": [\n          4838.340909090909,\n          2647.0,\n          1628.0\n        ],\n        \"semantic_type\": \"\",\n        \"description\": \"\"\n      }\n    }\n  ]\n}"
            }
          },
          "metadata": {},
          "execution_count": 13
        }
      ]
    },
    {
      "cell_type": "markdown",
      "source": [
        "#### Analysis\n",
        "\n",
        "There is a significant class imbalance, where Bach pieces far outweigh the number of pieces by the other composers.  Some balancing will be required - likely starting with using a subset of the Bach pieces.\n",
        "\n",
        "There is also a wide range of sequence values.  Some preparation tasks will likely be required to normalize these to a standard sequence length for the model.  We can use the descriptive statistics to determine this - possibly breaking the larger tracks into multiple samples, each with a smaller sequence length."
      ],
      "metadata": {
        "id": "j4uQfVvBngt2"
      }
    },
    {
      "cell_type": "markdown",
      "source": [
        "## Data Preparation\n",
        "\n",
        "1.  Fix the class imbalance issue by downsampling the over-represented class (Bach)\n",
        "2.  Normalize the data using scaler\n",
        "3.  Process the tracks into smaller, normalized sequence lengths\n",
        "4.  Format the dataset into samples and labels suitable for model input\n",
        "5.  Split the result into train/test/val"
      ],
      "metadata": {
        "id": "dgzAMg3jop8e"
      }
    },
    {
      "cell_type": "code",
      "source": [
        "# set a normalized sequence length to 10 s worth of samples\n",
        "NORM_SEQUENCE_LENGTH = SAMPLE_FREQUENCY * 10\n",
        "\n",
        "# helper function to pad sequences not quite long enough\n",
        "def zero_pad(seq, x, missing):\n",
        "\tright = np.zeros((x, missing))\n",
        "\treturn np.hstack((seq,right))\n",
        "\n",
        "# helper function to process track into sequences of normalized length\n",
        "def process_track_to_sequences(track):\n",
        "  x,y = track.shape\n",
        "  #print(f\"track shape:\", track.shape)\n",
        "  sequences = []\n",
        "  if(y < NORM_SEQUENCE_LENGTH):\n",
        "    sequence = zero_pad(track, x, NORM_SEQUENCE_LENGTH-y)\n",
        "    sequences.append(sequence)\n",
        "  else:\n",
        "    num_sequences = int(np.ceil(y / NORM_SEQUENCE_LENGTH))\n",
        "    for i in range(num_sequences):\n",
        "      start = i * NORM_SEQUENCE_LENGTH\n",
        "      if start + NORM_SEQUENCE_LENGTH > y:\n",
        "        sequence = track[:,start:y]\n",
        "        zp = zero_pad(sequence, x, (start + NORM_SEQUENCE_LENGTH - y))\n",
        "        sequences.append(zp)\n",
        "      else:\n",
        "        end = start + NORM_SEQUENCE_LENGTH\n",
        "        sequence = track[:,start:end]\n",
        "        sequences.append(sequence)\n",
        "\n",
        "  return sequences\n",
        "\n",
        "# helper function to process all tracks for a composer into sequences\n",
        "def process_composer_sequences(composer_data):\n",
        "  composer_sequences = []\n",
        "  for i in range(len(composer_data)):\n",
        "    sequences = process_track_to_sequences(composer_data[i])\n",
        "    for seq in sequences:\n",
        "      composer_sequences.append(seq)\n",
        "  return composer_sequences\n",
        "\n",
        "# helper function to transpose sequences\n",
        "def transpose_sequences(sequences):\n",
        "  for i in range(len(sequences)):\n",
        "    sequences[i] = np.transpose(sequences[i])\n",
        "  return sequences"
      ],
      "metadata": {
        "id": "OOTaktN2s4Qc"
      },
      "execution_count": 11,
      "outputs": []
    },
    {
      "cell_type": "code",
      "source": [
        "# process data into sequences for each composer\n",
        "bach_sequences = process_composer_sequences(bach_data)\n",
        "beethoven_sequences = process_composer_sequences(beethoven_data)\n",
        "mozart_sequences = process_composer_sequences(mozart_data)\n",
        "chopin_sequences = process_composer_sequences(chopin_data)"
      ],
      "metadata": {
        "id": "46aVyNvwyLOo"
      },
      "execution_count": 15,
      "outputs": []
    },
    {
      "cell_type": "code",
      "source": [
        "# transpose the sequences\n",
        "bach_sequences = transpose_sequences(bach_sequences)\n",
        "beethoven_sequences = transpose_sequences(beethoven_sequences)\n",
        "mozart_sequences = transpose_sequences(mozart_sequences)\n",
        "chopin_sequences = transpose_sequences(chopin_sequences)"
      ],
      "metadata": {
        "id": "LyUL4o9HzgTf"
      },
      "execution_count": 16,
      "outputs": []
    },
    {
      "cell_type": "code",
      "source": [
        "# display sequence lenghths:\n",
        "print(f'Bach: {len(bach_sequences)}')\n",
        "print(f'Beethoven: {len(beethoven_sequences)}')\n",
        "print(f'Mozart: {len(mozart_sequences)}')\n",
        "print(f'Chopin: {len(chopin_sequences)}')"
      ],
      "metadata": {
        "id": "0W9KrkqptcON",
        "colab": {
          "base_uri": "https://localhost:8080/"
        },
        "outputId": "efd9ce9f-eb41-4de3-8398-6ad81a7a6185"
      },
      "execution_count": 17,
      "outputs": [
        {
          "output_type": "stream",
          "name": "stdout",
          "text": [
            "Bach: 16369\n",
            "Beethoven: 10399\n",
            "Mozart: 10353\n",
            "Chopin: 3067\n"
          ]
        }
      ]
    },
    {
      "cell_type": "code",
      "source": [
        "#randomly downsample Bach, Beethoven and Mozar sequences to better balance with lower Chopin samples\n",
        "bach_sequences = sample(bach_sequences, 5000)\n",
        "beethoven_sequences = sample(beethoven_sequences, 4000)\n",
        "mozart_sequences = sample(mozart_sequences, 4000)"
      ],
      "metadata": {
        "id": "JGN_d0Wgy9Pj"
      },
      "execution_count": 18,
      "outputs": []
    },
    {
      "cell_type": "code",
      "source": [
        "# display sequence lenghths:\n",
        "print(f'Bach: {len(bach_sequences)}')\n",
        "print(f'Beethoven: {len(beethoven_sequences)}')\n",
        "print(f'Mozart: {len(mozart_sequences)}')\n",
        "print(f'Chopin: {len(chopin_sequences)}')"
      ],
      "metadata": {
        "id": "GkIiR8FcFkRV",
        "outputId": "7abc473b-6c7e-4997-8111-d15139349c85",
        "colab": {
          "base_uri": "https://localhost:8080/"
        }
      },
      "execution_count": 19,
      "outputs": [
        {
          "output_type": "stream",
          "name": "stdout",
          "text": [
            "Bach: 5000\n",
            "Beethoven: 4000\n",
            "Mozart: 4000\n",
            "Chopin: 3067\n"
          ]
        }
      ]
    },
    {
      "cell_type": "code",
      "source": [
        "# visualize class balances\n",
        "class_samples = {\"Bach\": len(bach_sequences), \"Beethoven\": len(beethoven_sequences), \"Mozart\": len(mozart_sequences), \"Chopin\": len(chopin_sequences)}\n",
        "plt.bar(class_samples.keys(), class_samples.values())\n",
        "plt.xlabel('Composer')\n",
        "plt.ylabel('Number of Samples')\n",
        "plt.title('Class Distribution')\n",
        "plt.show()"
      ],
      "metadata": {
        "id": "a-w9HTaYzvha",
        "colab": {
          "base_uri": "https://localhost:8080/",
          "height": 472
        },
        "outputId": "179909ca-647e-4154-bde0-a65aa034b123"
      },
      "execution_count": 20,
      "outputs": [
        {
          "output_type": "display_data",
          "data": {
            "text/plain": [
              "<Figure size 640x480 with 1 Axes>"
            ],
            "image/png": "[encoded data removed]"
          },
          "metadata": {}
        }
      ]
    },
    {
      "cell_type": "code",
      "source": [
        "# create labels\n",
        "bach_labels = ['bach'] * len(bach_sequences)\n",
        "beethoven_labels = ['beethoven'] * len(beethoven_sequences)\n",
        "mozart_labels = ['mozart'] * len(mozart_sequences)\n",
        "chopin_labels = ['chopin'] * len(chopin_sequences)"
      ],
      "metadata": {
        "id": "2BPrywwV__dE"
      },
      "execution_count": 21,
      "outputs": []
    },
    {
      "cell_type": "code",
      "source": [
        "# next stack the sequences into single list\n",
        "X = np.concatenate((bach_sequences, beethoven_sequences, mozart_sequences, chopin_sequences))\n",
        "y_raw = np.concatenate((bach_labels, beethoven_labels, mozart_labels, chopin_labels))\n"
      ],
      "metadata": {
        "id": "nQQbLJiLCWg1"
      },
      "execution_count": 22,
      "outputs": []
    },
    {
      "cell_type": "code",
      "source": [
        "# shuffle the dataset\n",
        "indices = np.arange(X.shape[0])\n",
        "np.random.shuffle(indices)\n",
        "\n",
        "X = X[indices]\n",
        "y_raw = y_raw[indices]"
      ],
      "metadata": {
        "id": "JDw5NMRADY6r"
      },
      "execution_count": 23,
      "outputs": []
    },
    {
      "cell_type": "code",
      "source": [
        "# label encode the labels\n",
        "ohe = OneHotEncoder()\n",
        "y = ohe.fit_transform(y_raw.reshape(-1, 1))\n",
        "y = y.toarray()\n",
        "y"
      ],
      "metadata": {
        "id": "0laeX-EDDiqN",
        "outputId": "4bed04ab-acaa-4819-c189-f66f085ed29c",
        "colab": {
          "base_uri": "https://localhost:8080/"
        }
      },
      "execution_count": 24,
      "outputs": [
        {
          "output_type": "execute_result",
          "data": {
            "text/plain": [
              "array([[0., 1., 0., 0.],\n",
              "       [0., 0., 0., 1.],\n",
              "       [0., 1., 0., 0.],\n",
              "       ...,\n",
              "       [1., 0., 0., 0.],\n",
              "       [0., 0., 1., 0.],\n",
              "       [0., 0., 0., 1.]])"
            ]
          },
          "metadata": {},
          "execution_count": 24
        }
      ]
    },
    {
      "cell_type": "code",
      "source": [
        "ohe.categories_"
      ],
      "metadata": {
        "id": "3SmesoFIbe4O",
        "outputId": "4a654d1d-eb15-41ad-ad0a-8ddfa85600df",
        "colab": {
          "base_uri": "https://localhost:8080/"
        }
      },
      "execution_count": null,
      "outputs": [
        {
          "output_type": "execute_result",
          "data": {
            "text/plain": [
              "[array(['bach', 'beethoven', 'chopin', 'mozart'], dtype='<U9')]"
            ]
          },
          "metadata": {},
          "execution_count": 23
        }
      ]
    },
    {
      "cell_type": "code",
      "source": [
        "# free up RAM\n",
        "del bach_sequences\n",
        "del beethoven_sequences\n",
        "del mozart_sequences\n",
        "del chopin_sequences\n",
        "del bach_data\n",
        "del beethoven_data\n",
        "del mozart_data\n",
        "del chopin_data\n",
        "gc.collect()"
      ],
      "metadata": {
        "id": "cBTI9nGUWmUO",
        "outputId": "333da861-8e69-421f-ae31-e75aa36f559b",
        "colab": {
          "base_uri": "https://localhost:8080/"
        }
      },
      "execution_count": 25,
      "outputs": [
        {
          "output_type": "execute_result",
          "data": {
            "text/plain": [
              "3224"
            ]
          },
          "metadata": {},
          "execution_count": 25
        }
      ]
    },
    {
      "cell_type": "code",
      "source": [
        "# split into train/test/val\n",
        "TRAIN_SPLIT = 0.8\n",
        "TEST_VAL_SPLIT = 0.1\n",
        "TOTAL_LEN = len(X)\n",
        "\n",
        "# train data\n",
        "X_train = X[:int(TOTAL_LEN * TRAIN_SPLIT)].copy()\n",
        "y_train = y[:int(TOTAL_LEN * TRAIN_SPLIT)].copy()\n",
        "\n",
        "# val data\n",
        "X_val = X[int(TOTAL_LEN * TRAIN_SPLIT):int(TOTAL_LEN * (TRAIN_SPLIT + TEST_VAL_SPLIT))].copy()\n",
        "y_val = y[int(TOTAL_LEN * TRAIN_SPLIT):int(TOTAL_LEN * (TRAIN_SPLIT + TEST_VAL_SPLIT))].copy()\n",
        "\n",
        "# test data\n",
        "X_test = X[int(TOTAL_LEN * (TRAIN_SPLIT + TEST_VAL_SPLIT)):].copy()\n",
        "y_test = y[int(TOTAL_LEN * (TRAIN_SPLIT + TEST_VAL_SPLIT)):].copy()\n"
      ],
      "metadata": {
        "id": "41LWeb2gEWAw"
      },
      "execution_count": 26,
      "outputs": []
    },
    {
      "cell_type": "code",
      "source": [
        "#helper function to get min/max range from train data tensors\n",
        "def normalize_dataset(dataset, min, max):\n",
        "  for i in range(len(dataset)):\n",
        "    sample = dataset[i]\n",
        "    sample = [((x - min) / (max - min)) for x in sample]\n",
        "    dataset[i] = sample\n",
        "  return dataset"
      ],
      "metadata": {
        "id": "VAVARO4MF8tv"
      },
      "execution_count": 27,
      "outputs": []
    },
    {
      "cell_type": "code",
      "source": [
        "# set min-max scale ranges\n",
        "scale_max = np.max(X_train)\n",
        "scale_min = np.min(X_train)\n",
        "print(scale_min, scale_max)"
      ],
      "metadata": {
        "id": "dJHpLsPrRKFd",
        "outputId": "baa16d3f-f718-44f0-aefe-6cd68de98aba",
        "colab": {
          "base_uri": "https://localhost:8080/"
        }
      },
      "execution_count": 28,
      "outputs": [
        {
          "output_type": "stream",
          "name": "stdout",
          "text": [
            "0.0 938.02685546875\n"
          ]
        }
      ]
    },
    {
      "cell_type": "code",
      "source": [
        "# normalize the datasets [normalize based on training data]\n",
        "X_train_norm = normalize_dataset(X_train.copy(), scale_min, scale_max)\n",
        "X_val_norm = normalize_dataset(X_val.copy(), scale_min, scale_max)\n",
        "X_test_norm = normalize_dataset(X_test.copy(), scale_min, scale_max)"
      ],
      "metadata": {
        "id": "dBQAy22WIDi5"
      },
      "execution_count": 29,
      "outputs": []
    },
    {
      "cell_type": "code",
      "source": [
        "X_train_norm.shape"
      ],
      "metadata": {
        "colab": {
          "base_uri": "https://localhost:8080/"
        },
        "id": "KcXlWVujg3Me",
        "outputId": "ef466a00-0867-4b0a-8a2d-180ecb27d665"
      },
      "execution_count": 86,
      "outputs": [
        {
          "output_type": "execute_result",
          "data": {
            "text/plain": [
              "(32150, 200, 128)"
            ]
          },
          "metadata": {},
          "execution_count": 86
        }
      ]
    },
    {
      "cell_type": "markdown",
      "source": [
        "## LSTM Model\n",
        "\n",
        "For our first model, we will define and train and LSTM RNN model to process our sequences and perform a classification task to predict the appropriate composer.  Some experimenation and fine tuning will be conducted to find an optimal model definition.\n",
        "\n",
        "1.  Define baseline LSTM model with classification output layer.  This will be used to validate our processed data, validate classification task and set baseline performance.\n",
        "2.  Train model on our training set\n",
        "3.  Evaluate performance of the model using Accuracy, Precision/Recall, F1\n",
        "4.  Tune hyperparameters and model architecture\n",
        "\n"
      ],
      "metadata": {
        "id": "XT1Gp3RtQcOi"
      }
    },
    {
      "cell_type": "code",
      "source": [
        "NUM_EPOCHS = 25\n",
        "BATCH_SIZE = 32\n",
        "LEARNING_RATE = 0.001\n",
        "NUM_COMPOSERS = 4"
      ],
      "metadata": {
        "id": "R4SKFZKeXfWA"
      },
      "execution_count": 48,
      "outputs": []
    },
    {
      "cell_type": "code",
      "source": [
        "# define a baseline LSTM\n",
        "lstm_base = tf.keras.models.Sequential([\n",
        "\n",
        "    # input our sequence tensors\n",
        "    tf.keras.layers.Input(shape=(NORM_SEQUENCE_LENGTH, NUM_PIANO_KEYS)),\n",
        "    tf.keras.layers.LSTM(256, return_sequences=False, dropout=0.2),\n",
        "\n",
        "    # classification head\n",
        "    tf.keras.layers.Dense(64, activation='relu'),\n",
        "    tf.keras.layers.Dense(units = NUM_COMPOSERS, activation='softmax')\n",
        "])\n",
        "\n",
        "# Compile the model\n",
        "lstm_base.compile(optimizer='adam', loss='categorical_crossentropy', metrics=[keras.metrics.CategoricalAccuracy(), keras.metrics.Precision(), keras.metrics.Recall(), keras.metrics.F1Score()])"
      ],
      "metadata": {
        "id": "lFl_bgsdSD9-"
      },
      "execution_count": 30,
      "outputs": []
    },
    {
      "cell_type": "code",
      "source": [
        "# Train the model\n",
        "history_lstm = lstm_base.fit(X_train_norm, y_train, validation_data=(X_val_norm,y_val), epochs=NUM_EPOCHS, batch_size=BATCH_SIZE)"
      ],
      "metadata": {
        "id": "pRPPvVskXye4",
        "colab": {
          "base_uri": "https://localhost:8080/"
        },
        "outputId": "32981de6-3333-42b4-e63f-4e7f4b8d57f9"
      },
      "execution_count": 31,
      "outputs": [
        {
          "output_type": "stream",
          "name": "stdout",
          "text": [
            "Epoch 1/50\n",
            "201/201 [==============================] - 8s 24ms/step - loss: 1.3094 - categorical_accuracy: 0.3658 - precision_1: 0.5241 - recall_1: 0.0296 - f1_score: 0.3171 - val_loss: 1.2770 - val_categorical_accuracy: 0.4319 - val_precision_1: 0.6429 - val_recall_1: 0.0280 - val_f1_score: 0.4008\n",
            "Epoch 2/50\n",
            "201/201 [==============================] - 4s 18ms/step - loss: 1.2335 - categorical_accuracy: 0.4242 - precision_1: 0.6140 - recall_1: 0.1056 - f1_score: 0.4018 - val_loss: 1.2107 - val_categorical_accuracy: 0.4462 - val_precision_1: 0.6571 - val_recall_1: 0.1276 - val_f1_score: 0.4039\n",
            "Epoch 3/50\n",
            "201/201 [==============================] - 4s 18ms/step - loss: 1.2131 - categorical_accuracy: 0.4437 - precision_1: 0.6313 - recall_1: 0.1351 - f1_score: 0.4238 - val_loss: 1.1988 - val_categorical_accuracy: 0.4443 - val_precision_1: 0.6741 - val_recall_1: 0.1313 - val_f1_score: 0.4004\n",
            "Epoch 4/50\n",
            "201/201 [==============================] - 4s 18ms/step - loss: 1.2431 - categorical_accuracy: 0.4238 - precision_1: 0.5925 - recall_1: 0.1246 - f1_score: 0.3975 - val_loss: 1.2630 - val_categorical_accuracy: 0.3970 - val_precision_1: 0.6372 - val_recall_1: 0.0448 - val_f1_score: 0.3422\n",
            "Epoch 5/50\n",
            "201/201 [==============================] - 4s 18ms/step - loss: 1.3543 - categorical_accuracy: 0.3272 - precision_1: 0.6410 - recall_1: 0.0188 - f1_score: 0.2191 - val_loss: 1.3611 - val_categorical_accuracy: 0.3230 - val_precision_1: 0.0000e+00 - val_recall_1: 0.0000e+00 - val_f1_score: 0.1405\n",
            "Epoch 6/50\n",
            "201/201 [==============================] - 4s 18ms/step - loss: 1.3586 - categorical_accuracy: 0.3185 - precision_1: 0.5269 - recall_1: 0.0068 - f1_score: 0.2461 - val_loss: 1.3059 - val_categorical_accuracy: 0.3727 - val_precision_1: 0.6250 - val_recall_1: 0.0156 - val_f1_score: 0.3127\n",
            "Epoch 7/50\n",
            "201/201 [==============================] - 4s 19ms/step - loss: 1.2385 - categorical_accuracy: 0.4261 - precision_1: 0.6173 - recall_1: 0.1009 - f1_score: 0.4010 - val_loss: 1.1953 - val_categorical_accuracy: 0.4518 - val_precision_1: 0.5768 - val_recall_1: 0.1730 - val_f1_score: 0.3952\n",
            "Epoch 8/50\n",
            "201/201 [==============================] - 4s 19ms/step - loss: 1.1762 - categorical_accuracy: 0.4723 - precision_1: 0.6270 - recall_1: 0.1965 - f1_score: 0.4572 - val_loss: 1.1423 - val_categorical_accuracy: 0.5040 - val_precision_1: 0.6328 - val_recall_1: 0.1898 - val_f1_score: 0.4963\n",
            "Epoch 9/50\n",
            "201/201 [==============================] - 4s 19ms/step - loss: 1.2032 - categorical_accuracy: 0.4555 - precision_1: 0.6353 - recall_1: 0.1717 - f1_score: 0.4367 - val_loss: 1.2267 - val_categorical_accuracy: 0.4456 - val_precision_1: 0.6716 - val_recall_1: 0.0840 - val_f1_score: 0.4018\n",
            "Epoch 10/50\n",
            "201/201 [==============================] - 4s 19ms/step - loss: 1.1831 - categorical_accuracy: 0.4755 - precision_1: 0.6162 - recall_1: 0.2107 - f1_score: 0.4595 - val_loss: 1.2576 - val_categorical_accuracy: 0.3796 - val_precision_1: 0.6772 - val_recall_1: 0.1070 - val_f1_score: 0.2596\n",
            "Epoch 11/50\n",
            "201/201 [==============================] - 4s 19ms/step - loss: 1.2026 - categorical_accuracy: 0.4583 - precision_1: 0.6249 - recall_1: 0.1760 - f1_score: 0.4372 - val_loss: 1.2150 - val_categorical_accuracy: 0.4941 - val_precision_1: 0.7242 - val_recall_1: 0.1749 - val_f1_score: 0.4921\n",
            "Epoch 12/50\n",
            "201/201 [==============================] - 4s 19ms/step - loss: 1.1384 - categorical_accuracy: 0.5058 - precision_1: 0.6261 - recall_1: 0.2638 - f1_score: 0.4905 - val_loss: 1.1216 - val_categorical_accuracy: 0.5184 - val_precision_1: 0.6661 - val_recall_1: 0.2570 - val_f1_score: 0.4846\n",
            "Epoch 13/50\n",
            "201/201 [==============================] - 4s 19ms/step - loss: 1.1483 - categorical_accuracy: 0.4953 - precision_1: 0.6534 - recall_1: 0.2424 - f1_score: 0.4833 - val_loss: 1.1759 - val_categorical_accuracy: 0.4692 - val_precision_1: 0.7433 - val_recall_1: 0.1730 - val_f1_score: 0.4328\n",
            "Epoch 14/50\n",
            "201/201 [==============================] - 4s 19ms/step - loss: 1.1272 - categorical_accuracy: 0.5102 - precision_1: 0.6374 - recall_1: 0.2894 - f1_score: 0.4968 - val_loss: 1.1579 - val_categorical_accuracy: 0.5034 - val_precision_1: 0.5796 - val_recall_1: 0.3037 - val_f1_score: 0.4613\n",
            "Epoch 15/50\n",
            "201/201 [==============================] - 4s 19ms/step - loss: 1.1483 - categorical_accuracy: 0.5011 - precision_1: 0.6068 - recall_1: 0.2670 - f1_score: 0.4798 - val_loss: 1.1137 - val_categorical_accuracy: 0.5134 - val_precision_1: 0.7184 - val_recall_1: 0.2334 - val_f1_score: 0.4912\n",
            "Epoch 16/50\n",
            "201/201 [==============================] - 4s 19ms/step - loss: 1.1916 - categorical_accuracy: 0.4749 - precision_1: 0.5946 - recall_1: 0.2466 - f1_score: 0.4437 - val_loss: 1.3470 - val_categorical_accuracy: 0.3839 - val_precision_1: 0.5547 - val_recall_1: 0.0473 - val_f1_score: 0.2842\n",
            "Epoch 17/50\n",
            "201/201 [==============================] - 4s 19ms/step - loss: 1.2031 - categorical_accuracy: 0.4508 - precision_1: 0.6302 - recall_1: 0.1644 - f1_score: 0.4163 - val_loss: 1.1552 - val_categorical_accuracy: 0.4953 - val_precision_1: 0.6820 - val_recall_1: 0.1749 - val_f1_score: 0.4520\n",
            "Epoch 18/50\n",
            "201/201 [==============================] - 4s 19ms/step - loss: 1.2158 - categorical_accuracy: 0.4532 - precision_1: 0.5989 - recall_1: 0.1737 - f1_score: 0.4294 - val_loss: 1.2089 - val_categorical_accuracy: 0.4748 - val_precision_1: 0.4923 - val_recall_1: 0.4175 - val_f1_score: 0.4439\n",
            "Epoch 19/50\n",
            "201/201 [==============================] - 4s 19ms/step - loss: 1.3567 - categorical_accuracy: 0.3487 - precision_1: 0.5060 - recall_1: 0.0619 - f1_score: 0.2622 - val_loss: 1.3673 - val_categorical_accuracy: 0.3161 - val_precision_1: 0.8182 - val_recall_1: 0.0056 - val_f1_score: 0.1201\n",
            "Epoch 20/50\n",
            "201/201 [==============================] - 4s 19ms/step - loss: 1.3693 - categorical_accuracy: 0.3100 - precision_1: 0.7273 - recall_1: 6.2242e-04 - f1_score: 0.1187 - val_loss: 1.3681 - val_categorical_accuracy: 0.3161 - val_precision_1: 1.0000 - val_recall_1: 6.2228e-04 - val_f1_score: 0.1202\n",
            "Epoch 21/50\n",
            "201/201 [==============================] - 4s 19ms/step - loss: 1.3632 - categorical_accuracy: 0.3210 - precision_1: 0.6000 - recall_1: 2.3341e-04 - f1_score: 0.1633 - val_loss: 1.3611 - val_categorical_accuracy: 0.3174 - val_precision_1: 0.0000e+00 - val_recall_1: 0.0000e+00 - val_f1_score: 0.1235\n",
            "Epoch 22/50\n",
            "201/201 [==============================] - 4s 19ms/step - loss: 1.3397 - categorical_accuracy: 0.3361 - precision_1: 0.5380 - recall_1: 0.0066 - f1_score: 0.2130 - val_loss: 1.3061 - val_categorical_accuracy: 0.3622 - val_precision_1: 0.7000 - val_recall_1: 0.0044 - val_f1_score: 0.2328\n",
            "Epoch 23/50\n",
            "201/201 [==============================] - 4s 19ms/step - loss: 1.3342 - categorical_accuracy: 0.3495 - precision_1: 0.5867 - recall_1: 0.0274 - f1_score: 0.2961 - val_loss: 1.3384 - val_categorical_accuracy: 0.3628 - val_precision_1: 0.6364 - val_recall_1: 0.0044 - val_f1_score: 0.2361\n",
            "Epoch 24/50\n",
            "201/201 [==============================] - 4s 19ms/step - loss: 1.2785 - categorical_accuracy: 0.3901 - precision_1: 0.6237 - recall_1: 0.0667 - f1_score: 0.3426 - val_loss: 1.2451 - val_categorical_accuracy: 0.4393 - val_precision_1: 0.6881 - val_recall_1: 0.0467 - val_f1_score: 0.3846\n",
            "Epoch 25/50\n",
            "201/201 [==============================] - 4s 19ms/step - loss: 1.2171 - categorical_accuracy: 0.4375 - precision_1: 0.6417 - recall_1: 0.1663 - f1_score: 0.4163 - val_loss: 1.1112 - val_categorical_accuracy: 0.5264 - val_precision_1: 0.6439 - val_recall_1: 0.3105 - val_f1_score: 0.5011\n",
            "Epoch 26/50\n",
            "201/201 [==============================] - 4s 19ms/step - loss: 1.1892 - categorical_accuracy: 0.4543 - precision_1: 0.6412 - recall_1: 0.2063 - f1_score: 0.4354 - val_loss: 1.1403 - val_categorical_accuracy: 0.4860 - val_precision_1: 0.7301 - val_recall_1: 0.2172 - val_f1_score: 0.4541\n",
            "Epoch 27/50\n",
            "201/201 [==============================] - 4s 19ms/step - loss: 1.1370 - categorical_accuracy: 0.4952 - precision_1: 0.6595 - recall_1: 0.2585 - f1_score: 0.4805 - val_loss: 1.0987 - val_categorical_accuracy: 0.5196 - val_precision_1: 0.6835 - val_recall_1: 0.2782 - val_f1_score: 0.5149\n",
            "Epoch 28/50\n",
            "201/201 [==============================] - 4s 19ms/step - loss: 1.1027 - categorical_accuracy: 0.5126 - precision_1: 0.6529 - recall_1: 0.3006 - f1_score: 0.4968 - val_loss: 1.1273 - val_categorical_accuracy: 0.4953 - val_precision_1: 0.6117 - val_recall_1: 0.3715 - val_f1_score: 0.4424\n",
            "Epoch 29/50\n",
            "201/201 [==============================] - 4s 19ms/step - loss: 1.0811 - categorical_accuracy: 0.5235 - precision_1: 0.6555 - recall_1: 0.3160 - f1_score: 0.5084 - val_loss: 1.0834 - val_categorical_accuracy: 0.5296 - val_precision_1: 0.6509 - val_recall_1: 0.3342 - val_f1_score: 0.4916\n",
            "Epoch 30/50\n",
            "201/201 [==============================] - 4s 19ms/step - loss: 1.0599 - categorical_accuracy: 0.5449 - precision_1: 0.6646 - recall_1: 0.3398 - f1_score: 0.5299 - val_loss: 1.0622 - val_categorical_accuracy: 0.5383 - val_precision_1: 0.6501 - val_recall_1: 0.3167 - val_f1_score: 0.5321\n",
            "Epoch 31/50\n",
            "201/201 [==============================] - 4s 19ms/step - loss: 1.0520 - categorical_accuracy: 0.5473 - precision_1: 0.6637 - recall_1: 0.3503 - f1_score: 0.5316 - val_loss: 1.0227 - val_categorical_accuracy: 0.5681 - val_precision_1: 0.6553 - val_recall_1: 0.3964 - val_f1_score: 0.5575\n",
            "Epoch 32/50\n",
            "201/201 [==============================] - 4s 19ms/step - loss: 1.0370 - categorical_accuracy: 0.5540 - precision_1: 0.6638 - recall_1: 0.3689 - f1_score: 0.5371 - val_loss: 1.0525 - val_categorical_accuracy: 0.5370 - val_precision_1: 0.6357 - val_recall_1: 0.3964 - val_f1_score: 0.4937\n",
            "Epoch 33/50\n",
            "201/201 [==============================] - 4s 19ms/step - loss: 1.0393 - categorical_accuracy: 0.5460 - precision_1: 0.6638 - recall_1: 0.3609 - f1_score: 0.5308 - val_loss: 1.0108 - val_categorical_accuracy: 0.5793 - val_precision_1: 0.6883 - val_recall_1: 0.3491 - val_f1_score: 0.5612\n",
            "Epoch 34/50\n",
            "201/201 [==============================] - 4s 19ms/step - loss: 1.0275 - categorical_accuracy: 0.5551 - precision_1: 0.6653 - recall_1: 0.3785 - f1_score: 0.5411 - val_loss: 1.0252 - val_categorical_accuracy: 0.5694 - val_precision_1: 0.6981 - val_recall_1: 0.3136 - val_f1_score: 0.5484\n",
            "Epoch 35/50\n",
            "201/201 [==============================] - 4s 19ms/step - loss: 1.0154 - categorical_accuracy: 0.5678 - precision_1: 0.6728 - recall_1: 0.3903 - f1_score: 0.5535 - val_loss: 1.0288 - val_categorical_accuracy: 0.5594 - val_precision_1: 0.6546 - val_recall_1: 0.4057 - val_f1_score: 0.5318\n",
            "Epoch 36/50\n",
            "201/201 [==============================] - 4s 19ms/step - loss: 1.0070 - categorical_accuracy: 0.5695 - precision_1: 0.6816 - recall_1: 0.4069 - f1_score: 0.5557 - val_loss: 1.0070 - val_categorical_accuracy: 0.5700 - val_precision_1: 0.6629 - val_recall_1: 0.4026 - val_f1_score: 0.5458\n",
            "Epoch 37/50\n",
            "201/201 [==============================] - 4s 19ms/step - loss: 0.9987 - categorical_accuracy: 0.5751 - precision_1: 0.6761 - recall_1: 0.4154 - f1_score: 0.5609 - val_loss: 0.9932 - val_categorical_accuracy: 0.5731 - val_precision_1: 0.6718 - val_recall_1: 0.4063 - val_f1_score: 0.5549\n",
            "Epoch 38/50\n",
            "201/201 [==============================] - 4s 19ms/step - loss: 0.9787 - categorical_accuracy: 0.5842 - precision_1: 0.6923 - recall_1: 0.4330 - f1_score: 0.5707 - val_loss: 0.9852 - val_categorical_accuracy: 0.5793 - val_precision_1: 0.6734 - val_recall_1: 0.4362 - val_f1_score: 0.5537\n",
            "Epoch 39/50\n",
            "201/201 [==============================] - 4s 19ms/step - loss: 0.9914 - categorical_accuracy: 0.5761 - precision_1: 0.6835 - recall_1: 0.4209 - f1_score: 0.5623 - val_loss: 0.9838 - val_categorical_accuracy: 0.5787 - val_precision_1: 0.6683 - val_recall_1: 0.4238 - val_f1_score: 0.5544\n",
            "Epoch 40/50\n",
            "201/201 [==============================] - 4s 19ms/step - loss: 0.9857 - categorical_accuracy: 0.5860 - precision_1: 0.6890 - recall_1: 0.4292 - f1_score: 0.5732 - val_loss: 0.9817 - val_categorical_accuracy: 0.5694 - val_precision_1: 0.6550 - val_recall_1: 0.4431 - val_f1_score: 0.5506\n",
            "Epoch 41/50\n",
            "201/201 [==============================] - 4s 19ms/step - loss: 0.9617 - categorical_accuracy: 0.5982 - precision_1: 0.6928 - recall_1: 0.4498 - f1_score: 0.5861 - val_loss: 0.9699 - val_categorical_accuracy: 0.5881 - val_precision_1: 0.6528 - val_recall_1: 0.4599 - val_f1_score: 0.5674\n",
            "Epoch 42/50\n",
            "201/201 [==============================] - 4s 19ms/step - loss: 0.9714 - categorical_accuracy: 0.5868 - precision_1: 0.6922 - recall_1: 0.4488 - f1_score: 0.5729 - val_loss: 0.9981 - val_categorical_accuracy: 0.5675 - val_precision_1: 0.6641 - val_recall_1: 0.4231 - val_f1_score: 0.5406\n",
            "Epoch 43/50\n",
            "201/201 [==============================] - 4s 19ms/step - loss: 0.9567 - categorical_accuracy: 0.5988 - precision_1: 0.7016 - recall_1: 0.4491 - f1_score: 0.5861 - val_loss: 0.9726 - val_categorical_accuracy: 0.5849 - val_precision_1: 0.6804 - val_recall_1: 0.4518 - val_f1_score: 0.5650\n",
            "Epoch 44/50\n",
            "201/201 [==============================] - 4s 19ms/step - loss: 0.9413 - categorical_accuracy: 0.6062 - precision_1: 0.7007 - recall_1: 0.4657 - f1_score: 0.5935 - val_loss: 0.9502 - val_categorical_accuracy: 0.5999 - val_precision_1: 0.7026 - val_recall_1: 0.4101 - val_f1_score: 0.5878\n",
            "Epoch 45/50\n",
            "201/201 [==============================] - 4s 19ms/step - loss: 0.9372 - categorical_accuracy: 0.6071 - precision_1: 0.7034 - recall_1: 0.4658 - f1_score: 0.5941 - val_loss: 0.9655 - val_categorical_accuracy: 0.5912 - val_precision_1: 0.6719 - val_recall_1: 0.4512 - val_f1_score: 0.5747\n",
            "Epoch 46/50\n",
            "201/201 [==============================] - 4s 19ms/step - loss: 0.9373 - categorical_accuracy: 0.6045 - precision_1: 0.7045 - recall_1: 0.4683 - f1_score: 0.5916 - val_loss: 0.9784 - val_categorical_accuracy: 0.5955 - val_precision_1: 0.6833 - val_recall_1: 0.4269 - val_f1_score: 0.5847\n",
            "Epoch 47/50\n",
            "201/201 [==============================] - 4s 19ms/step - loss: 0.9267 - categorical_accuracy: 0.6112 - precision_1: 0.7101 - recall_1: 0.4779 - f1_score: 0.5995 - val_loss: 0.9523 - val_categorical_accuracy: 0.5843 - val_precision_1: 0.6799 - val_recall_1: 0.4574 - val_f1_score: 0.5683\n",
            "Epoch 48/50\n",
            "201/201 [==============================] - 4s 19ms/step - loss: 0.9277 - categorical_accuracy: 0.6103 - precision_1: 0.7081 - recall_1: 0.4707 - f1_score: 0.5970 - val_loss: 0.9324 - val_categorical_accuracy: 0.5993 - val_precision_1: 0.6720 - val_recall_1: 0.4692 - val_f1_score: 0.5829\n",
            "Epoch 49/50\n",
            "201/201 [==============================] - 4s 19ms/step - loss: 0.9128 - categorical_accuracy: 0.6156 - precision_1: 0.7138 - recall_1: 0.4842 - f1_score: 0.6023 - val_loss: 0.9467 - val_categorical_accuracy: 0.5961 - val_precision_1: 0.6763 - val_recall_1: 0.4667 - val_f1_score: 0.5806\n",
            "Epoch 50/50\n",
            "201/201 [==============================] - 4s 19ms/step - loss: 0.9013 - categorical_accuracy: 0.6222 - precision_1: 0.7130 - recall_1: 0.4963 - f1_score: 0.6094 - val_loss: 0.9264 - val_categorical_accuracy: 0.6111 - val_precision_1: 0.7056 - val_recall_1: 0.4549 - val_f1_score: 0.5921\n"
          ]
        }
      ]
    },
    {
      "cell_type": "code",
      "source": [
        "#plot loss\n",
        "plt.plot(history_lstm.history['loss'])\n",
        "plt.plot(history_lstm.history['val_loss'])\n",
        "plt.title('Baseline LSTM - Train/Val Loss')\n",
        "plt.ylabel('loss')\n",
        "plt.xlabel('epoch')\n",
        "plt.legend(['Tain', 'Val'])\n",
        "plt.show()"
      ],
      "metadata": {
        "id": "zYdTPhCYYJQV",
        "outputId": "ece4ec54-b87e-42f8-9c25-8cf06ecb557a",
        "colab": {
          "base_uri": "https://localhost:8080/",
          "height": 472
        }
      },
      "execution_count": 32,
      "outputs": [
        {
          "output_type": "display_data",
          "data": {
            "text/plain": [
              "<Figure size 640x480 with 1 Axes>"
            ],
            "image/png": "[encoded data removed]"
          },
          "metadata": {}
        }
      ]
    },
    {
      "cell_type": "code",
      "source": [
        "# evaluate on test data\n",
        "lstm_base.evaluate(X_test_norm, y_test)"
      ],
      "metadata": {
        "id": "QrfFYsYC1z6i",
        "outputId": "4989bbe7-619b-4e48-cb28-d04d51538ab0",
        "colab": {
          "base_uri": "https://localhost:8080/"
        }
      },
      "execution_count": 34,
      "outputs": [
        {
          "output_type": "stream",
          "name": "stdout",
          "text": [
            "51/51 [==============================] - 1s 9ms/step - loss: 0.9282 - categorical_accuracy: 0.6173 - precision_1: 0.7243 - recall_1: 0.4742 - f1_score: 0.5992\n"
          ]
        },
        {
          "output_type": "execute_result",
          "data": {
            "text/plain": [
              "[0.9281530976295471,\n",
              " 0.6172993183135986,\n",
              " 0.7243345975875854,\n",
              " 0.47417548298835754,\n",
              " array([0.7324444 , 0.47075605, 0.59187627, 0.6016073 ], dtype=float32)]"
            ]
          },
          "metadata": {},
          "execution_count": 34
        }
      ]
    },
    {
      "cell_type": "markdown",
      "source": [
        "#### Observations on Baseline LSTM\n",
        "\n",
        "As illustrated in the loss curves above, the Baseline LSTM is overfitting on the training data.  Our next LSTM will need to incorporate techniques to mitigate this."
      ],
      "metadata": {
        "id": "DJ_2PGTdg45p"
      }
    },
    {
      "cell_type": "code",
      "source": [
        "# define LSTM with mitigations for overfitting: more layers, more dropout\n",
        "lstm_exp1 = tf.keras.models.Sequential([\n",
        "\n",
        "    # input our sequence tensors\n",
        "    tf.keras.layers.Input(shape=(NORM_SEQUENCE_LENGTH, NUM_PIANO_KEYS)),\n",
        "    tf.keras.layers.Normalization(axis=None),\n",
        "    tf.keras.layers.LSTM(128, return_sequences=True),\n",
        "    tf.keras.layers.Dropout(0.3),\n",
        "    tf.keras.layers.LSTM(32, return_sequences=False),\n",
        "\n",
        "    # classification head\n",
        "    tf.keras.layers.Dense(32, activation='relu'),\n",
        "    tf.keras.layers.Dropout(0.3),\n",
        "    tf.keras.layers.Dense(32, activation='relu'),\n",
        "    tf.keras.layers.Dense(units = NUM_COMPOSERS, activation='softmax')\n",
        "])\n",
        "\n",
        "# Compile the model\n",
        "lstm_exp1.compile(\n",
        "    optimizer=keras.optimizers.Adam(learning_rate=LEARNING_RATE),\n",
        "    loss=tf.keras.losses.CategoricalCrossentropy(),\n",
        "    metrics=[keras.metrics.CategoricalAccuracy(), keras.metrics.Precision(), keras.metrics.Recall(), keras.metrics.F1Score()]\n",
        ")"
      ],
      "metadata": {
        "id": "647PpxNuge-b"
      },
      "execution_count": 62,
      "outputs": []
    },
    {
      "cell_type": "code",
      "source": [
        "# Train the model\n",
        "history_lstm_exp1 = lstm_exp1.fit(X_train, y_train, validation_data=(X_val,y_val), epochs=NUM_EPOCHS, batch_size=BATCH_SIZE)"
      ],
      "metadata": {
        "id": "jusbEeSZigcR",
        "outputId": "9fc46101-2365-42af-e871-ffd16efc4936",
        "colab": {
          "base_uri": "https://localhost:8080/"
        }
      },
      "execution_count": 63,
      "outputs": [
        {
          "output_type": "stream",
          "name": "stdout",
          "text": [
            "Epoch 1/25\n",
            "402/402 [==============================] - 12s 20ms/step - loss: 1.2763 - categorical_accuracy: 0.4030 - precision_15: 0.5701 - recall_15: 0.0969 - f1_score: 0.3817 - val_loss: 1.1057 - val_categorical_accuracy: 0.5252 - val_precision_15: 0.6902 - val_recall_15: 0.2620 - val_f1_score: 0.5060\n",
            "Epoch 2/25\n",
            "402/402 [==============================] - 7s 17ms/step - loss: 1.0847 - categorical_accuracy: 0.5420 - precision_15: 0.6406 - recall_15: 0.3320 - f1_score: 0.5247 - val_loss: 1.0279 - val_categorical_accuracy: 0.5675 - val_precision_15: 0.6415 - val_recall_15: 0.4175 - val_f1_score: 0.5464\n",
            "Epoch 3/25\n",
            "402/402 [==============================] - 7s 17ms/step - loss: 1.0044 - categorical_accuracy: 0.5840 - precision_15: 0.6685 - recall_15: 0.4146 - f1_score: 0.5649 - val_loss: 0.9613 - val_categorical_accuracy: 0.6030 - val_precision_15: 0.6683 - val_recall_15: 0.4978 - val_f1_score: 0.5875\n",
            "Epoch 4/25\n",
            "402/402 [==============================] - 7s 17ms/step - loss: 0.9247 - categorical_accuracy: 0.6183 - precision_15: 0.6995 - recall_15: 0.4763 - f1_score: 0.6023 - val_loss: 0.8996 - val_categorical_accuracy: 0.6260 - val_precision_15: 0.6862 - val_recall_15: 0.5252 - val_f1_score: 0.6093\n",
            "Epoch 5/25\n",
            "402/402 [==============================] - 7s 17ms/step - loss: 0.8735 - categorical_accuracy: 0.6450 - precision_15: 0.7173 - recall_15: 0.5361 - f1_score: 0.6286 - val_loss: 0.8870 - val_categorical_accuracy: 0.6428 - val_precision_15: 0.6945 - val_recall_15: 0.5333 - val_f1_score: 0.6312\n",
            "Epoch 6/25\n",
            "402/402 [==============================] - 7s 17ms/step - loss: 0.8299 - categorical_accuracy: 0.6622 - precision_15: 0.7271 - recall_15: 0.5726 - f1_score: 0.6474 - val_loss: 0.8805 - val_categorical_accuracy: 0.6416 - val_precision_15: 0.7045 - val_recall_15: 0.5563 - val_f1_score: 0.6310\n",
            "Epoch 7/25\n",
            "402/402 [==============================] - 7s 17ms/step - loss: 0.7710 - categorical_accuracy: 0.6933 - precision_15: 0.7443 - recall_15: 0.6146 - f1_score: 0.6804 - val_loss: 0.8436 - val_categorical_accuracy: 0.6447 - val_precision_15: 0.6889 - val_recall_15: 0.5980 - val_f1_score: 0.6384\n",
            "Epoch 8/25\n",
            "402/402 [==============================] - 7s 17ms/step - loss: 0.7306 - categorical_accuracy: 0.7049 - precision_15: 0.7503 - recall_15: 0.6413 - f1_score: 0.6944 - val_loss: 0.8649 - val_categorical_accuracy: 0.6503 - val_precision_15: 0.6959 - val_recall_15: 0.5769 - val_f1_score: 0.6404\n",
            "Epoch 9/25\n",
            "402/402 [==============================] - 7s 17ms/step - loss: 0.6782 - categorical_accuracy: 0.7264 - precision_15: 0.7666 - recall_15: 0.6777 - f1_score: 0.7167 - val_loss: 0.8113 - val_categorical_accuracy: 0.6795 - val_precision_15: 0.7158 - val_recall_15: 0.6378 - val_f1_score: 0.6682\n",
            "Epoch 10/25\n",
            "402/402 [==============================] - 7s 17ms/step - loss: 0.6259 - categorical_accuracy: 0.7535 - precision_15: 0.7851 - recall_15: 0.7124 - f1_score: 0.7454 - val_loss: 0.7807 - val_categorical_accuracy: 0.6889 - val_precision_15: 0.7240 - val_recall_15: 0.6658 - val_f1_score: 0.6759\n",
            "Epoch 11/25\n",
            "402/402 [==============================] - 7s 17ms/step - loss: 0.5922 - categorical_accuracy: 0.7641 - precision_15: 0.7928 - recall_15: 0.7250 - f1_score: 0.7561 - val_loss: 0.8249 - val_categorical_accuracy: 0.6721 - val_precision_15: 0.7151 - val_recall_15: 0.6372 - val_f1_score: 0.6688\n",
            "Epoch 12/25\n",
            "402/402 [==============================] - 7s 17ms/step - loss: 0.5656 - categorical_accuracy: 0.7783 - precision_15: 0.8063 - recall_15: 0.7418 - f1_score: 0.7720 - val_loss: 0.7880 - val_categorical_accuracy: 0.6988 - val_precision_15: 0.7242 - val_recall_15: 0.6683 - val_f1_score: 0.6892\n",
            "Epoch 13/25\n",
            "402/402 [==============================] - 7s 16ms/step - loss: 0.5216 - categorical_accuracy: 0.7994 - precision_15: 0.8219 - recall_15: 0.7731 - f1_score: 0.7941 - val_loss: 0.7841 - val_categorical_accuracy: 0.7001 - val_precision_15: 0.7224 - val_recall_15: 0.6671 - val_f1_score: 0.6874\n",
            "Epoch 14/25\n",
            "402/402 [==============================] - 7s 17ms/step - loss: 0.4935 - categorical_accuracy: 0.8136 - precision_15: 0.8330 - recall_15: 0.7885 - f1_score: 0.8096 - val_loss: 0.7633 - val_categorical_accuracy: 0.7250 - val_precision_15: 0.7426 - val_recall_15: 0.7057 - val_f1_score: 0.7185\n",
            "Epoch 15/25\n",
            "402/402 [==============================] - 7s 17ms/step - loss: 0.4693 - categorical_accuracy: 0.8193 - precision_15: 0.8377 - recall_15: 0.7971 - f1_score: 0.8155 - val_loss: 0.8539 - val_categorical_accuracy: 0.6957 - val_precision_15: 0.7088 - val_recall_15: 0.6801 - val_f1_score: 0.6910\n",
            "Epoch 16/25\n",
            "402/402 [==============================] - 7s 17ms/step - loss: 0.4422 - categorical_accuracy: 0.8337 - precision_15: 0.8511 - recall_15: 0.8138 - f1_score: 0.8307 - val_loss: 0.8609 - val_categorical_accuracy: 0.6988 - val_precision_15: 0.7105 - val_recall_15: 0.6795 - val_f1_score: 0.6960\n",
            "Epoch 17/25\n",
            "402/402 [==============================] - 7s 17ms/step - loss: 0.4381 - categorical_accuracy: 0.8319 - precision_15: 0.8477 - recall_15: 0.8127 - f1_score: 0.8291 - val_loss: 0.8394 - val_categorical_accuracy: 0.7001 - val_precision_15: 0.7154 - val_recall_15: 0.6789 - val_f1_score: 0.6933\n",
            "Epoch 18/25\n",
            "402/402 [==============================] - 7s 17ms/step - loss: 0.4214 - categorical_accuracy: 0.8428 - precision_15: 0.8595 - recall_15: 0.8253 - f1_score: 0.8401 - val_loss: 0.8428 - val_categorical_accuracy: 0.7125 - val_precision_15: 0.7263 - val_recall_15: 0.6901 - val_f1_score: 0.7074\n",
            "Epoch 19/25\n",
            "402/402 [==============================] - 7s 17ms/step - loss: 0.3996 - categorical_accuracy: 0.8517 - precision_15: 0.8646 - recall_15: 0.8375 - f1_score: 0.8497 - val_loss: 0.8056 - val_categorical_accuracy: 0.7094 - val_precision_15: 0.7236 - val_recall_15: 0.6876 - val_f1_score: 0.7055\n",
            "Epoch 20/25\n",
            "402/402 [==============================] - 7s 17ms/step - loss: 0.3721 - categorical_accuracy: 0.8624 - precision_15: 0.8754 - recall_15: 0.8476 - f1_score: 0.8608 - val_loss: 0.8563 - val_categorical_accuracy: 0.7131 - val_precision_15: 0.7242 - val_recall_15: 0.6994 - val_f1_score: 0.7069\n",
            "Epoch 21/25\n",
            "402/402 [==============================] - 7s 17ms/step - loss: 0.3570 - categorical_accuracy: 0.8699 - precision_15: 0.8820 - recall_15: 0.8553 - f1_score: 0.8679 - val_loss: 0.8717 - val_categorical_accuracy: 0.7032 - val_precision_15: 0.7184 - val_recall_15: 0.6857 - val_f1_score: 0.7001\n",
            "Epoch 22/25\n",
            "402/402 [==============================] - 7s 17ms/step - loss: 0.3555 - categorical_accuracy: 0.8673 - precision_15: 0.8796 - recall_15: 0.8545 - f1_score: 0.8654 - val_loss: 0.8306 - val_categorical_accuracy: 0.7138 - val_precision_15: 0.7351 - val_recall_15: 0.6994 - val_f1_score: 0.7050\n",
            "Epoch 23/25\n",
            "402/402 [==============================] - 7s 17ms/step - loss: 0.3280 - categorical_accuracy: 0.8790 - precision_15: 0.8909 - recall_15: 0.8675 - f1_score: 0.8772 - val_loss: 0.9360 - val_categorical_accuracy: 0.6988 - val_precision_15: 0.7130 - val_recall_15: 0.6864 - val_f1_score: 0.6963\n",
            "Epoch 24/25\n",
            "402/402 [==============================] - 7s 17ms/step - loss: 0.3197 - categorical_accuracy: 0.8814 - precision_15: 0.8938 - recall_15: 0.8705 - f1_score: 0.8800 - val_loss: 0.8789 - val_categorical_accuracy: 0.7063 - val_precision_15: 0.7214 - val_recall_15: 0.6945 - val_f1_score: 0.7017\n",
            "Epoch 25/25\n",
            "402/402 [==============================] - 7s 17ms/step - loss: 0.3095 - categorical_accuracy: 0.8866 - precision_15: 0.8968 - recall_15: 0.8751 - f1_score: 0.8850 - val_loss: 0.8709 - val_categorical_accuracy: 0.7144 - val_precision_15: 0.7277 - val_recall_15: 0.7050 - val_f1_score: 0.7067\n"
          ]
        }
      ]
    },
    {
      "cell_type": "code",
      "source": [
        "#plot loss\n",
        "plt.plot(history_lstm_exp1.history['loss'])\n",
        "plt.plot(history_lstm_exp1.history['val_loss'])\n",
        "plt.title('Improved LSTM - Train/Val Loss')\n",
        "plt.ylabel('loss')\n",
        "plt.xlabel('epoch')\n",
        "plt.legend(['Tain', 'Val'])\n",
        "plt.show()"
      ],
      "metadata": {
        "id": "n1DVhbvzi0FX",
        "outputId": "57cf32b6-83bd-4f0e-e9ae-4662c8d1f7d3",
        "colab": {
          "base_uri": "https://localhost:8080/",
          "height": 472
        }
      },
      "execution_count": 64,
      "outputs": [
        {
          "output_type": "display_data",
          "data": {
            "text/plain": [
              "<Figure size 640x480 with 1 Axes>"
            ],
            "image/png": "[encoded data removed]"
          },
          "metadata": {}
        }
      ]
    },
    {
      "cell_type": "code",
      "source": [
        "# evaluate on test data\n",
        "lstm_exp1.evaluate(X_test, y_test)"
      ],
      "metadata": {
        "id": "i921-WGTk_yL",
        "outputId": "4ceafee3-c84a-42a5-ab78-423736a310a1",
        "colab": {
          "base_uri": "https://localhost:8080/"
        }
      },
      "execution_count": 65,
      "outputs": [
        {
          "output_type": "stream",
          "name": "stdout",
          "text": [
            "51/51 [==============================] - 1s 10ms/step - loss: 0.7985 - categorical_accuracy: 0.7399 - precision_15: 0.7494 - recall_15: 0.7293 - f1_score: 0.7349\n"
          ]
        },
        {
          "output_type": "execute_result",
          "data": {
            "text/plain": [
              "[0.7984843254089355,\n",
              " 0.7398880124092102,\n",
              " 0.7493606209754944,\n",
              " 0.7293092608451843,\n",
              " array([0.8618358 , 0.611465  , 0.8094435 , 0.65667915], dtype=float32)]"
            ]
          },
          "metadata": {},
          "execution_count": 65
        }
      ]
    },
    {
      "cell_type": "code",
      "source": [
        "# define LSTM with mitigations for overfitting: more layers, more dropout\n",
        "lstm_exp2 = tf.keras.models.Sequential([\n",
        "\n",
        "    # input our sequence tensors\n",
        "    tf.keras.layers.Input(shape=(NORM_SEQUENCE_LENGTH, NUM_PIANO_KEYS)),\n",
        "    tf.keras.layers.Normalization(axis=None),\n",
        "    tf.keras.layers.LSTM(128, return_sequences=True),\n",
        "    tf.keras.layers.Dropout(0.2),\n",
        "    tf.keras.layers.LSTM(32, return_sequences=True),\n",
        "    tf.keras.layers.Dropout(0.2),\n",
        "    tf.keras.layers.LSTM(32, return_sequences=True),\n",
        "    tf.keras.layers.Dropout(0.3),\n",
        "    tf.keras.layers.LSTM(32, return_sequences=False),\n",
        "\n",
        "    # classification head\n",
        "    tf.keras.layers.Dense(32, activation='relu'),\n",
        "    tf.keras.layers.Dropout(0.3),\n",
        "    tf.keras.layers.Dense(32, activation='relu'),\n",
        "    tf.keras.layers.Dropout(0.3),\n",
        "    tf.keras.layers.Dense(units = NUM_COMPOSERS, activation='softmax')\n",
        "])\n",
        "\n",
        "# Compile the model\n",
        "lstm_exp2.compile(\n",
        "    optimizer=keras.optimizers.Adam(learning_rate=LEARNING_RATE),\n",
        "    loss=tf.keras.losses.CategoricalCrossentropy(),\n",
        "    metrics=[keras.metrics.CategoricalAccuracy(), keras.metrics.Precision(), keras.metrics.Recall(), keras.metrics.F1Score()]\n",
        ")"
      ],
      "metadata": {
        "id": "p_K2FGgS1qVU"
      },
      "execution_count": 66,
      "outputs": []
    },
    {
      "cell_type": "code",
      "source": [
        "# Train the model\n",
        "history_lstm_exp2 = lstm_exp2.fit(X_train, y_train, validation_data=(X_val,y_val), epochs=NUM_EPOCHS, batch_size=BATCH_SIZE)"
      ],
      "metadata": {
        "id": "a-B4JV3Z2UAJ",
        "outputId": "b53486a0-e121-43d5-e49f-87dde084de19",
        "colab": {
          "base_uri": "https://localhost:8080/"
        }
      },
      "execution_count": 67,
      "outputs": [
        {
          "output_type": "stream",
          "name": "stdout",
          "text": [
            "Epoch 1/25\n",
            "402/402 [==============================] - 20s 34ms/step - loss: 1.2980 - categorical_accuracy: 0.3799 - precision_16: 0.5511 - recall_16: 0.0626 - f1_score: 0.3429 - val_loss: 1.2080 - val_categorical_accuracy: 0.4568 - val_precision_16: 0.6187 - val_recall_16: 0.1151 - val_f1_score: 0.4018\n",
            "Epoch 2/25\n",
            "402/402 [==============================] - 11s 28ms/step - loss: 1.1594 - categorical_accuracy: 0.5036 - precision_16: 0.6131 - recall_16: 0.2246 - f1_score: 0.4800 - val_loss: 1.1282 - val_categorical_accuracy: 0.5065 - val_precision_16: 0.6623 - val_recall_16: 0.2184 - val_f1_score: 0.4860\n",
            "Epoch 3/25\n",
            "402/402 [==============================] - 12s 29ms/step - loss: 1.0878 - categorical_accuracy: 0.5411 - precision_16: 0.6526 - recall_16: 0.3099 - f1_score: 0.5210 - val_loss: 1.0507 - val_categorical_accuracy: 0.5619 - val_precision_16: 0.6652 - val_recall_16: 0.3734 - val_f1_score: 0.5452\n",
            "Epoch 4/25\n",
            "402/402 [==============================] - 11s 28ms/step - loss: 0.9945 - categorical_accuracy: 0.5807 - precision_16: 0.6838 - recall_16: 0.3826 - f1_score: 0.5597 - val_loss: 0.9667 - val_categorical_accuracy: 0.5930 - val_precision_16: 0.7430 - val_recall_16: 0.3653 - val_f1_score: 0.5798\n",
            "Epoch 5/25\n",
            "402/402 [==============================] - 11s 29ms/step - loss: 0.9490 - categorical_accuracy: 0.6084 - precision_16: 0.7066 - recall_16: 0.4176 - f1_score: 0.5903 - val_loss: 0.9849 - val_categorical_accuracy: 0.5837 - val_precision_16: 0.6862 - val_recall_16: 0.3864 - val_f1_score: 0.5536\n",
            "Epoch 6/25\n",
            "402/402 [==============================] - 11s 29ms/step - loss: 0.9297 - categorical_accuracy: 0.6127 - precision_16: 0.7074 - recall_16: 0.4483 - f1_score: 0.5952 - val_loss: 0.9273 - val_categorical_accuracy: 0.5974 - val_precision_16: 0.6963 - val_recall_16: 0.4381 - val_f1_score: 0.5835\n",
            "Epoch 7/25\n",
            "402/402 [==============================] - 12s 29ms/step - loss: 0.8808 - categorical_accuracy: 0.6344 - precision_16: 0.7161 - recall_16: 0.4883 - f1_score: 0.6167 - val_loss: 0.8939 - val_categorical_accuracy: 0.6210 - val_precision_16: 0.7011 - val_recall_16: 0.5065 - val_f1_score: 0.5922\n",
            "Epoch 8/25\n",
            "402/402 [==============================] - 11s 28ms/step - loss: 0.8669 - categorical_accuracy: 0.6353 - precision_16: 0.7234 - recall_16: 0.4901 - f1_score: 0.6179 - val_loss: 0.9080 - val_categorical_accuracy: 0.6254 - val_precision_16: 0.7153 - val_recall_16: 0.4487 - val_f1_score: 0.6106\n",
            "Epoch 9/25\n",
            "402/402 [==============================] - 12s 29ms/step - loss: 0.8214 - categorical_accuracy: 0.6579 - precision_16: 0.7352 - recall_16: 0.5250 - f1_score: 0.6436 - val_loss: 0.8953 - val_categorical_accuracy: 0.6372 - val_precision_16: 0.7129 - val_recall_16: 0.5115 - val_f1_score: 0.6259\n",
            "Epoch 10/25\n",
            "402/402 [==============================] - 12s 29ms/step - loss: 0.7728 - categorical_accuracy: 0.6825 - precision_16: 0.7412 - recall_16: 0.5787 - f1_score: 0.6705 - val_loss: 0.8720 - val_categorical_accuracy: 0.6465 - val_precision_16: 0.6903 - val_recall_16: 0.5812 - val_f1_score: 0.6294\n",
            "Epoch 11/25\n",
            "402/402 [==============================] - 12s 29ms/step - loss: 0.7350 - categorical_accuracy: 0.7041 - precision_16: 0.7564 - recall_16: 0.6150 - f1_score: 0.6921 - val_loss: 0.8599 - val_categorical_accuracy: 0.6472 - val_precision_16: 0.6885 - val_recall_16: 0.6092 - val_f1_score: 0.6211\n",
            "Epoch 12/25\n",
            "402/402 [==============================] - 11s 29ms/step - loss: 0.6853 - categorical_accuracy: 0.7273 - precision_16: 0.7703 - recall_16: 0.6582 - f1_score: 0.7171 - val_loss: 0.8316 - val_categorical_accuracy: 0.6646 - val_precision_16: 0.7008 - val_recall_16: 0.6179 - val_f1_score: 0.6464\n",
            "Epoch 13/25\n",
            "402/402 [==============================] - 11s 29ms/step - loss: 0.6525 - categorical_accuracy: 0.7410 - precision_16: 0.7843 - recall_16: 0.6800 - f1_score: 0.7329 - val_loss: 0.8678 - val_categorical_accuracy: 0.6540 - val_precision_16: 0.6940 - val_recall_16: 0.6055 - val_f1_score: 0.6386\n",
            "Epoch 14/25\n",
            "402/402 [==============================] - 12s 29ms/step - loss: 0.6039 - categorical_accuracy: 0.7647 - precision_16: 0.7975 - recall_16: 0.7131 - f1_score: 0.7582 - val_loss: 0.8390 - val_categorical_accuracy: 0.6801 - val_precision_16: 0.7094 - val_recall_16: 0.6503 - val_f1_score: 0.6753\n",
            "Epoch 15/25\n",
            "402/402 [==============================] - 12s 29ms/step - loss: 0.5726 - categorical_accuracy: 0.7765 - precision_16: 0.8054 - recall_16: 0.7373 - f1_score: 0.7711 - val_loss: 0.7964 - val_categorical_accuracy: 0.7001 - val_precision_16: 0.7331 - val_recall_16: 0.6565 - val_f1_score: 0.6884\n",
            "Epoch 16/25\n",
            "402/402 [==============================] - 11s 29ms/step - loss: 0.5384 - categorical_accuracy: 0.7972 - precision_16: 0.8235 - recall_16: 0.7635 - f1_score: 0.7927 - val_loss: 0.8207 - val_categorical_accuracy: 0.6976 - val_precision_16: 0.7219 - val_recall_16: 0.6721 - val_f1_score: 0.6910\n",
            "Epoch 17/25\n",
            "402/402 [==============================] - 11s 28ms/step - loss: 0.5049 - categorical_accuracy: 0.8112 - precision_16: 0.8342 - recall_16: 0.7808 - f1_score: 0.8083 - val_loss: 0.8150 - val_categorical_accuracy: 0.7044 - val_precision_16: 0.7302 - val_recall_16: 0.6839 - val_f1_score: 0.6950\n",
            "Epoch 18/25\n",
            "402/402 [==============================] - 11s 28ms/step - loss: 0.4914 - categorical_accuracy: 0.8167 - precision_16: 0.8419 - recall_16: 0.7837 - f1_score: 0.8142 - val_loss: 0.7885 - val_categorical_accuracy: 0.7150 - val_precision_16: 0.7415 - val_recall_16: 0.6783 - val_f1_score: 0.7066\n",
            "Epoch 19/25\n",
            "402/402 [==============================] - 11s 28ms/step - loss: 0.4893 - categorical_accuracy: 0.8198 - precision_16: 0.8415 - recall_16: 0.7891 - f1_score: 0.8168 - val_loss: 0.8331 - val_categorical_accuracy: 0.7050 - val_precision_16: 0.7344 - val_recall_16: 0.6795 - val_f1_score: 0.7041\n",
            "Epoch 20/25\n",
            "402/402 [==============================] - 12s 29ms/step - loss: 0.4447 - categorical_accuracy: 0.8351 - precision_16: 0.8527 - recall_16: 0.8101 - f1_score: 0.8328 - val_loss: 0.8294 - val_categorical_accuracy: 0.7175 - val_precision_16: 0.7313 - val_recall_16: 0.7063 - val_f1_score: 0.7120\n",
            "Epoch 21/25\n",
            "402/402 [==============================] - 12s 29ms/step - loss: 0.4209 - categorical_accuracy: 0.8453 - precision_16: 0.8627 - recall_16: 0.8247 - f1_score: 0.8435 - val_loss: 0.7983 - val_categorical_accuracy: 0.7162 - val_precision_16: 0.7483 - val_recall_16: 0.6901 - val_f1_score: 0.7104\n",
            "Epoch 22/25\n",
            "402/402 [==============================] - 11s 28ms/step - loss: 0.4034 - categorical_accuracy: 0.8544 - precision_16: 0.8680 - recall_16: 0.8362 - f1_score: 0.8528 - val_loss: 0.7721 - val_categorical_accuracy: 0.7218 - val_precision_16: 0.7505 - val_recall_16: 0.6982 - val_f1_score: 0.7167\n",
            "Epoch 23/25\n",
            "402/402 [==============================] - 12s 29ms/step - loss: 0.3961 - categorical_accuracy: 0.8603 - precision_16: 0.8760 - recall_16: 0.8402 - f1_score: 0.8585 - val_loss: 0.8343 - val_categorical_accuracy: 0.7156 - val_precision_16: 0.7313 - val_recall_16: 0.7013 - val_f1_score: 0.7079\n",
            "Epoch 24/25\n",
            "402/402 [==============================] - 11s 29ms/step - loss: 0.3756 - categorical_accuracy: 0.8661 - precision_16: 0.8812 - recall_16: 0.8516 - f1_score: 0.8647 - val_loss: 0.8110 - val_categorical_accuracy: 0.7324 - val_precision_16: 0.7529 - val_recall_16: 0.7206 - val_f1_score: 0.7265\n",
            "Epoch 25/25\n",
            "402/402 [==============================] - 12s 29ms/step - loss: 0.3559 - categorical_accuracy: 0.8721 - precision_16: 0.8854 - recall_16: 0.8593 - f1_score: 0.8711 - val_loss: 0.9062 - val_categorical_accuracy: 0.7119 - val_precision_16: 0.7291 - val_recall_16: 0.7001 - val_f1_score: 0.7088\n"
          ]
        }
      ]
    },
    {
      "cell_type": "code",
      "source": [
        "#plot loss\n",
        "plt.plot(history_lstm_exp2.history['loss'])\n",
        "plt.plot(history_lstm_exp2.history['val_loss'])\n",
        "plt.title('Improved LSTM 2 - Train/Val Loss')\n",
        "plt.ylabel('loss')\n",
        "plt.xlabel('epoch')\n",
        "plt.legend(['Tain', 'Val'])\n",
        "plt.show()"
      ],
      "metadata": {
        "id": "4_wHfV5s2Z7l",
        "outputId": "452020e2-6e62-445f-d746-cb4ebe0d2277",
        "colab": {
          "base_uri": "https://localhost:8080/",
          "height": 472
        }
      },
      "execution_count": 68,
      "outputs": [
        {
          "output_type": "display_data",
          "data": {
            "text/plain": [
              "<Figure size 640x480 with 1 Axes>"
            ],
            "image/png": "[encoded data removed]"
          },
          "metadata": {}
        }
      ]
    },
    {
      "cell_type": "code",
      "source": [
        "# evaluate on test data\n",
        "lstm_exp2.evaluate(X_test, y_test)"
      ],
      "metadata": {
        "id": "QTv_5r_v8zY3",
        "colab": {
          "base_uri": "https://localhost:8080/"
        },
        "outputId": "21dba303-ad56-4a05-ee49-1cdd16d75a9a"
      },
      "execution_count": 69,
      "outputs": [
        {
          "output_type": "stream",
          "name": "stdout",
          "text": [
            "51/51 [==============================] - 1s 15ms/step - loss: 0.8676 - categorical_accuracy: 0.7106 - precision_16: 0.7303 - recall_16: 0.6976 - f1_score: 0.7101\n"
          ]
        },
        {
          "output_type": "execute_result",
          "data": {
            "text/plain": [
              "[0.8676087856292725,\n",
              " 0.7106409668922424,\n",
              " 0.7302931547164917,\n",
              " 0.6975731253623962,\n",
              " array([0.82822084, 0.61662817, 0.79131883, 0.60440993], dtype=float32)]"
            ]
          },
          "metadata": {},
          "execution_count": 69
        }
      ]
    },
    {
      "cell_type": "code",
      "source": [],
      "metadata": {
        "id": "fsShG3fBEtcp"
      },
      "execution_count": null,
      "outputs": []
    }
  ],
  "metadata": {
    "language_info": {
      "name": "python"
    },
    "colab": {
      "provenance": [],
      "machine_shape": "hm",
      "gpuType": "T4"
    },
    "kernelspec": {
      "name": "python3",
      "display_name": "Python 3"
    },
    "accelerator": "GPU"
  },
  "nbformat": 4,
  "nbformat_minor": 0
}