{
  "cells": [
    {
      "cell_type": "markdown",
      "metadata": {
        "id": "AXFl2FWx6LFd"
      },
      "source": [
        "# Predicting Composer of a Musical Piece\n",
        "## AAI-511 Team 7 Final Project\n",
        "\n",
        "Team 7:  Tyler Foreman\n",
        "\n",
        "University of San Diego, Applied Artificial Intelligence\n",
        "\n",
        "Date:  August 12, 2024\n",
        "\n",
        "GitHub Repository: https://github.com/t4ai/aai-511-final-project"
      ]
    },
    {
      "cell_type": "code",
      "source": [
        "!pip install pretty_midi"
      ],
      "metadata": {
        "id": "FHizMHGjiiRV",
        "colab": {
          "base_uri": "https://localhost:8080/"
        },
        "outputId": "e2c5ce9b-181c-40f6-fc0c-141f72907da3"
      },
      "execution_count": 1,
      "outputs": [
        {
          "output_type": "stream",
          "name": "stdout",
          "text": [
            "Collecting pretty_midi\n",
            "  Downloading pretty_midi-0.2.10.tar.gz (5.6 MB)\n",
            "\u001b[2K     \u001b[90m━━━━━━━━━━━━━━━━━━━━━━━━━━━━━━━━━━━━━━━━\u001b[0m \u001b[32m5.6/5.6 MB\u001b[0m \u001b[31m31.2 MB/s\u001b[0m eta \u001b[36m0:00:00\u001b[0m\n",
            "\u001b[?25h  Preparing metadata (setup.py) ... \u001b[?25l\u001b[?25hdone\n",
            "Requirement already satisfied: numpy>=1.7.0 in /usr/local/lib/python3.10/dist-packages (from pretty_midi) (1.25.2)\n",
            "Collecting mido>=1.1.16 (from pretty_midi)\n",
            "  Downloading mido-1.3.2-py3-none-any.whl (54 kB)\n",
            "\u001b[2K     \u001b[90m━━━━━━━━━━━━━━━━━━━━━━━━━━━━━━━━━━━━━━━━\u001b[0m \u001b[32m54.6/54.6 kB\u001b[0m \u001b[31m9.1 MB/s\u001b[0m eta \u001b[36m0:00:00\u001b[0m\n",
            "\u001b[?25hRequirement already satisfied: six in /usr/local/lib/python3.10/dist-packages (from pretty_midi) (1.16.0)\n",
            "Collecting packaging~=23.1 (from mido>=1.1.16->pretty_midi)\n",
            "  Downloading packaging-23.2-py3-none-any.whl (53 kB)\n",
            "\u001b[2K     \u001b[90m━━━━━━━━━━━━━━━━━━━━━━━━━━━━━━━━━━━━━━━━\u001b[0m \u001b[32m53.0/53.0 kB\u001b[0m \u001b[31m8.4 MB/s\u001b[0m eta \u001b[36m0:00:00\u001b[0m\n",
            "\u001b[?25hBuilding wheels for collected packages: pretty_midi\n",
            "  Building wheel for pretty_midi (setup.py) ... \u001b[?25l\u001b[?25hdone\n",
            "  Created wheel for pretty_midi: filename=pretty_midi-0.2.10-py3-none-any.whl size=5592289 sha256=b277d785c53f28c970a6ea579c60887a41c1b49c6f7a4963819a8cecbf0ee47f\n",
            "  Stored in directory: /root/.cache/pip/wheels/cd/a5/30/7b8b7f58709f5150f67f98fde4b891ebf0be9ef07a8af49f25\n",
            "Successfully built pretty_midi\n",
            "Installing collected packages: packaging, mido, pretty_midi\n",
            "  Attempting uninstall: packaging\n",
            "    Found existing installation: packaging 24.1\n",
            "    Uninstalling packaging-24.1:\n",
            "      Successfully uninstalled packaging-24.1\n",
            "Successfully installed mido-1.3.2 packaging-23.2 pretty_midi-0.2.10\n"
          ]
        }
      ]
    },
    {
      "cell_type": "code",
      "execution_count": 69,
      "metadata": {
        "id": "Fejk4xer6LFh"
      },
      "outputs": [],
      "source": [
        "import numpy as np\n",
        "import pandas as pd\n",
        "import matplotlib.pyplot as plt\n",
        "import seaborn as sns\n",
        "import tensorflow as tf\n",
        "from tensorflow import keras\n",
        "from sklearn.preprocessing import StandardScaler\n",
        "from sklearn.preprocessing import LabelEncoder\n",
        "from sklearn.model_selection import train_test_split\n",
        "\n",
        "from random import sample\n",
        "import os\n",
        "import shutil\n",
        "import pretty_midi"
      ]
    },
    {
      "cell_type": "markdown",
      "source": [
        "## Data Organization and Exploratory Analysis\n",
        "\n",
        "1.  Extract music files for only the composers of interest - remove all others\n",
        "2.  Conduct EDA on the target data:\n",
        "  - Undersand the nature of the files and formats\n",
        "  - Evaluate the distribution of samples by composer/class\n",
        "  - Evaluate the length of the music tracks (in time)\n",
        "  - Identify any preparation or augmentation tasks that may be necessary"
      ],
      "metadata": {
        "id": "-Y09okub8tc3"
      }
    },
    {
      "cell_type": "code",
      "source": [
        "# mount google drive\n",
        "from google.colab import drive\n",
        "drive.mount('/content/drive')"
      ],
      "metadata": {
        "id": "0IrWse0G8m22",
        "outputId": "5a5fbe27-4058-4e35-9c39-c98f0ba5396d",
        "colab": {
          "base_uri": "https://localhost:8080/"
        }
      },
      "execution_count": 3,
      "outputs": [
        {
          "output_type": "stream",
          "name": "stdout",
          "text": [
            "Mounted at /content/drive\n"
          ]
        }
      ]
    },
    {
      "cell_type": "code",
      "source": [
        "# setup target data locations\n",
        "root_data_path = '/content/drive/MyDrive/USD/datasets/composers_music'\n",
        "target_data_path = '/content/drive/MyDrive/USD/datasets/composers_music/target'"
      ],
      "metadata": {
        "id": "bsL7aQ8i9USK"
      },
      "execution_count": 4,
      "outputs": []
    },
    {
      "cell_type": "code",
      "source": [
        "# setup data prep parameters\n",
        "SAMPLE_FREQUENCY = 20\n",
        "\n",
        "# helper function for moving and flattening directories by composer\n",
        "def move_and_flatten(composer_name):\n",
        "  # setup destination\n",
        "  target_path = target_data_path + '/' + composer_name\n",
        "  os.makedirs(target_path, exist_ok=True)\n",
        "\n",
        "  # get source dir and subdirs\n",
        "  composer_path = root_data_path + '/midiclassics/' + composer_name\n",
        "  composer_dirs = [x[0] for x in os.walk(composer_path)]\n",
        "\n",
        "  # traverse directories\n",
        "  num_files = 0\n",
        "  for dir in composer_dirs:\n",
        "    for filename in os.listdir(dir):\n",
        "      if os.path.isfile(os.path.join(dir, filename)):\n",
        "        shutil.copyfile(dir + '/' + filename, target_path + '/' + filename)\n",
        "        num_files += 1\n",
        "  print(f'Moved {num_files} files for {composer_name}')\n",
        "\n",
        "# helper function for loading piano rolls for a composer\n",
        "def load_piano_rolls(composer_name, frequency):\n",
        "  piano_rolls = []\n",
        "  target_path = target_data_path + '/' + composer_name\n",
        "  for filename in os.listdir(target_path):\n",
        "    if filename.lower().endswith('.mid'):\n",
        "      try:\n",
        "        midi = pretty_midi.PrettyMIDI(target_path + '/' + filename)\n",
        "        midi.remove_invalid_notes()\n",
        "        piano_rolls.append(midi.get_piano_roll(fs=frequency))\n",
        "      except Exception as e:\n",
        "        print(f'Error reading {filename}: {e}')\n",
        "  return piano_rolls"
      ],
      "metadata": {
        "id": "o75LriLa_q-1"
      },
      "execution_count": 5,
      "outputs": []
    },
    {
      "cell_type": "code",
      "source": [
        "# extract only the files from our taget 4 composers: Bach, Beethoven, Mozart, Chopin\n",
        "os.makedirs(target_data_path, exist_ok=True)\n",
        "\n",
        "move_and_flatten('Bach')\n",
        "move_and_flatten('Beethoven')\n",
        "move_and_flatten('Mozart')\n",
        "move_and_flatten('Chopin')"
      ],
      "metadata": {
        "id": "_SMhPNBa93yF",
        "outputId": "e6b407ff-2021-45b9-c137-f2994f5856e7",
        "colab": {
          "base_uri": "https://localhost:8080/"
        }
      },
      "execution_count": null,
      "outputs": [
        {
          "output_type": "stream",
          "name": "stdout",
          "text": [
            "Moved 1025 files for Bach\n",
            "Moved 219 files for Beethoven\n",
            "Moved 257 files for Mozart\n",
            "Moved 136 files for Chopin\n"
          ]
        }
      ]
    },
    {
      "cell_type": "code",
      "source": [
        "# visualize class balances\n",
        "class_samples = {\"Bach\": 1025, \"Beethoven\": 219, \"Mozart\": 257, \"Chopin\": 136}\n",
        "plt.bar(class_samples.keys(), class_samples.values())\n",
        "plt.xlabel('Composer')\n",
        "plt.ylabel('Number of Samples')\n",
        "plt.title('Class Distribution')\n",
        "plt.show()"
      ],
      "metadata": {
        "id": "Lui6WXpHB0JS",
        "outputId": "208de345-e48c-427c-d66a-1b1dd19016ba",
        "colab": {
          "base_uri": "https://localhost:8080/",
          "height": 472
        }
      },
      "execution_count": null,
      "outputs": [
        {
          "output_type": "display_data",
          "data": {
            "text/plain": [
              "<Figure size 640x480 with 1 Axes>"
            ],
            "image/png": "[encoded data removed]"
          },
          "metadata": {}
        }
      ]
    },
    {
      "cell_type": "code",
      "source": [
        "# get the distribution of sequence lengths of the pieces (in time)\n",
        "bach_data = load_piano_rolls('Bach', SAMPLE_FREQUENCY)\n",
        "beethoven_data = load_piano_rolls('Beethoven', SAMPLE_FREQUENCY)\n",
        "mozart_data = load_piano_rolls('Mozart', SAMPLE_FREQUENCY)\n",
        "chopin_data = load_piano_rolls('Chopin', SAMPLE_FREQUENCY)"
      ],
      "metadata": {
        "id": "jiGHqXaRiL2p",
        "outputId": "03faff76-4c19-4cf3-d4de-627d7e5dedb6",
        "colab": {
          "base_uri": "https://localhost:8080/"
        }
      },
      "execution_count": 6,
      "outputs": [
        {
          "output_type": "stream",
          "name": "stderr",
          "text": [
            "/usr/local/lib/python3.10/dist-packages/pretty_midi/pretty_midi.py:100: RuntimeWarning: Tempo, Key or Time signature change events found on non-zero tracks.  This is not a valid type 0 or type 1 MIDI file.  Tempo, Key or Time Signature may be wrong.\n",
            "  warnings.warn(\n"
          ]
        },
        {
          "output_type": "stream",
          "name": "stdout",
          "text": [
            "Error reading Anhang 14-3.mid: Could not decode key with 3 flats and mode 255\n",
            "Error reading K281 Piano Sonata n03 3mov.mid: Could not decode key with 2 flats and mode 2\n"
          ]
        }
      ]
    },
    {
      "cell_type": "code",
      "source": [
        "# build length distribution\n",
        "length_distributions = []\n",
        "def append_lengths(data):\n",
        "  for i in range(len(data)):\n",
        "    length_distributions.append(data[i].shape[1])"
      ],
      "metadata": {
        "id": "wH3XKSIo_KY8"
      },
      "execution_count": 7,
      "outputs": []
    },
    {
      "cell_type": "code",
      "source": [
        "# concatenate all classes\n",
        "append_lengths(bach_data)\n",
        "append_lengths(beethoven_data)\n",
        "append_lengths(mozart_data)\n",
        "append_lengths(chopin_data)"
      ],
      "metadata": {
        "id": "X867QebDGtp3"
      },
      "execution_count": null,
      "outputs": []
    },
    {
      "cell_type": "code",
      "source": [
        "# plot the distribution\n",
        "sns.histplot(length_distributions)\n",
        "plt.xlabel('Sequence Length')\n",
        "plt.ylabel('Frequency')\n",
        "plt.title('Distribution of Sequence Lengths')\n",
        "plt.show()"
      ],
      "metadata": {
        "id": "9328x-AG_iix",
        "outputId": "fe1e790a-76a8-4701-cf31-b6a0e366db9a",
        "colab": {
          "base_uri": "https://localhost:8080/",
          "height": 472
        }
      },
      "execution_count": null,
      "outputs": [
        {
          "output_type": "display_data",
          "data": {
            "text/plain": [
              "<Figure size 640x480 with 1 Axes>"
            ],
            "image/png": "[encoded data removed]"
          },
          "metadata": {}
        }
      ]
    },
    {
      "cell_type": "code",
      "source": [
        "# get descriptive statistics for sequence lengths\n",
        "stats_df = pd.DataFrame(length_distributions)\n",
        "stats_df.describe()"
      ],
      "metadata": {
        "id": "mAq8jSaj8DZc",
        "outputId": "2ce4f614-36b6-459e-f05c-72699073e77e",
        "colab": {
          "base_uri": "https://localhost:8080/",
          "height": 300
        }
      },
      "execution_count": null,
      "outputs": [
        {
          "output_type": "execute_result",
          "data": {
            "text/plain": [
              "                   0\n",
              "count    1628.000000\n",
              "mean     4838.340909\n",
              "std      5900.262705\n",
              "min       350.000000\n",
              "25%      1019.750000\n",
              "50%      2647.000000\n",
              "75%      6518.250000\n",
              "max    103362.000000"
            ],
            "text/html": [
              "\n",
              "  <div id=\"df-c5cb299c-1e53-421c-9020-745711547f7b\" class=\"colab-df-container\">\n",
              "    <div>\n",
              "<style scoped>\n",
              "    .dataframe tbody tr th:only-of-type {\n",
              "        vertical-align: middle;\n",
              "    }\n",
              "\n",
              "    .dataframe tbody tr th {\n",
              "        vertical-align: top;\n",
              "    }\n",
              "\n",
              "    .dataframe thead th {\n",
              "        text-align: right;\n",
              "    }\n",
              "</style>\n",
              "<table border=\"1\" class=\"dataframe\">\n",
              "  <thead>\n",
              "    <tr style=\"text-align: right;\">\n",
              "      <th></th>\n",
              "      <th>0</th>\n",
              "    </tr>\n",
              "  </thead>\n",
              "  <tbody>\n",
              "    <tr>\n",
              "      <th>count</th>\n",
              "      <td>1628.000000</td>\n",
              "    </tr>\n",
              "    <tr>\n",
              "      <th>mean</th>\n",
              "      <td>4838.340909</td>\n",
              "    </tr>\n",
              "    <tr>\n",
              "      <th>std</th>\n",
              "      <td>5900.262705</td>\n",
              "    </tr>\n",
              "    <tr>\n",
              "      <th>min</th>\n",
              "      <td>350.000000</td>\n",
              "    </tr>\n",
              "    <tr>\n",
              "      <th>25%</th>\n",
              "      <td>1019.750000</td>\n",
              "    </tr>\n",
              "    <tr>\n",
              "      <th>50%</th>\n",
              "      <td>2647.000000</td>\n",
              "    </tr>\n",
              "    <tr>\n",
              "      <th>75%</th>\n",
              "      <td>6518.250000</td>\n",
              "    </tr>\n",
              "    <tr>\n",
              "      <th>max</th>\n",
              "      <td>103362.000000</td>\n",
              "    </tr>\n",
              "  </tbody>\n",
              "</table>\n",
              "</div>\n",
              "    <div class=\"colab-df-buttons\">\n",
              "\n",
              "  <div class=\"colab-df-container\">\n",
              "    <button class=\"colab-df-convert\" onclick=\"convertToInteractive('df-c5cb299c-1e53-421c-9020-745711547f7b')\"\n",
              "            title=\"Convert this dataframe to an interactive table.\"\n",
              "            style=\"display:none;\">\n",
              "\n",
              "  <svg xmlns=\"http://www.w3.org/2000/svg\" height=\"24px\" viewBox=\"0 -960 960 960\">\n",
              "    <path d=\"M120-120v-720h720v720H120Zm60-500h600v-160H180v160Zm220 220h160v-160H400v160Zm0 220h160v-160H400v160ZM180-400h160v-160H180v160Zm440 0h160v-160H620v160ZM180-180h160v-160H180v160Zm440 0h160v-160H620v160Z\"/>\n",
              "  </svg>\n",
              "    </button>\n",
              "\n",
              "  <style>\n",
              "    .colab-df-container {\n",
              "      display:flex;\n",
              "      gap: 12px;\n",
              "    }\n",
              "\n",
              "    .colab-df-convert {\n",
              "      background-color: #E8F0FE;\n",
              "      border: none;\n",
              "      border-radius: 50%;\n",
              "      cursor: pointer;\n",
              "      display: none;\n",
              "      fill: #1967D2;\n",
              "      height: 32px;\n",
              "      padding: 0 0 0 0;\n",
              "      width: 32px;\n",
              "    }\n",
              "\n",
              "    .colab-df-convert:hover {\n",
              "      background-color: #E2EBFA;\n",
              "      box-shadow: 0px 1px 2px rgba(60, 64, 67, 0.3), 0px 1px 3px 1px rgba(60, 64, 67, 0.15);\n",
              "      fill: #174EA6;\n",
              "    }\n",
              "\n",
              "    .colab-df-buttons div {\n",
              "      margin-bottom: 4px;\n",
              "    }\n",
              "\n",
              "    [theme=dark] .colab-df-convert {\n",
              "      background-color: #3B4455;\n",
              "      fill: #D2E3FC;\n",
              "    }\n",
              "\n",
              "    [theme=dark] .colab-df-convert:hover {\n",
              "      background-color: #434B5C;\n",
              "      box-shadow: 0px 1px 3px 1px rgba(0, 0, 0, 0.15);\n",
              "      filter: drop-shadow(0px 1px 2px rgba(0, 0, 0, 0.3));\n",
              "      fill: #FFFFFF;\n",
              "    }\n",
              "  </style>\n",
              "\n",
              "    <script>\n",
              "      const buttonEl =\n",
              "        document.querySelector('#df-c5cb299c-1e53-421c-9020-745711547f7b button.colab-df-convert');\n",
              "      buttonEl.style.display =\n",
              "        google.colab.kernel.accessAllowed ? 'block' : 'none';\n",
              "\n",
              "      async function convertToInteractive(key) {\n",
              "        const element = document.querySelector('#df-c5cb299c-1e53-421c-9020-745711547f7b');\n",
              "        const dataTable =\n",
              "          await google.colab.kernel.invokeFunction('convertToInteractive',\n",
              "                                                    [key], {});\n",
              "        if (!dataTable) return;\n",
              "\n",
              "        const docLinkHtml = 'Like what you see? Visit the ' +\n",
              "          '<a target=\"_blank\" href=https://colab.research.google.com/notebooks/data_table.ipynb>data table notebook</a>'\n",
              "          + ' to learn more about interactive tables.';\n",
              "        element.innerHTML = '';\n",
              "        dataTable['output_type'] = 'display_data';\n",
              "        await google.colab.output.renderOutput(dataTable, element);\n",
              "        const docLink = document.createElement('div');\n",
              "        docLink.innerHTML = docLinkHtml;\n",
              "        element.appendChild(docLink);\n",
              "      }\n",
              "    </script>\n",
              "  </div>\n",
              "\n",
              "\n",
              "<div id=\"df-5c8e1106-955f-4253-8e48-2fbcc392f8e7\">\n",
              "  <button class=\"colab-df-quickchart\" onclick=\"quickchart('df-5c8e1106-955f-4253-8e48-2fbcc392f8e7')\"\n",
              "            title=\"Suggest charts\"\n",
              "            style=\"display:none;\">\n",
              "\n",
              "<svg xmlns=\"http://www.w3.org/2000/svg\" height=\"24px\"viewBox=\"0 0 24 24\"\n",
              "     width=\"24px\">\n",
              "    <g>\n",
              "        <path d=\"M19 3H5c-1.1 0-2 .9-2 2v14c0 1.1.9 2 2 2h14c1.1 0 2-.9 2-2V5c0-1.1-.9-2-2-2zM9 17H7v-7h2v7zm4 0h-2V7h2v10zm4 0h-2v-4h2v4z\"/>\n",
              "    </g>\n",
              "</svg>\n",
              "  </button>\n",
              "\n",
              "<style>\n",
              "  .colab-df-quickchart {\n",
              "      --bg-color: #E8F0FE;\n",
              "      --fill-color: #1967D2;\n",
              "      --hover-bg-color: #E2EBFA;\n",
              "      --hover-fill-color: #174EA6;\n",
              "      --disabled-fill-color: #AAA;\n",
              "      --disabled-bg-color: #DDD;\n",
              "  }\n",
              "\n",
              "  [theme=dark] .colab-df-quickchart {\n",
              "      --bg-color: #3B4455;\n",
              "      --fill-color: #D2E3FC;\n",
              "      --hover-bg-color: #434B5C;\n",
              "      --hover-fill-color: #FFFFFF;\n",
              "      --disabled-bg-color: #3B4455;\n",
              "      --disabled-fill-color: #666;\n",
              "  }\n",
              "\n",
              "  .colab-df-quickchart {\n",
              "    background-color: var(--bg-color);\n",
              "    border: none;\n",
              "    border-radius: 50%;\n",
              "    cursor: pointer;\n",
              "    display: none;\n",
              "    fill: var(--fill-color);\n",
              "    height: 32px;\n",
              "    padding: 0;\n",
              "    width: 32px;\n",
              "  }\n",
              "\n",
              "  .colab-df-quickchart:hover {\n",
              "    background-color: var(--hover-bg-color);\n",
              "    box-shadow: 0 1px 2px rgba(60, 64, 67, 0.3), 0 1px 3px 1px rgba(60, 64, 67, 0.15);\n",
              "    fill: var(--button-hover-fill-color);\n",
              "  }\n",
              "\n",
              "  .colab-df-quickchart-complete:disabled,\n",
              "  .colab-df-quickchart-complete:disabled:hover {\n",
              "    background-color: var(--disabled-bg-color);\n",
              "    fill: var(--disabled-fill-color);\n",
              "    box-shadow: none;\n",
              "  }\n",
              "\n",
              "  .colab-df-spinner {\n",
              "    border: 2px solid var(--fill-color);\n",
              "    border-color: transparent;\n",
              "    border-bottom-color: var(--fill-color);\n",
              "    animation:\n",
              "      spin 1s steps(1) infinite;\n",
              "  }\n",
              "\n",
              "  @keyframes spin {\n",
              "    0% {\n",
              "      border-color: transparent;\n",
              "      border-bottom-color: var(--fill-color);\n",
              "      border-left-color: var(--fill-color);\n",
              "    }\n",
              "    20% {\n",
              "      border-color: transparent;\n",
              "      border-left-color: var(--fill-color);\n",
              "      border-top-color: var(--fill-color);\n",
              "    }\n",
              "    30% {\n",
              "      border-color: transparent;\n",
              "      border-left-color: var(--fill-color);\n",
              "      border-top-color: var(--fill-color);\n",
              "      border-right-color: var(--fill-color);\n",
              "    }\n",
              "    40% {\n",
              "      border-color: transparent;\n",
              "      border-right-color: var(--fill-color);\n",
              "      border-top-color: var(--fill-color);\n",
              "    }\n",
              "    60% {\n",
              "      border-color: transparent;\n",
              "      border-right-color: var(--fill-color);\n",
              "    }\n",
              "    80% {\n",
              "      border-color: transparent;\n",
              "      border-right-color: var(--fill-color);\n",
              "      border-bottom-color: var(--fill-color);\n",
              "    }\n",
              "    90% {\n",
              "      border-color: transparent;\n",
              "      border-bottom-color: var(--fill-color);\n",
              "    }\n",
              "  }\n",
              "</style>\n",
              "\n",
              "  <script>\n",
              "    async function quickchart(key) {\n",
              "      const quickchartButtonEl =\n",
              "        document.querySelector('#' + key + ' button');\n",
              "      quickchartButtonEl.disabled = true;  // To prevent multiple clicks.\n",
              "      quickchartButtonEl.classList.add('colab-df-spinner');\n",
              "      try {\n",
              "        const charts = await google.colab.kernel.invokeFunction(\n",
              "            'suggestCharts', [key], {});\n",
              "      } catch (error) {\n",
              "        console.error('Error during call to suggestCharts:', error);\n",
              "      }\n",
              "      quickchartButtonEl.classList.remove('colab-df-spinner');\n",
              "      quickchartButtonEl.classList.add('colab-df-quickchart-complete');\n",
              "    }\n",
              "    (() => {\n",
              "      let quickchartButtonEl =\n",
              "        document.querySelector('#df-5c8e1106-955f-4253-8e48-2fbcc392f8e7 button');\n",
              "      quickchartButtonEl.style.display =\n",
              "        google.colab.kernel.accessAllowed ? 'block' : 'none';\n",
              "    })();\n",
              "  </script>\n",
              "</div>\n",
              "\n",
              "    </div>\n",
              "  </div>\n"
            ],
            "application/vnd.google.colaboratory.intrinsic+json": {
              "type": "dataframe",
              "summary": "{\n  \"name\": \"stats_df\",\n  \"rows\": 8,\n  \"fields\": [\n    {\n      \"column\": 0,\n      \"properties\": {\n        \"dtype\": \"number\",\n        \"std\": 35461.086223710685,\n        \"min\": 350.0,\n        \"max\": 103362.0,\n        \"num_unique_values\": 8,\n        \"samples\": [\n          4838.340909090909,\n          2647.0,\n          1628.0\n        ],\n        \"semantic_type\": \"\",\n        \"description\": \"\"\n      }\n    }\n  ]\n}"
            }
          },
          "metadata": {},
          "execution_count": 18
        }
      ]
    },
    {
      "cell_type": "markdown",
      "source": [
        "#### Analysis\n",
        "\n",
        "There is a significant class imbalance, where Bach pieces far outweigh the number of pieces by the other composers.  Some balancing will be required - likely starting with using a subset of the Bach pieces.\n",
        "\n",
        "There is also a wide range of sequence values.  Some preparation tasks will likely be required to normalize these to a standard sequence length for the model.  We can use the descriptive statistics to determine this - possibly breaking the larger tracks into multiple samples, each with a smaller sequence length."
      ],
      "metadata": {
        "id": "j4uQfVvBngt2"
      }
    },
    {
      "cell_type": "markdown",
      "source": [
        "## Data Preparation\n",
        "\n",
        "1.  Fix the class imbalance issue by downsampling the over-represented class (Bach)\n",
        "2.  Process the tracks into smaller, normalized sequence lengths\n",
        "3.  Format the dataset into samples and labels suitable for model input\n",
        "4.  Split the result into train/test/val"
      ],
      "metadata": {
        "id": "dgzAMg3jop8e"
      }
    },
    {
      "cell_type": "code",
      "source": [
        "# set a normalized sequence length to 1 min/60 s worth of samples\n",
        "NORM_SEQUENCE_LENGTH = SAMPLE_FREQUENCY * 60\n",
        "\n",
        "# helper function to pad sequences not quite long enough\n",
        "def zero_pad(seq, x, missing):\n",
        "\tright = np.zeros((x, missing))\n",
        "\treturn np.hstack((seq,right))\n",
        "\n",
        "# helper function to process track into sequences of normalized length\n",
        "def process_track_to_sequences(track):\n",
        "  x,y = track.shape\n",
        "  #print(f\"track shape:\", track.shape)\n",
        "  sequences = []\n",
        "  if(y < NORM_SEQUENCE_LENGTH):\n",
        "    sequence = zero_pad(track, x, NORM_SEQUENCE_LENGTH-y)\n",
        "    #print(f\"short sequence len:\", sequence.shape)\n",
        "    sequences.append(sequence)\n",
        "  else:\n",
        "    num_sequences = int(np.ceil(y / NORM_SEQUENCE_LENGTH))\n",
        "    for i in range(num_sequences):\n",
        "      start = i * NORM_SEQUENCE_LENGTH\n",
        "      if start + NORM_SEQUENCE_LENGTH > y:\n",
        "        sequence = track[:,start:y]\n",
        "        zp = zero_pad(sequence, x, (start + NORM_SEQUENCE_LENGTH - y))\n",
        "        #print(f\"zp sequence len:\", zp.shape)\n",
        "        sequences.append(zp)\n",
        "      else:\n",
        "        end = start + NORM_SEQUENCE_LENGTH\n",
        "        sequence = track[:,start:end]\n",
        "        #print(f\"sequence len:\", sequence.shape)\n",
        "        sequences.append(sequence)\n",
        "\n",
        "  return sequences\n",
        "\n",
        "# helper function to process all tracks for a composer into sequences\n",
        "def process_composer_sequences(composer_data):\n",
        "  composer_sequences = []\n",
        "  for i in range(len(composer_data)):\n",
        "    sequences = process_track_to_sequences(composer_data[i])\n",
        "    for seq in sequences:\n",
        "      #print(seq.shape)\n",
        "      composer_sequences.append(seq)\n",
        "  return composer_sequences"
      ],
      "metadata": {
        "id": "OOTaktN2s4Qc"
      },
      "execution_count": 49,
      "outputs": []
    },
    {
      "cell_type": "code",
      "source": [
        "# process data into sequences for each composer\n",
        "bach_sequences = process_composer_sequences(bach_data)\n",
        "beethoven_sequences = process_composer_sequences(beethoven_data)\n",
        "mozart_sequences = process_composer_sequences(mozart_data)\n",
        "chopin_sequences = process_composer_sequences(chopin_data)"
      ],
      "metadata": {
        "id": "46aVyNvwyLOo"
      },
      "execution_count": 50,
      "outputs": []
    },
    {
      "cell_type": "code",
      "source": [
        "# display sequence lenghths:\n",
        "print(f'Bach: {len(bach_sequences)}')\n",
        "print(f'Beethoven: {len(beethoven_sequences)}')\n",
        "print(f'Mozart: {len(mozart_sequences)}')\n",
        "print(f'Chopin: {len(chopin_sequences)}')"
      ],
      "metadata": {
        "id": "0W9KrkqptcON",
        "colab": {
          "base_uri": "https://localhost:8080/"
        },
        "outputId": "b0a0abb1-8e3e-4c3c-be78-b48af3157aad"
      },
      "execution_count": 52,
      "outputs": [
        {
          "output_type": "stream",
          "name": "stdout",
          "text": [
            "Bach: 3109\n",
            "Beethoven: 1823\n",
            "Mozart: 1832\n",
            "Chopin: 568\n"
          ]
        }
      ]
    },
    {
      "cell_type": "code",
      "source": [
        "#randomly downsample Bach sequences\n",
        "#bach_sequences = sample(bach_sequences, 4000)"
      ],
      "metadata": {
        "id": "JGN_d0Wgy9Pj"
      },
      "execution_count": 44,
      "outputs": []
    },
    {
      "cell_type": "code",
      "source": [
        "# visualize class balances\n",
        "class_samples = {\"Bach\": len(bach_sequences), \"Beethoven\": len(beethoven_sequences), \"Mozart\": len(mozart_sequences), \"Chopin\": len(chopin_sequences)}\n",
        "plt.bar(class_samples.keys(), class_samples.values())\n",
        "plt.xlabel('Composer')\n",
        "plt.ylabel('Number of Samples')\n",
        "plt.title('Class Distribution')\n",
        "plt.show()"
      ],
      "metadata": {
        "id": "a-w9HTaYzvha",
        "colab": {
          "base_uri": "https://localhost:8080/",
          "height": 472
        },
        "outputId": "a8b85eea-b282-4d21-ef93-b7a750c0d8e3"
      },
      "execution_count": 53,
      "outputs": [
        {
          "output_type": "display_data",
          "data": {
            "text/plain": [
              "<Figure size 640x480 with 1 Axes>"
            ],
            "image/png": "[encoded data removed]"
          },
          "metadata": {}
        }
      ]
    },
    {
      "cell_type": "code",
      "source": [
        "# create labels\n",
        "bach_labels = ['bach'] * len(bach_sequences)\n",
        "beethoven_labels = ['beethoven'] * len(beethoven_sequences)\n",
        "mozart_labels = ['mozart'] * len(mozart_sequences)\n",
        "chopin_labels = ['chopin'] * len(chopin_sequences)"
      ],
      "metadata": {
        "id": "2BPrywwV__dE"
      },
      "execution_count": 57,
      "outputs": []
    },
    {
      "cell_type": "code",
      "source": [
        "# next stack the sequences into single list\n",
        "X = np.concatenate((bach_sequences, beethoven_sequences, mozart_sequences, chopin_sequences))\n",
        "y = np.concatenate((bach_labels, beethoven_labels, mozart_labels, chopin_labels))\n"
      ],
      "metadata": {
        "id": "nQQbLJiLCWg1"
      },
      "execution_count": 59,
      "outputs": []
    },
    {
      "cell_type": "code",
      "source": [
        "# shuffle the dataset\n",
        "indices = np.arange(X.shape[0])\n",
        "np.random.shuffle(indices)\n",
        "\n",
        "X = X[indices]\n",
        "y = y[indices]"
      ],
      "metadata": {
        "id": "JDw5NMRADY6r"
      },
      "execution_count": 67,
      "outputs": []
    },
    {
      "cell_type": "code",
      "source": [
        "# label encode the labels\n",
        "le = LabelEncoder()\n",
        "y = le.fit_transform(y)\n",
        "y"
      ],
      "metadata": {
        "id": "0laeX-EDDiqN",
        "outputId": "21ab6b54-0e04-4f55-9f2b-45abdd5d7cae",
        "colab": {
          "base_uri": "https://localhost:8080/"
        }
      },
      "execution_count": 70,
      "outputs": [
        {
          "output_type": "execute_result",
          "data": {
            "text/plain": [
              "array([3, 3, 0, ..., 0, 0, 0])"
            ]
          },
          "metadata": {},
          "execution_count": 70
        }
      ]
    },
    {
      "cell_type": "code",
      "source": [
        "# split into train/test/val\n",
        "TRAIN_SPLIT = 0.8\n",
        "TEST_VAL_SPLIT = 0.1\n",
        "TOTAL_LEN = len(X)\n",
        "\n",
        "# train data\n",
        "X_train = X[:int(TOTAL_LEN * TRAIN_SPLIT)]\n",
        "y_train = y[:int(TOTAL_LEN * TRAIN_SPLIT)]\n",
        "\n",
        "# val data\n",
        "X_val = X[int(TOTAL_LEN * TRAIN_SPLIT):int(TOTAL_LEN * (TRAIN_SPLIT + TEST_VAL_SPLIT))]\n",
        "y_val = y[int(TOTAL_LEN * TRAIN_SPLIT):int(TOTAL_LEN * (TRAIN_SPLIT + TEST_VAL_SPLIT))]\n",
        "\n",
        "# test data\n",
        "X_test = X[int(TOTAL_LEN * (TRAIN_SPLIT + TEST_VAL_SPLIT)):]\n",
        "y_test = y[int(TOTAL_LEN * (TRAIN_SPLIT + TEST_VAL_SPLIT)):]"
      ],
      "metadata": {
        "id": "41LWeb2gEWAw"
      },
      "execution_count": 71,
      "outputs": []
    },
    {
      "cell_type": "code",
      "source": [],
      "metadata": {
        "id": "8ZoSkPn0IiNF"
      },
      "execution_count": null,
      "outputs": []
    }
  ],
  "metadata": {
    "language_info": {
      "name": "python"
    },
    "colab": {
      "provenance": [],
      "machine_shape": "hm"
    },
    "kernelspec": {
      "name": "python3",
      "display_name": "Python 3"
    }
  },
  "nbformat": 4,
  "nbformat_minor": 0
}